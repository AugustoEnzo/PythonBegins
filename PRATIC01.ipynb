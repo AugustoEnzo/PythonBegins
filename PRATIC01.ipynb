{
  "nbformat": 4,
  "nbformat_minor": 0,
  "metadata": {
    "colab": {
      "name": "PRATIC01.ipynb",
      "provenance": [],
      "collapsed_sections": [],
      "authorship_tag": "ABX9TyPkf3Hyx7iu3hdMxlDIHbae",
      "include_colab_link": true
    },
    "kernelspec": {
      "name": "python3",
      "display_name": "Python 3"
    },
    "language_info": {
      "name": "python"
    }
  },
  "cells": [
    {
      "cell_type": "markdown",
      "metadata": {
        "id": "view-in-github",
        "colab_type": "text"
      },
      "source": [
        "<a href=\"https://colab.research.google.com/github/Enz-Lima/PythonBegins/blob/main/PRATIC01.ipynb\" target=\"_parent\"><img src=\"https://colab.research.google.com/assets/colab-badge.svg\" alt=\"Open In Colab\"/></a>"
      ]
    },
    {
      "cell_type": "code",
      "execution_count": null,
      "metadata": {
        "colab": {
          "base_uri": "https://localhost:8080/"
        },
        "id": "uMzbLYESjdWt",
        "outputId": "b6516661-1fa2-4ef1-9c71-d4284013065c"
      },
      "outputs": [
        {
          "output_type": "stream",
          "name": "stdout",
          "text": [
            "Hello, WoRlD\n"
          ]
        }
      ],
      "source": [
        "print('Hello, WoRlD')"
      ]
    },
    {
      "cell_type": "code",
      "source": [
        "print(2 + 3)"
      ],
      "metadata": {
        "colab": {
          "base_uri": "https://localhost:8080/"
        },
        "id": "IvAQtNWomLbY",
        "outputId": "5f5116a0-383f-49f2-9b66-a7e31bdf8980"
      },
      "execution_count": null,
      "outputs": [
        {
          "output_type": "stream",
          "name": "stdout",
          "text": [
            "5\n"
          ]
        }
      ]
    },
    {
      "cell_type": "code",
      "source": [
        "print(10*(5+7)/4)"
      ],
      "metadata": {
        "colab": {
          "base_uri": "https://localhost:8080/"
        },
        "id": "wpkmMfav0ioZ",
        "outputId": "8dcf4a46-1b97-4687-ee2f-f0d3a2813f6f"
      },
      "execution_count": null,
      "outputs": [
        {
          "output_type": "stream",
          "name": "stdout",
          "text": [
            "30.0\n"
          ]
        }
      ]
    },
    {
      "cell_type": "code",
      "source": [
        "print(10*(5+7)//4)"
      ],
      "metadata": {
        "colab": {
          "base_uri": "https://localhost:8080/"
        },
        "id": "uX7_SSbt0u_v",
        "outputId": "8a430f4a-a437-4a24-acd9-8b8cf6564d30"
      },
      "execution_count": null,
      "outputs": [
        {
          "output_type": "stream",
          "name": "stdout",
          "text": [
            "30\n"
          ]
        }
      ]
    },
    {
      "cell_type": "code",
      "source": [
        "print(10*(5+7/4))"
      ],
      "metadata": {
        "colab": {
          "base_uri": "https://localhost:8080/"
        },
        "id": "Tb5mHqaT03iA",
        "outputId": "6d68160b-ba0f-4357-b014-c58183644c2f"
      },
      "execution_count": null,
      "outputs": [
        {
          "output_type": "stream",
          "name": "stdout",
          "text": [
            "67.5\n"
          ]
        }
      ]
    },
    {
      "cell_type": "code",
      "source": [
        "print(2+3*3)"
      ],
      "metadata": {
        "colab": {
          "base_uri": "https://localhost:8080/"
        },
        "id": "FxMKpC0O1AUH",
        "outputId": "a0f238df-ec2d-4b06-985c-713c097a02b3"
      },
      "execution_count": null,
      "outputs": [
        {
          "output_type": "stream",
          "name": "stdout",
          "text": [
            "11\n"
          ]
        }
      ]
    },
    {
      "cell_type": "code",
      "source": [
        "print(4**2/3)"
      ],
      "metadata": {
        "colab": {
          "base_uri": "https://localhost:8080/"
        },
        "id": "M4yFAoNC1KpP",
        "outputId": "a7b65dc3-101f-48b5-e194-2b885163283e"
      },
      "execution_count": null,
      "outputs": [
        {
          "output_type": "stream",
          "name": "stdout",
          "text": [
            "5.333333333333333\n"
          ]
        }
      ]
    },
    {
      "cell_type": "code",
      "source": [
        "print((9**2+2)*6-1)"
      ],
      "metadata": {
        "colab": {
          "base_uri": "https://localhost:8080/"
        },
        "id": "RcrC61V_1TbW",
        "outputId": "20ca4dc7-54a7-41a6-c201-a2002f7e947d"
      },
      "execution_count": null,
      "outputs": [
        {
          "output_type": "stream",
          "name": "stdout",
          "text": [
            "497\n"
          ]
        }
      ]
    },
    {
      "cell_type": "code",
      "source": [
        "disciplina = 'Lógica de Programação e Algoritmos'\n",
        "nota = 8.5\n",
        "\n",
        "print(disciplina)\n",
        "print(nota)\n",
        "print('Disciplina: ', disciplina, '. Nota: ', nota)"
      ],
      "metadata": {
        "colab": {
          "base_uri": "https://localhost:8080/"
        },
        "id": "6X1Y3J792QcM",
        "outputId": "e5680e21-6b52-4321-98d9-632001a17934"
      },
      "execution_count": null,
      "outputs": [
        {
          "output_type": "stream",
          "name": "stdout",
          "text": [
            "Lógica de Programação e Algoritmos\n",
            "8.5\n",
            "Disciplina:  Lógica de Programação e Algoritmos . Nota:  8.5\n"
          ]
        }
      ]
    },
    {
      "cell_type": "code",
      "source": [
        "a = 1 #a recebe 1\n",
        "b = 5 #b recebe 5"
      ],
      "metadata": {
        "id": "seNk6-T55mAP"
      },
      "execution_count": null,
      "outputs": []
    },
    {
      "cell_type": "code",
      "source": [
        "# a resposta recebe o resultado da comparação lógica de Igualdade\n",
        "resposta = a == b\n",
        "print(resposta)"
      ],
      "metadata": {
        "colab": {
          "base_uri": "https://localhost:8080/"
        },
        "id": "dq7ky1Zf51gB",
        "outputId": "81adf546-4556-4079-8cde-9d44f6081048"
      },
      "execution_count": null,
      "outputs": [
        {
          "output_type": "stream",
          "name": "stdout",
          "text": [
            "False\n"
          ]
        }
      ]
    },
    {
      "cell_type": "code",
      "source": [
        "# a resposta recebe o resultado da comparação de lógica de diferente\n",
        "resposta = a != b\n",
        "print(resposta)"
      ],
      "metadata": {
        "colab": {
          "base_uri": "https://localhost:8080/"
        },
        "id": "5h19iIKZ6c3X",
        "outputId": "26c4d385-e101-4186-fb3b-77809a2a60ba"
      },
      "execution_count": null,
      "outputs": [
        {
          "output_type": "stream",
          "name": "stdout",
          "text": [
            "True\n"
          ]
        }
      ]
    },
    {
      "cell_type": "code",
      "source": [
        "import time as tm\n",
        "\n",
        "nome_aluno = str(input('Digite o nome do aluno: '))\n",
        "nota1 = float(input('Insira a 1ª nota: '))\n",
        "nota2 = float(input('Insira a 2ª nota: '))\n",
        "nota3 = float(input('Insira a 3ª nota: '))\n",
        "cont = 4\n",
        "i = 0\n",
        "\n",
        "print('Calculando: ')\n",
        "\n",
        "tm.sleep(3)\n",
        "\n",
        "for i in range(cont):\n",
        "  print('.' * i)\n",
        "  tm.sleep(1)\n",
        "\n",
        "media_nota = (nota1 + nota2 + nota3)/3\n",
        "print('Exibindo resultado do aluno: ', nome_aluno)\n",
        "\n",
        "if media_nota >= 7:\n",
        "  situacao = 'Aprovado'\n",
        "elif media_nota >=5 and media_nota <= 6:\n",
        "  situacao = 'em recuperação'\n",
        "else: situacao = 'Reprovado'\n",
        "print('Aluno ', situacao)"
      ],
      "metadata": {
        "colab": {
          "base_uri": "https://localhost:8080/"
        },
        "id": "CVYUYMYf6spU",
        "outputId": "90ed4ad2-dac1-4a13-e86a-77ba97ea5e8c"
      },
      "execution_count": null,
      "outputs": [
        {
          "output_type": "stream",
          "name": "stdout",
          "text": [
            "Digite o nome do aluno: Maria\n",
            "Insira a 1ª nota: 8\n",
            "Insira a 2ª nota: 9\n",
            "Insira a 3ª nota: 9\n",
            "Calculando: \n",
            "\n",
            ".\n",
            "..\n",
            "...\n",
            "Exibindo resultado do aluno:  Maria\n",
            "Aluno  Aprovado\n"
          ]
        }
      ]
    },
    {
      "cell_type": "code",
      "source": [
        "frase = 'Python, 2022'\n",
        "print(frase[0])\n",
        "print(frase[2])"
      ],
      "metadata": {
        "colab": {
          "base_uri": "https://localhost:8080/"
        },
        "id": "8-z765SfFgm2",
        "outputId": "fbbb76bd-8613-40fc-c6fc-0a4ffce5287c"
      },
      "execution_count": null,
      "outputs": [
        {
          "output_type": "stream",
          "name": "stdout",
          "text": [
            "P\n",
            "t\n"
          ]
        }
      ]
    },
    {
      "cell_type": "code",
      "source": [
        "s1 = 'Lógica de Programação'\n",
        "s1 = s1 + ' e Algoritmos'\n",
        "print(s1)"
      ],
      "metadata": {
        "colab": {
          "base_uri": "https://localhost:8080/"
        },
        "id": "JOhrVFD4Gf-0",
        "outputId": "f9294683-2200-4173-9552-bdb4e7a3203e"
      },
      "execution_count": null,
      "outputs": [
        {
          "output_type": "stream",
          "name": "stdout",
          "text": [
            "Lógica de Programação e Algoritmos\n"
          ]
        }
      ]
    },
    {
      "cell_type": "code",
      "source": [
        ""
      ],
      "metadata": {
        "id": "dskI0iUpQdCf"
      },
      "execution_count": null,
      "outputs": []
    },
    {
      "cell_type": "code",
      "source": [
        "s1 = 'A' + '-' * 10 + 'B'\n",
        "print(s1)"
      ],
      "metadata": {
        "colab": {
          "base_uri": "https://localhost:8080/"
        },
        "id": "FgquF-v0G3Jk",
        "outputId": "0ecd0c09-ba7b-4e26-e6e5-ab5d1fec0d41"
      },
      "execution_count": null,
      "outputs": [
        {
          "output_type": "stream",
          "name": "stdout",
          "text": [
            "A----------B\n"
          ]
        }
      ]
    },
    {
      "cell_type": "code",
      "source": [
        "print('Python ' + '-' * 5 + ' C ' + '-' * 5 + ' Java ' + '-' * 5 + ' PHP ')"
      ],
      "metadata": {
        "colab": {
          "base_uri": "https://localhost:8080/"
        },
        "id": "PxTerHTJHH_c",
        "outputId": "92be455c-07e8-472c-a517-6a4ba9671008"
      },
      "execution_count": null,
      "outputs": [
        {
          "output_type": "stream",
          "name": "stdout",
          "text": [
            "Python ----- C ----- Java ----- PHP \n"
          ]
        }
      ]
    },
    {
      "cell_type": "code",
      "source": [
        "nota = 8.5\n",
        "nota2 = 9.5\n",
        "s1 = 'Você tirou %.2f na disciplina de Algoritmos' % nota\n",
        "print(s1)\n",
        "s2 = 'Você tirou %d na disciplina de Banco de dados' % nota2 # Utilizar o tipo errade de referência implica na perda das casas decimais neste caso\n",
        "print(s2)"
      ],
      "metadata": {
        "colab": {
          "base_uri": "https://localhost:8080/"
        },
        "id": "FlpMrhXlQAPM",
        "outputId": "42ee4a8d-d213-4459-ef16-0698d338744e"
      },
      "execution_count": null,
      "outputs": [
        {
          "output_type": "stream",
          "name": "stdout",
          "text": [
            "Você tirou 8.50 na disciplina de Algoritmos\n",
            "Você tirou 9 na disciplina de Banco de dados\n"
          ]
        }
      ]
    },
    {
      "cell_type": "code",
      "source": [
        "nota = 8.5\n",
        "disciplina = 'Algoritmos'\n",
        "s1 = 'Você tirou %.2f na disciplina de %s.' % (nota, disciplina)\n",
        "print(s1) "
      ],
      "metadata": {
        "colab": {
          "base_uri": "https://localhost:8080/"
        },
        "id": "jPqZ948rQ4Gi",
        "outputId": "c0479c36-d528-4c45-803f-1df08ac9b673"
      },
      "execution_count": null,
      "outputs": [
        {
          "output_type": "stream",
          "name": "stdout",
          "text": [
            "Você tirou 8.50 na disciplina de Algoritmos.\n"
          ]
        }
      ]
    },
    {
      "cell_type": "code",
      "source": [
        "nota = 8.5\n",
        "disciplina = 'Algoritmos'\n",
        "s1 = 'Você tirou {} na disciplina de {}'.format(nota, disciplina)\n",
        "print(s1)"
      ],
      "metadata": {
        "colab": {
          "base_uri": "https://localhost:8080/"
        },
        "id": "yFCWcHgkSP-i",
        "outputId": "eb1bddba-068c-4996-f9de-3838a37e2789"
      },
      "execution_count": null,
      "outputs": [
        {
          "output_type": "stream",
          "name": "stdout",
          "text": [
            "Você tirou 8.5 na disciplina de Algoritmos\n"
          ]
        }
      ]
    },
    {
      "cell_type": "code",
      "source": [
        "comida = 'Lasanha'\n",
        "ano = 2004\n",
        "divisao = 2004/18\n",
        "\n",
        "texto = '{} {} {}'.format(comida, ano, divisao)\n",
        "texto1 = '%s %d %.2f' % (comida, ano, divisao)\n",
        "print(texto)\n",
        "print(texto1)"
      ],
      "metadata": {
        "colab": {
          "base_uri": "https://localhost:8080/"
        },
        "id": "h-sn4hUyTEGG",
        "outputId": "12cfaad5-783a-4a88-b68d-80c6d2f74b33"
      },
      "execution_count": null,
      "outputs": [
        {
          "output_type": "stream",
          "name": "stdout",
          "text": [
            "Lasanha 2004 111.33333333333333\n",
            "Lasanha 2004 111.33\n"
          ]
        }
      ]
    },
    {
      "cell_type": "code",
      "source": [
        "s1 = 'Lógica de Programação e Algoritmos'\n",
        "print(s1[0:6])\n",
        "print(s1[24:34])\n",
        "print(s1[:6])"
      ],
      "metadata": {
        "colab": {
          "base_uri": "https://localhost:8080/"
        },
        "id": "PXFIlfGbUQ5x",
        "outputId": "c343f87c-2891-4089-9982-7d514cd31842"
      },
      "execution_count": null,
      "outputs": [
        {
          "output_type": "stream",
          "name": "stdout",
          "text": [
            "Lógica\n",
            "Algoritmos\n",
            "Lógica\n"
          ]
        }
      ]
    },
    {
      "cell_type": "code",
      "source": [
        "s1 = 'Lógica de Programação e Algoritmos'\n",
        "tamanho = len(s1)\n",
        "print(tamanho)"
      ],
      "metadata": {
        "colab": {
          "base_uri": "https://localhost:8080/"
        },
        "id": "z7kmeqClVDR_",
        "outputId": "2d520c33-8c3a-4575-8d15-728a649c8794"
      },
      "execution_count": null,
      "outputs": [
        {
          "output_type": "stream",
          "name": "stdout",
          "text": [
            "34\n"
          ]
        }
      ]
    },
    {
      "cell_type": "code",
      "source": [
        "nome = 'Enzo Augusto Lima Brasil'\n",
        "validar = len(nome) <= 15\n",
        "print(validar)"
      ],
      "metadata": {
        "colab": {
          "base_uri": "https://localhost:8080/"
        },
        "id": "D9TgCELvV_F3",
        "outputId": "44ac5173-f001-4fa5-ff2e-3c20d5e02082"
      },
      "execution_count": null,
      "outputs": [
        {
          "output_type": "stream",
          "name": "stdout",
          "text": [
            "False\n"
          ]
        }
      ]
    },
    {
      "cell_type": "code",
      "source": [
        "idade = input('Qual a sua idade?')\n",
        "print(idade)"
      ],
      "metadata": {
        "colab": {
          "base_uri": "https://localhost:8080/"
        },
        "id": "z69AeI1kYID5",
        "outputId": "e0a937d4-5e3f-42cd-a2b1-a916a321ce61"
      },
      "execution_count": null,
      "outputs": [
        {
          "output_type": "stream",
          "name": "stdout",
          "text": [
            "Qual a sua idade?18\n",
            "18\n"
          ]
        }
      ]
    },
    {
      "cell_type": "code",
      "source": [
        "nome = str(input('Qual é o seu nome ? '))\n",
        "print('Olá {}, seja bem vindo!'.format(nome))"
      ],
      "metadata": {
        "colab": {
          "base_uri": "https://localhost:8080/"
        },
        "id": "44DDoySuYfaW",
        "outputId": "04601c83-b10f-433c-aa71-804f28404350"
      },
      "execution_count": null,
      "outputs": [
        {
          "output_type": "stream",
          "name": "stdout",
          "text": [
            "Qual é o seu nome ? Alessandro\n",
            "Olá Alessandro, seja bem vindo!\n"
          ]
        }
      ]
    },
    {
      "cell_type": "code",
      "source": [
        "nota = float(input('Qual nota você recebeu na disciplina? '))\n",
        "print('Você tirou nota {}.'.format(nota))"
      ],
      "metadata": {
        "colab": {
          "base_uri": "https://localhost:8080/"
        },
        "id": "SXTFJxRrZZfM",
        "outputId": "8564f8f8-7fe9-49e0-c2ca-852302358b9d"
      },
      "execution_count": null,
      "outputs": [
        {
          "output_type": "stream",
          "name": "stdout",
          "text": [
            "Qual nota você recebeu na disciplina? 9\n",
            "Você tirou nota 9.0.\n"
          ]
        }
      ]
    },
    {
      "cell_type": "code",
      "source": [
        "n1 = float(input('Qual o 1ª número a ser inserido ? '))\n",
        "n2 = float(input('Qual o 2ª número a ser inserido ? '))\n",
        "\n",
        "calc = n1 + n2\n",
        "\n",
        "print('O resultado da soma dos números {} e {} resultou em: {}' .format(n1, n2, calc))"
      ],
      "metadata": {
        "colab": {
          "base_uri": "https://localhost:8080/"
        },
        "id": "YdVK40H1eO2e",
        "outputId": "323500d8-3a99-48d4-f49b-04357ec83351"
      },
      "execution_count": null,
      "outputs": [
        {
          "output_type": "stream",
          "name": "stdout",
          "text": [
            "Qual o 1ª número a ser inserido ? 4\n",
            "Qual o 2ª número a ser inserido ? 5.5677\n",
            "O resultado da soma dos números 4.0 e 5.5677 resultou em: 9.5677\n"
          ]
        }
      ]
    },
    {
      "cell_type": "code",
      "source": [
        "days = int(input('Insira o número de dias: '))\n",
        "hours = int(input('Insira o número de horas: '))\n",
        "minutes = int(input('Insira o número de minutos: '))\n",
        "seconds = float(input('Insira o número de segundos: '))\n",
        "\n",
        "event_date = 'O evento ocorreu no dia {} às {},{} e {} segundos.' .format(days, hours, minutes, seconds)\n",
        "print(event_date)"
      ],
      "metadata": {
        "colab": {
          "base_uri": "https://localhost:8080/"
        },
        "id": "2_4YKCURgWr9",
        "outputId": "18c0c256-892b-4390-b462-e9a378e81e1e"
      },
      "execution_count": null,
      "outputs": [
        {
          "output_type": "stream",
          "name": "stdout",
          "text": [
            "Insira o número de dias: 02\n",
            "Insira o número de horas: 11\n",
            "Insira o número de minutos: 40\n",
            "Insira o número de segundos: 59\n",
            "O evento ocorreu na data de 2 às 11,40 e 59.0 segundos.\n"
          ]
        }
      ]
    },
    {
      "cell_type": "code",
      "source": [
        "produto = str(input('Informe o nome do produto: '))\n",
        "price = float(input('Informe o preço da únidade básica de {}: ' .format(produto)))\n",
        "discount = float(input('Informe qual o percentual de desconto: '))\n",
        "\n",
        "calc_discount = price * discount\n",
        "calc_price = price - calc_discount\n",
        "\n",
        "print('O total de desconto que foi aplicado à {}, resulta em: {}' .format(produto, calc_discount))\n",
        "print('O preço final com desconto seria de: {}' .format(calc_price))"
      ],
      "metadata": {
        "colab": {
          "base_uri": "https://localhost:8080/"
        },
        "id": "rzL9UE8Khg2d",
        "outputId": "659c3f4d-05c3-4968-8f5a-f33cafafc4e8"
      },
      "execution_count": null,
      "outputs": [
        {
          "output_type": "stream",
          "name": "stdout",
          "text": [
            "Informe o nome do produto: Batata\n",
            "Informe o preço da únidade básica de Batata: 8.00\n",
            "Informe qual o percentual de desconto: 0.1\n",
            "O total de desconto que foi aplicado à Batata, resulta em: 0.8\n",
            "O preço final com desconto seria de: 7.2\n"
          ]
        }
      ]
    },
    {
      "cell_type": "code",
      "source": [
        "celsius = float(input('Insira o valor da temperatura em celsius: '))\n",
        "\n",
        "convertion = 9 * celcius / 5 + 32\n",
        "\n",
        "print('A temperatura de {}º celsius, equivale a {}º Farenheint.' .format(celsius, convertion))"
      ],
      "metadata": {
        "colab": {
          "base_uri": "https://localhost:8080/"
        },
        "id": "7uzGGlzLhzQz",
        "outputId": "f06befe0-8eb3-4675-a1ef-0c40117a600f"
      },
      "execution_count": null,
      "outputs": [
        {
          "output_type": "stream",
          "name": "stdout",
          "text": [
            "Insira o valor da temperatura em celsius: 42\n",
            "A temperatura de 42.0º celsius, equivale a 109.4º Farenheint.\n"
          ]
        }
      ]
    }
  ]
}