{
  "nbformat": 4,
  "nbformat_minor": 0,
  "metadata": {
    "colab": {
      "name": "PRATIC03.ipynb",
      "provenance": [],
      "collapsed_sections": [],
      "authorship_tag": "ABX9TyNnYg1UU3P5xHQ/z3s4mi4Q",
      "include_colab_link": true
    },
    "kernelspec": {
      "name": "python3",
      "display_name": "Python 3"
    },
    "language_info": {
      "name": "python"
    }
  },
  "cells": [
    {
      "cell_type": "markdown",
      "metadata": {
        "id": "view-in-github",
        "colab_type": "text"
      },
      "source": [
        "<a href=\"https://colab.research.google.com/github/Enz-Lima/PythonBegins/blob/main/PRATIC03.ipynb\" target=\"_parent\"><img src=\"https://colab.research.google.com/assets/colab-badge.svg\" alt=\"Open In Colab\"/></a>"
      ]
    },
    {
      "cell_type": "code",
      "execution_count": null,
      "metadata": {
        "colab": {
          "base_uri": "https://localhost:8080/"
        },
        "id": "SJLGp77RKxqW",
        "outputId": "02cf50f7-9df5-465c-ed0e-216a79df5840"
      },
      "outputs": [
        {
          "output_type": "stream",
          "name": "stdout",
          "text": [
            "Insira o 1º valor: 5\n",
            "Insira o 2º valor: 5\n",
            "Os valores 5.0 e 5.0 são equivalentes.\n"
          ]
        }
      ],
      "source": [
        "x = float(input('Insira o 1º valor: '))\n",
        "y = float(input('Insira o 2º valor: '))\n",
        "\n",
        "if (x > y):\n",
        "  print('O valor {} é maior que o valor {}'.format(x, y))\n",
        "elif (x < y):\n",
        "  print('O valor {} é maior que o valor {}'.format(y,))\n",
        "else:\n",
        "  print('Os valores {} e {} são equivalentes.'.format(x, y))"
      ]
    },
    {
      "cell_type": "code",
      "source": [
        "x = int(input('Insira o primeiro valor: '))\n",
        "x += 1\n",
        "for c in range(x):\n",
        "  if (c % 2 == 0):\n",
        "    print('O valor {} é par.'.format(c))\n",
        "  else:\n",
        "    print('O valor {} é impar.'.format(c))\n",
        "\n",
        "  if (c % 7 == 0):\n",
        "    print('O valor {} é multiplo de 7.'.format(c))\n",
        "  else:\n",
        "    print('O valor {} não é multiplo de 7.' .format(c))"
      ],
      "metadata": {
        "id": "YaAaksJ3Mi_b"
      },
      "execution_count": null,
      "outputs": []
    },
    {
      "cell_type": "code",
      "source": [
        "ano_nasc = int(input('Insira o ano de nascimento: '))\n",
        "ano_atual = int(input('Insira o ano atual: '))\n",
        "\n",
        "idade = ano_atual - ano_nasc\n",
        " \n",
        "if (idade >= 18): \n",
        "   print('Você é maior de idade.')\n",
        "\n",
        "else:\n",
        "  print('Você é menor de idade.')"
      ],
      "metadata": {
        "colab": {
          "base_uri": "https://localhost:8080/"
        },
        "id": "nmlxjirXQpIQ",
        "outputId": "11385982-c82e-48c2-a152-afe5dd10b689"
      },
      "execution_count": null,
      "outputs": [
        {
          "output_type": "stream",
          "name": "stdout",
          "text": [
            "Insira o ano de nascimento: 2004\n",
            "Insira o ano atual: 2022\n",
            "Você é maior de idade.\n"
          ]
        }
      ]
    },
    {
      "cell_type": "code",
      "source": [
        "salario = float(input('Insira o salário: '))\n",
        "time = int(input('Insira o tempo de empresa: '))\n",
        "\n",
        "if (time >= 5):\n",
        "  bonus = salario * 0.2\n",
        "  print('O seu salário atual é de: {}'.format(salario))\n",
        "  print('A sua bonificação foi {}' .format(bonus))\n",
        "  print('Seu pagamento total foi de: {}'.format(salario + bonus))\n",
        "else:\n",
        "  bonus = salario * 0.1\n",
        "  print('O seu salário atual é de: {}'.format(salario))\n",
        "  print('A sua bonificação foi {}'.format(bonus))\n",
        "  print('Seu pagamento total foi de: {}'.format(salario + bonus))"
      ],
      "metadata": {
        "colab": {
          "base_uri": "https://localhost:8080/"
        },
        "id": "T30LxF52R82i",
        "outputId": "31f4f96e-ae54-4e7f-e5d7-aaf5de91ff20"
      },
      "execution_count": null,
      "outputs": [
        {
          "output_type": "stream",
          "name": "stdout",
          "text": [
            "Insira o salário: 2000\n",
            "Insira o tempo de empresa: 4\n",
            "O seu salário atual é de: 2000.0\n",
            "A sua bonificação foi 200.0\n",
            "Seu pagamento total foi de: 2200.0\n"
          ]
        }
      ]
    },
    {
      "cell_type": "code",
      "source": [
        "x = True\n",
        "y = False\n",
        "\n",
        "print(not x)\n",
        "print(not y)"
      ],
      "metadata": {
        "colab": {
          "base_uri": "https://localhost:8080/"
        },
        "id": "SqS1i8T8WdIw",
        "outputId": "fedb14da-3f9b-4aaa-e41f-f0a83e817156"
      },
      "execution_count": null,
      "outputs": [
        {
          "output_type": "stream",
          "name": "stdout",
          "text": [
            "False\n",
            "True\n"
          ]
        }
      ]
    },
    {
      "cell_type": "code",
      "source": [
        "x = True\n",
        "y = False\n",
        "print(x and y)"
      ],
      "metadata": {
        "colab": {
          "base_uri": "https://localhost:8080/"
        },
        "id": "F5wwQRjwW-6k",
        "outputId": "8b5be207-6336-470a-8f51-5c206ee8ff47"
      },
      "execution_count": null,
      "outputs": [
        {
          "output_type": "stream",
          "name": "stdout",
          "text": [
            "False\n"
          ]
        }
      ]
    },
    {
      "cell_type": "code",
      "source": [
        "x = True\n",
        "y = False\n",
        "print(x or y)"
      ],
      "metadata": {
        "colab": {
          "base_uri": "https://localhost:8080/"
        },
        "id": "Ny2UcFQSXVvM",
        "outputId": "36b8a2cf-a548-4558-f730-caa19999df94"
      },
      "execution_count": null,
      "outputs": [
        {
          "output_type": "stream",
          "name": "stdout",
          "text": [
            "True\n"
          ]
        }
      ]
    },
    {
      "cell_type": "code",
      "source": [
        "x = 10\n",
        "y = 1\n",
        "res = not x > y\n",
        "print(res)"
      ],
      "metadata": {
        "colab": {
          "base_uri": "https://localhost:8080/"
        },
        "id": "FYiAqISVXzqT",
        "outputId": "8393094a-91a8-4aad-a959-500643fef8d5"
      },
      "execution_count": null,
      "outputs": [
        {
          "output_type": "stream",
          "name": "stdout",
          "text": [
            "False\n"
          ]
        }
      ]
    },
    {
      "cell_type": "code",
      "source": [
        "x = 10\n",
        "y = 1\n",
        "z = 5.5\n",
        "res = x > y and z == y\n",
        "print(res)"
      ],
      "metadata": {
        "colab": {
          "base_uri": "https://localhost:8080/"
        },
        "id": "P-MjW25AYENi",
        "outputId": "f639e236-dd38-4524-cd89-4eeec826ae4d"
      },
      "execution_count": null,
      "outputs": [
        {
          "output_type": "stream",
          "name": "stdout",
          "text": [
            "False\n"
          ]
        }
      ]
    },
    {
      "cell_type": "code",
      "source": [
        "x = 10\n",
        "y = 1\n",
        "z = 5.5\n",
        "res = x > y or z == y\n",
        "print(res)"
      ],
      "metadata": {
        "colab": {
          "base_uri": "https://localhost:8080/"
        },
        "id": "qahZflXLYf9y",
        "outputId": "812517d7-f307-4fa5-fe2f-2567176a58c2"
      },
      "execution_count": null,
      "outputs": [
        {
          "output_type": "stream",
          "name": "stdout",
          "text": [
            "True\n"
          ]
        }
      ]
    },
    {
      "cell_type": "code",
      "source": [
        "x = 10\n",
        "y = 1\n",
        "z = 5.5\n",
        "res = x > y or not z == y and y != y + z / x\n",
        "print(res)"
      ],
      "metadata": {
        "colab": {
          "base_uri": "https://localhost:8080/"
        },
        "id": "0WP9h0KUYpV1",
        "outputId": "c0a40e9a-e666-404b-dd8c-f5c3e3bac81e"
      },
      "execution_count": null,
      "outputs": [
        {
          "output_type": "stream",
          "name": "stdout",
          "text": [
            "True\n"
          ]
        }
      ]
    },
    {
      "cell_type": "code",
      "source": [
        "A = 1\n",
        "B = 2\n",
        "C = 3\n",
        "X = 20\n",
        "Y = 10\n",
        "Z = -1\n",
        "v1 = True\n",
        "v2 = False\n",
        "nome = 'Pedro'\n",
        "rua = 'Pedrinho'\n",
        "\n",
        "print((A + C) / B)\n",
        "print(C / B / A)\n",
        "print(-X**B)\n",
        "print((-X)**B)\n",
        "print(v1 or v2)\n",
        "print(v1 and not v2)\n",
        "print(v2 and not v1)\n",
        "print(not nome == rua)\n",
        "print(v1 and not v2 or v2 and not True)\n",
        "print(X > Y and C <= B)\n",
        "print(C-3*A < X + 2*Z)"
      ],
      "metadata": {
        "colab": {
          "base_uri": "https://localhost:8080/"
        },
        "id": "jOWE5IF9Zr-v",
        "outputId": "9574c374-14d1-4e69-fa36-80eeeee82c5e"
      },
      "execution_count": null,
      "outputs": [
        {
          "output_type": "stream",
          "name": "stdout",
          "text": [
            "2.0\n",
            "1.5\n",
            "-400\n",
            "400\n",
            "True\n",
            "True\n",
            "False\n",
            "True\n",
            "True\n",
            "False\n",
            "True\n"
          ]
        }
      ]
    },
    {
      "cell_type": "code",
      "source": [
        "materia1 = str(input('Insira o nome da 1º matéria: '))\n",
        "n1m1 = float(input('Insira a sua primeira nota: '))\n",
        "n2m1 = float(input('Insira a sua segunda nota: '))\n",
        "n3m1 = float(input('Insira a sua terceira nota: '))\n",
        "\n",
        "materia2 = str(input('Insira o nome da 2º matéria: '))\n",
        "n1m2 = float(input('Insira a sua primeira nota: '))\n",
        "n2m2 = float(input('Insira a sua segunda nota: '))\n",
        "n3m2 = float(input('Insira a sua terceira nota: '))\n",
        "\n",
        "materia3 = str(input('Insira o nome da 3º matéria: '))\n",
        "n1m3 = float(input('Insira a sua primeira nota: '))\n",
        "n2m3 = float(input('Insira a sua segunda nota: '))\n",
        "n3m3 = float(input('Insira a sua terceira nota: '))\n",
        "\n",
        "calc_m1 = (n1m1 + n2m1 + n3m1) / 3\n",
        "calc_m2 = (n1m2 + n2m2 + n3m2) / 3\n",
        "calc_m3 = (n1m3 + n2m3 + n3m3) / 3\n",
        "\n",
        "if calc_m1 >= 7 and calc_m2 >= 7 and calc_m3 >= 7:\n",
        "  print('Aluno aprovado')\n",
        "elif (calc_m1 >= 5 and calc_m1 < 7) and (calc_m2 >= 5 and calc_m2 < 7) and (calc_m3 >= 5 and calc_m3 < 7):\n",
        "  print('Aluno em recuperação')\n",
        "else:\n",
        "  print('Aluno reprovado')"
      ],
      "metadata": {
        "id": "RRX3S04LjkX9"
      },
      "execution_count": null,
      "outputs": []
    },
    {
      "cell_type": "code",
      "source": [
        "print('O que gostaria de comprar: ')\n",
        "print('1, Maçã')\n",
        "print('2, Laranja')\n",
        "print('3, Banana')\n",
        "\n",
        "produto = int(input('Qual sua opção?'))\n",
        "qtd = int(input('Digite a quantidade: '))\n",
        "\n",
        "if produto == 1:\n",
        "  calc = qtd * 2.3\n",
        "  print('O total foi de: R$ {}'.format(calc))\n",
        "else:\n",
        "  if produto == 2:\n",
        "    calc = qtd * 3.6\n",
        "    print('O total foi de R$ {}'.format(calc))\n",
        "  else:\n",
        "    if produto == 3:\n",
        "      calc = qtd * 1.85\n",
        "      print('O total foi de R$ {}'.format(calc))\n",
        "    else:\n",
        "      print('Produto inexistente')"
      ],
      "metadata": {
        "id": "Uz4rMNA95hn4"
      },
      "execution_count": null,
      "outputs": []
    },
    {
      "cell_type": "code",
      "source": [
        "n1 = int(input('Insira o valor do 1º lado: '))\n",
        "n2 = int(input('Insira o valor do 2º lado: '))\n",
        "n3 = int(input('Insira o valor do 3º lado: '))\n",
        "\n",
        "if n1 > 0 and n2 > 0 and n3 > 0:\n",
        "  if n1 + n2 > n3 and n2 + n3 > n1 and n1 + n3 > n2: # validação concluida\n",
        "    if n1 == n2 and n1 == n3:\n",
        "      print('Os lados formam um triangulo Equilátero.')\n",
        "    elif n1 != n2 and n2 != n3 and n3 != n1:\n",
        "      print('Os lados formam um triangulo escaleno.')\n",
        "    else:\n",
        "      print('Os lados formam um triangulo isóceles.')\n",
        "  else:\n",
        "    print('Ao menos um dos valores indicados não serve para formar um triângulo.')\n",
        "else:\n",
        "  print('Ao menos um dos lados atribuídos não pode integrar um triangulo.')"
      ],
      "metadata": {
        "id": "8reWK-MhHzlZ"
      },
      "execution_count": null,
      "outputs": []
    },
    {
      "cell_type": "code",
      "source": [
        "print('Escolha a operação a ser realizada.')\n",
        "menu = int(input(' [1] Adição \\n [2]Subtração \\n [3]Multiplicação \\n [4]Divisão'))\n",
        "\n",
        "if menu == 1:\n",
        "  n1 = float(input('Insira o 1º valor a ser somado: '))\n",
        "  n2 = float(input('Insira o 2º valor a ser somado: '))\n",
        "  calc = n1 + n2\n",
        "elif menu == 2:\n",
        "  n1 = float(input('Insira o 1º valor a ser subtraído: '))\n",
        "  n2 = float(input('Insira o 2º valor a ser subtraído: '))\n",
        "  calc = n1 - n2\n",
        "elif menu == 3:\n",
        "  n1 = float(input('Insira o 1º valor a ser multiplicado: '))\n",
        "  n2 = float(input('Insira o 2º valor a ser multiplicado: '))"
      ],
      "metadata": {
        "id": "O7LxPAJLMv4v",
        "outputId": "c18b0aeb-9af7-487b-96c9-564742eb2f94",
        "colab": {
          "base_uri": "https://localhost:8080/"
        }
      },
      "execution_count": 2,
      "outputs": [
        {
          "output_type": "stream",
          "name": "stdout",
          "text": [
            "Escolha a operação a ser realizada.\n",
            " [1] Adição \n",
            " [2]Subtração \n",
            " [3]Multiplicação \n",
            " [4]Divisão\n"
          ]
        }
      ]
    }
  ]
}