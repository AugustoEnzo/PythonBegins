{
  "nbformat": 4,
  "nbformat_minor": 0,
  "metadata": {
    "colab": {
      "name": "PRATIC04.ipynb",
      "provenance": [],
      "authorship_tag": "ABX9TyNZm7W71nH5BiRAWxW44BwV",
      "include_colab_link": true
    },
    "kernelspec": {
      "name": "python3",
      "display_name": "Python 3"
    },
    "language_info": {
      "name": "python"
    }
  },
  "cells": [
    {
      "cell_type": "markdown",
      "metadata": {
        "id": "view-in-github",
        "colab_type": "text"
      },
      "source": [
        "<a href=\"https://colab.research.google.com/github/Enz-Lima/PythonBegins/blob/main/PRATIC04.ipynb\" target=\"_parent\"><img src=\"https://colab.research.google.com/assets/colab-badge.svg\" alt=\"Open In Colab\"/></a>"
      ]
    },
    {
      "cell_type": "code",
      "execution_count": 1,
      "metadata": {
        "id": "4OE4ihyT7Twy",
        "outputId": "066d95a8-bb80-42ff-be27-ab6368c49a0b",
        "colab": {
          "base_uri": "https://localhost:8080/"
        }
      },
      "outputs": [
        {
          "output_type": "stream",
          "name": "stdout",
          "text": [
            "False\n"
          ]
        }
      ],
      "source": [
        "cond = 2 + 2 < 4 == True\n",
        "print(cond)"
      ]
    },
    {
      "cell_type": "code",
      "source": [
        "cond = (7 // 3) == (1 + 1)\n",
        "print(cond)"
      ],
      "metadata": {
        "id": "IU2WEHQiBTPU",
        "outputId": "bb79e8fc-2d08-4110-c160-918a9cc872e0",
        "colab": {
          "base_uri": "https://localhost:8080/"
        }
      },
      "execution_count": 2,
      "outputs": [
        {
          "output_type": "stream",
          "name": "stdout",
          "text": [
            "True\n"
          ]
        }
      ]
    },
    {
      "cell_type": "code",
      "source": [
        "cond = (3**2 + 4**2) == 25\n",
        "print(cond)"
      ],
      "metadata": {
        "id": "YVJA3ao6BjA_",
        "outputId": "d3ae0d1a-a347-4283-ac3f-20f7cc4e64e8",
        "colab": {
          "base_uri": "https://localhost:8080/"
        }
      },
      "execution_count": 3,
      "outputs": [
        {
          "output_type": "stream",
          "name": "stdout",
          "text": [
            "True\n"
          ]
        }
      ]
    },
    {
      "cell_type": "code",
      "source": [
        "cond = 2 + 4 + 6 > 12\n",
        "print(cond)"
      ],
      "metadata": {
        "id": "-NEYtu2_B8N-",
        "outputId": "e0145709-15b1-4538-b3e0-b339e64c6be4",
        "colab": {
          "base_uri": "https://localhost:8080/"
        }
      },
      "execution_count": 5,
      "outputs": [
        {
          "output_type": "stream",
          "name": "stdout",
          "text": [
            "False\n"
          ]
        }
      ]
    },
    {
      "cell_type": "code",
      "source": [
        "age = int(input('Insira a sua idade: '))\n",
        "\n",
        "if age > 60:\n",
        "  print('Você possui direito aos benefícios.')\n",
        "else:\n",
        "  print('Você não pode ser beneficiado.')"
      ],
      "metadata": {
        "id": "myoLkziYCLa1",
        "outputId": "42ec7d48-950e-4e77-8ef6-e9eb488c7dfa",
        "colab": {
          "base_uri": "https://localhost:8080/"
        }
      },
      "execution_count": 7,
      "outputs": [
        {
          "output_type": "stream",
          "name": "stdout",
          "text": [
            "Insira a sua idade: 45\n",
            "Você não pode ser beneficiado.\n"
          ]
        }
      ]
    },
    {
      "cell_type": "code",
      "source": [
        "dmg = int(input('Insira o dano: '))\n",
        "armor = int(input('Insira a armadura: '))\n",
        "life = int(input('Insira a sua vida: '))\n",
        "\n",
        "if dmg > armor:\n",
        "  print('A sua vida total é de: {} pontos.'.format(life))\n",
        "  life = life - (dmg - armor)\n",
        "  print('Após o dano, sua vida passou a {} pontos.'.format(life))\n",
        "  if life <= 0:\n",
        "    print('Você veio a obito.')\n",
        "elif armor > dmg:\n",
        "  print('A sua armadura o defendeu')\n",
        "elif life <= 0:\n",
        "  print('Faleceu...')"
      ],
      "metadata": {
        "id": "3w5vaTAYCkkN",
        "outputId": "682a0002-a35f-494f-fdab-37e0918aa3a4",
        "colab": {
          "base_uri": "https://localhost:8080/"
        }
      },
      "execution_count": 10,
      "outputs": [
        {
          "output_type": "stream",
          "name": "stdout",
          "text": [
            "Insira o dano: 4\n",
            "Insira a armadura: 3\n",
            "Insira a sua vida: 1\n",
            "A sua vida total é de: 1 pontos.\n",
            "Após o dano, sua vida passou a 0 pontos.\n",
            "Você veio a obito.\n"
          ]
        }
      ]
    },
    {
      "cell_type": "code",
      "source": [
        "norte = str(input('Essa é a direção da saída?'))\n",
        "\n",
        "if norte == 'Sim':\n",
        "  saida = True\n",
        "  print('Você escapou!')\n",
        "else:\n",
        "  sul = str(input('Essa é a direção da saída?'))\n",
        "  if sul == 'Sim':\n",
        "    saida = True\n",
        "    print('Você escapou!')\n",
        "  else:\n",
        "    oeste = str(input('Essa é a direção da saída?'))\n",
        "    if oeste == 'Sim':\n",
        "      saida = True\n",
        "      print('Você escapou!')\n",
        "    else:\n",
        "      leste = str(input('Essa é a direção da saída?'))\n",
        "      if leste == 'Sim':\n",
        "        saida = True\n",
        "        print('Você escapou!')\n",
        "      else:\n",
        "        print('Você nunca conseguiu fugir...')"
      ],
      "metadata": {
        "id": "UHVxFhz5EJSs",
        "outputId": "efbee933-8a34-4f14-fda0-04709067d3fb",
        "colab": {
          "base_uri": "https://localhost:8080/"
        }
      },
      "execution_count": 11,
      "outputs": [
        {
          "output_type": "stream",
          "name": "stdout",
          "text": [
            "Essa é a direção da saída?Nao\n",
            "Essa é a direção da saída?S\n",
            "Essa é a direção da saída?Y\n",
            "Essa é a direção da saída?Sim\n",
            "Você escapou!\n"
          ]
        }
      ]
    },
    {
      "cell_type": "code",
      "source": [
        "ano = int(input('Insira o ano: '))\n",
        "\n",
        "if ano % 4 == 0:\n",
        "  print('Este provavelmente é um ano bissexto...')\n",
        "else:\n",
        "  print('Definitivamente não é um ano bissexto.')"
      ],
      "metadata": {
        "id": "qIx_sxwCGqad",
        "outputId": "2b9a702d-cd60-4574-c121-e4186dcaf883",
        "colab": {
          "base_uri": "https://localhost:8080/"
        }
      },
      "execution_count": 13,
      "outputs": [
        {
          "output_type": "stream",
          "name": "stdout",
          "text": [
            "Insira o ano: 2003\n",
            "Definitivamente não é um ano bissexto.\n"
          ]
        }
      ]
    },
    {
      "cell_type": "code",
      "source": [
        "cima = bool(input('Atribua um valor lógico: '))\n",
        "baixo = bool(input('Atribua um valor lógico: '))\n",
        "\n",
        "if cima == True and baixo == True:\n",
        "  print('Escolha apenas uma.')\n",
        "else: \n",
        "  print('Você escolheu seu caminho.')"
      ],
      "metadata": {
        "id": "TK1EdUjSINp2",
        "outputId": "3cc274d1-0366-40db-d4be-aabad7601862",
        "colab": {
          "base_uri": "https://localhost:8080/"
        }
      },
      "execution_count": 15,
      "outputs": [
        {
          "output_type": "stream",
          "name": "stdout",
          "text": [
            "Atribua um valor lógico: True\n",
            "Atribua um valor lógico: True\n",
            "Escolha apenas uma.\n"
          ]
        }
      ]
    },
    {
      "cell_type": "code",
      "source": [
        "consumo = float(input('Digite o seu consumo de energia elétrica em kWh: '))\n",
        "tipo = str(input('Insira o tipo de estabelecimento: \\n [R] Residências \\n [I] Indústrias \\n [C] Comércios \\n'))\n",
        "\n",
        "if tipo == 'R':\n",
        "  if consumo <= 500:\n",
        "    preco = consumo * 0.4\n",
        "    print('O total de consumo gerado foi de: R$ {:.2f}'.format(preco))\n",
        "  else:\n",
        "    preco = consumo * 0.65\n",
        "    print('O total de consumo gerado foi de: R$ {:.2f}'.format(preco))\n",
        "elif tipo == 'C':\n",
        "  if consumo <= 100:\n",
        "    preco = consumo * 0.55\n",
        "    print('O total de consumo gerado foi de: R$ {:.2f}'.format(preco))\n",
        "  else:\n",
        "    preco = consumo * 0.6\n",
        "    print('O total de consumo gerado foi de: R$ {:.2f}'.format(preco))\n",
        "elif tipo == 'I':\n",
        "  if consumo <= 5000:\n",
        "    preco = consumo * 0.55\n",
        "    print('O total de consumo gerado foi de: R$ {:.2f}'.format(preco))\n",
        "  else:\n",
        "    preco = consumo * 0.6\n",
        "    print('O total de consumo gerado foi de: R$ {:.2f}'.format(preco))\n",
        "else:\n",
        "  print('Estabelecimento inválido. Imposto!!!!!')"
      ],
      "metadata": {
        "id": "QNXVKFe4KClt",
        "outputId": "84e70cd7-cb46-47db-e24f-d6614f57263b",
        "colab": {
          "base_uri": "https://localhost:8080/"
        }
      },
      "execution_count": 17,
      "outputs": [
        {
          "output_type": "stream",
          "name": "stdout",
          "text": [
            "Digite o seu consumo de energia elétrica em kWh: 660\n",
            "Insira o tipo de estabelecimento: \n",
            " [R] Residências \n",
            " [I] Indústrias \n",
            " [C] Comércios \n",
            "C\n",
            "O total de consumo gerado foi de: R$ 396.00\n"
          ]
        }
      ]
    }
  ]
}