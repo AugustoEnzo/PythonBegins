{
  "nbformat": 4,
  "nbformat_minor": 0,
  "metadata": {
    "colab": {
      "name": "PRATIC05.ipynb",
      "provenance": [],
      "authorship_tag": "ABX9TyNR8kfeN9ZR3BfwDPh6OJT0",
      "include_colab_link": true
    },
    "kernelspec": {
      "name": "python3",
      "display_name": "Python 3"
    },
    "language_info": {
      "name": "python"
    }
  },
  "cells": [
    {
      "cell_type": "markdown",
      "metadata": {
        "id": "view-in-github",
        "colab_type": "text"
      },
      "source": [
        "<a href=\"https://colab.research.google.com/github/Enz-Lima/PythonBegins/blob/main/PRATIC05.ipynb\" target=\"_parent\"><img src=\"https://colab.research.google.com/assets/colab-badge.svg\" alt=\"Open In Colab\"/></a>"
      ]
    },
    {
      "cell_type": "code",
      "execution_count": null,
      "metadata": {
        "id": "mUVAmyS_rh2f"
      },
      "outputs": [],
      "source": [
        "x = 0\n",
        "while (x <= 99):\n",
        "  print(x)\n",
        "  x= x + 1"
      ]
    },
    {
      "cell_type": "code",
      "source": [
        "x = 0\n",
        "while (x < 100):\n",
        "  print(x)\n",
        "  x += 1"
      ],
      "metadata": {
        "id": "6xTZHlbYbiAz"
      },
      "execution_count": null,
      "outputs": []
    },
    {
      "cell_type": "code",
      "source": [
        "x = int(input('Valor inicial: '))\n",
        "y = int(input('Valor final: '))\n",
        "\n",
        "while (x <= y):\n",
        "  print(x)\n",
        "  x += 1"
      ],
      "metadata": {
        "id": "BMiKqP2Jbr4j"
      },
      "execution_count": null,
      "outputs": []
    },
    {
      "cell_type": "code",
      "source": [
        "x = 10\n",
        "while x != 0:\n",
        "  print(x)\n",
        "  x -= 1\n",
        "print('Fogooooo')"
      ],
      "metadata": {
        "id": "WRRdfI_icY7t",
        "outputId": "81f43fbd-a793-46ac-c0d3-369299b59245",
        "colab": {
          "base_uri": "https://localhost:8080/"
        }
      },
      "execution_count": 4,
      "outputs": [
        {
          "output_type": "stream",
          "name": "stdout",
          "text": [
            "10\n",
            "9\n",
            "8\n",
            "7\n",
            "6\n",
            "5\n",
            "4\n",
            "3\n",
            "2\n",
            "1\n",
            "Fogooooo\n"
          ]
        }
      ]
    },
    {
      "cell_type": "code",
      "source": [
        "x = int(input('Digite o valor Inicial: '))\n",
        "y = int(input('Digite o valor Final: '))\n",
        "\n",
        "while (x <= y):\n",
        "  if (x % 2 == 0):\n",
        "    print(x)\n",
        "  x += 1"
      ],
      "metadata": {
        "id": "2RT96Qg2dXsE"
      },
      "execution_count": null,
      "outputs": []
    },
    {
      "cell_type": "code",
      "source": [
        "x = int(input('Digite o valor Inicial: '))\n",
        "y = int(input('Digite o valor Final: '))\n",
        "\n",
        "while x <= y:\n",
        "  print(x)\n",
        "  x += 2"
      ],
      "metadata": {
        "id": "93Dt0ylYeIqD"
      },
      "execution_count": null,
      "outputs": []
    },
    {
      "cell_type": "code",
      "source": [
        "x = int(input('Digite o valor Inicial: '))\n",
        "y = int(input('Digite o valor Final: '))\n",
        "c = 1\n",
        "\n",
        "while c <= 3:\n",
        "  if x % 3 == 0:\n",
        "    print(x)\n",
        "    c += 1\n",
        "  x += 1"
      ],
      "metadata": {
        "id": "y8p9Vfi4ev7x",
        "outputId": "bd22fa2e-6793-4f98-d213-c7cbf78085ec",
        "colab": {
          "base_uri": "https://localhost:8080/"
        }
      },
      "execution_count": 9,
      "outputs": [
        {
          "output_type": "stream",
          "name": "stdout",
          "text": [
            "Digite o valor Inicial: 1\n",
            "Digite o valor Final: 30\n",
            "3\n",
            "6\n",
            "9\n"
          ]
        }
      ]
    },
    {
      "cell_type": "code",
      "source": [
        "num = int(input('Digite o multiplicador: '))\n",
        "x = num\n",
        "c= 1\n",
        "i = 1\n",
        "\n",
        "print('Calculando...')\n",
        "while c <= 3:\n",
        "  print('.' * c)\n",
        "  c += 1\n",
        "\n",
        "while i <= 10:\n",
        "  print('{} x {} = {}'.format(x, i, i * x))5\n",
        "  i += 1"
      ],
      "metadata": {
        "id": "J5RiviD-goqR",
        "outputId": "01022c98-8971-4e6b-e37f-65ae03252800",
        "colab": {
          "base_uri": "https://localhost:8080/"
        }
      },
      "execution_count": 13,
      "outputs": [
        {
          "output_type": "stream",
          "name": "stdout",
          "text": [
            "Digite o multiplicador: 5\n",
            "Calculando...\n",
            ".\n",
            "..\n",
            "...\n",
            "5 x 1 = 5\n",
            "5 x 2 = 10\n",
            "5 x 3 = 15\n",
            "5 x 4 = 20\n",
            "5 x 5 = 25\n",
            "5 x 6 = 30\n",
            "5 x 7 = 35\n",
            "5 x 8 = 40\n",
            "5 x 9 = 45\n",
            "5 x 10 = 50\n"
          ]
        }
      ]
    }
  ]
}