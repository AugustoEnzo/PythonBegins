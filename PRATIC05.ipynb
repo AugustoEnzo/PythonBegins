{
  "nbformat": 4,
  "nbformat_minor": 0,
  "metadata": {
    "colab": {
      "name": "PRATIC05.ipynb",
      "provenance": [],
      "authorship_tag": "ABX9TyOWz9aSfXwDCBd9oe0Jv7Pn",
      "include_colab_link": true
    },
    "kernelspec": {
      "name": "python3",
      "display_name": "Python 3"
    },
    "language_info": {
      "name": "python"
    }
  },
  "cells": [
    {
      "cell_type": "markdown",
      "metadata": {
        "id": "view-in-github",
        "colab_type": "text"
      },
      "source": [
        "<a href=\"https://colab.research.google.com/github/Enz-Lima/PythonBegins/blob/main/PRATIC05.ipynb\" target=\"_parent\"><img src=\"https://colab.research.google.com/assets/colab-badge.svg\" alt=\"Open In Colab\"/></a>"
      ]
    },
    {
      "cell_type": "code",
      "execution_count": null,
      "metadata": {
        "id": "mUVAmyS_rh2f"
      },
      "outputs": [],
      "source": [
        "x = 0\n",
        "while (x <= 99):\n",
        "  print(x)\n",
        "  x= x + 1"
      ]
    },
    {
      "cell_type": "code",
      "source": [
        "x = 0\n",
        "while (x < 100):\n",
        "  print(x)\n",
        "  x += 1"
      ],
      "metadata": {
        "id": "6xTZHlbYbiAz"
      },
      "execution_count": null,
      "outputs": []
    },
    {
      "cell_type": "code",
      "source": [
        "x = int(input('Valor inicial: '))\n",
        "y = int(input('Valor final: '))\n",
        "\n",
        "while (x <= y):\n",
        "  print(x)\n",
        "  x += 1"
      ],
      "metadata": {
        "id": "BMiKqP2Jbr4j"
      },
      "execution_count": null,
      "outputs": []
    },
    {
      "cell_type": "code",
      "source": [
        "x = 10\n",
        "while x != 0:\n",
        "  print(x)\n",
        "  x -= 1\n",
        "print('Fogooooo')"
      ],
      "metadata": {
        "colab": {
          "base_uri": "https://localhost:8080/"
        },
        "id": "WRRdfI_icY7t",
        "outputId": "81f43fbd-a793-46ac-c0d3-369299b59245"
      },
      "execution_count": 4,
      "outputs": [
        {
          "output_type": "stream",
          "name": "stdout",
          "text": [
            "10\n",
            "9\n",
            "8\n",
            "7\n",
            "6\n",
            "5\n",
            "4\n",
            "3\n",
            "2\n",
            "1\n",
            "Fogooooo\n"
          ]
        }
      ]
    },
    {
      "cell_type": "code",
      "source": [
        "x = int(input('Digite o valor Inicial: '))\n",
        "y = int(input('Digite o valor Final: '))\n",
        "\n",
        "while (x <= y):\n",
        "  if (x % 2 == 0):\n",
        "    print(x)\n",
        "  x += 1"
      ],
      "metadata": {
        "id": "2RT96Qg2dXsE"
      },
      "execution_count": null,
      "outputs": []
    },
    {
      "cell_type": "code",
      "source": [
        "x = int(input('Digite o valor Inicial: '))\n",
        "y = int(input('Digite o valor Final: '))\n",
        "\n",
        "while x <= y:\n",
        "  print(x)\n",
        "  x += 2"
      ],
      "metadata": {
        "id": "93Dt0ylYeIqD"
      },
      "execution_count": null,
      "outputs": []
    },
    {
      "cell_type": "code",
      "source": [
        "x = int(input('Digite o valor Inicial: '))\n",
        "y = int(input('Digite o valor Final: '))\n",
        "c = 1\n",
        "\n",
        "while c <= 3:\n",
        "  if x % 3 == 0:\n",
        "    print(x)\n",
        "    c += 1\n",
        "  x += 1"
      ],
      "metadata": {
        "colab": {
          "base_uri": "https://localhost:8080/"
        },
        "id": "y8p9Vfi4ev7x",
        "outputId": "bd22fa2e-6793-4f98-d213-c7cbf78085ec"
      },
      "execution_count": 9,
      "outputs": [
        {
          "output_type": "stream",
          "name": "stdout",
          "text": [
            "Digite o valor Inicial: 1\n",
            "Digite o valor Final: 30\n",
            "3\n",
            "6\n",
            "9\n"
          ]
        }
      ]
    },
    {
      "cell_type": "code",
      "source": [
        "num = int(input('Digite o multiplicador: '))\n",
        "x = num\n",
        "c= 1\n",
        "i = 1\n",
        "\n",
        "print('Calculando...')\n",
        "while c <= 3:\n",
        "  print('.' * c)\n",
        "  c += 1\n",
        "\n",
        "while i <= 10:\n",
        "  print('{} x {} = {}'.format(x, i, i * x))\n",
        "  i += 1"
      ],
      "metadata": {
        "id": "J5RiviD-goqR"
      },
      "execution_count": null,
      "outputs": []
    },
    {
      "cell_type": "code",
      "source": [
        "idx = int(input('Digite o número de valores que deseja calcular: '))\n",
        "count = 1\n",
        "print('Escolha uma operação: ')\n",
        "menu = int(input(' [1] Soma\\n [2] Subtração \\n [3] Multiplicação \\n [4] Divisão\\n'))\n",
        "\n",
        "if menu == 1:\n",
        "  oper = 'Soma'\n",
        "  while (count <= idx):\n",
        "    x = int(input('Digite o {}º número: '.format(count)))\n",
        "    resu += x\n",
        "    count += 1\n",
        "  print('A {} entre todos os valores resultou em: {}'.format(oper, resu))\n",
        "  media = resu / idx\n",
        "  print('A média aritmética do resultado pelo número de valores: {}'.fomat(media))\n",
        "\n",
        "elif menu == 2:\n",
        "  oper = 'Subtração'\n",
        "  while (count <= idx):\n",
        "    x = int(input('Digite o {}º número: '.format(count)))\n",
        "    resu -= x\n",
        "    count += 1\n",
        "  print('A {} entre todos os valores resultou em: {}'.format(oper, resu))\n",
        "  media = resu / idx\n",
        "  print('A média aritmética do resultado pelo número de valores: {}'.format(media))\n",
        "\n",
        "elif menu == 3:\n",
        "  oper = 'Multiplicação'\n",
        "  while (count <= idx):\n",
        "    x = int(input('Digite o {}º número: '.format(count)))\n",
        "    if count == 1:\n",
        "      resu = 1\n",
        "    resu = resu * x\n",
        "    count += 1\n",
        "  print('A {} entre os valores resultou em: {}'.format(oper, resu))\n",
        "  media = resu /idx\n",
        "  print('A média aritmética do resultado pelo número de valores: {}'.format(media))\n",
        "\n",
        "elif menu == 4:\n",
        "  oper = 'Divisão'\n",
        "  while (count <= idx):\n",
        "    x = int(input('Digite o {}º número: '.format(count)))\n",
        "    if count == 1:\n",
        "      resu = 13\n",
        "    resu = resu / x\n",
        "    count += 1\n",
        "  print('A {} entre os valores resultou em: {}'.format(oper, resu))\n",
        "  media = resu / idx\n",
        "  print('A média aritmética do resultado pelo número de valores: {}'.format(media))"
      ],
      "metadata": {
        "id": "cAawNto1jhbJ"
      },
      "execution_count": null,
      "outputs": []
    },
    {
      "cell_type": "code",
      "source": [
        "ini = int(input('Digite o valor inicial: '))\n",
        "fim = int(input('Digite o valor final: '))\n",
        "c = ini\n",
        "c_impar = c_int_pos = c_pair = 0\n",
        "\n",
        "while (c <= fim):\n",
        "  if type(c) == int and c > 0:\n",
        "    c_int_pos += 1\n",
        "  if c % 2 == 0:\n",
        "    c_pair += 1\n",
        "  if c % 2 != 0:\n",
        "    c_impar += 1\n",
        "  c += 1\n",
        "print('O total de números inteiros e positivos é de: {}'.format(c_int_pos))\n",
        "print('O total de números pares é de: {}'.format(c_pair))\n",
        "print('O total de números impares é de: {}'.format(c_impar))\n",
        "print('A média de inteiros e positivos é de: {}'.format(c_int_pos/fim))\n",
        "print('A média de pares é de: {}'.format(c_pair/fim))\n",
        "print('A média de impares é de: {}'.format(c_impar/fim))"
      ],
      "metadata": {
        "colab": {
          "base_uri": "https://localhost:8080/"
        },
        "id": "rxrmhjXyCcGG",
        "outputId": "97562e39-f963-4192-eca5-910d8e1eeccb"
      },
      "execution_count": 16,
      "outputs": [
        {
          "output_type": "stream",
          "name": "stdout",
          "text": [
            "Digite o valor inicial: 1\n",
            "Digite o valor final: 100\n",
            "O total de números inteiros e positivos é de: 100\n",
            "O total de números pares é de: 50\n",
            "O total de números impares é de: 50\n",
            "A média de inteiros e positivos é de: 1.0\n",
            "A média de pares é de: 0.5\n",
            "A média de impares é de: 0.5\n"
          ]
        }
      ]
    },
    {
      "cell_type": "code",
      "source": [
        ""
      ],
      "metadata": {
        "id": "rYl3aKX8BaGh"
      },
      "execution_count": null,
      "outputs": []
    }
  ]
}