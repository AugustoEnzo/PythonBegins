{
  "nbformat": 4,
  "nbformat_minor": 0,
  "metadata": {
    "colab": {
      "name": "Untitled0.ipynb",
      "provenance": [],
      "authorship_tag": "ABX9TyNadjBiKOjCrF8PmcFSJIL0",
      "include_colab_link": true
    },
    "kernelspec": {
      "name": "python3",
      "display_name": "Python 3"
    },
    "language_info": {
      "name": "python"
    }
  },
  "cells": [
    {
      "cell_type": "markdown",
      "metadata": {
        "id": "view-in-github",
        "colab_type": "text"
      },
      "source": [
        "<a href=\"https://colab.research.google.com/github/Enz-Lima/PythonBegins/blob/main/PRATIC06.ipynb\" target=\"_parent\"><img src=\"https://colab.research.google.com/assets/colab-badge.svg\" alt=\"Open In Colab\"/></a>"
      ]
    },
    {
      "cell_type": "code",
      "execution_count": null,
      "metadata": {
        "id": "_EYpqLDZZpM3",
        "outputId": "a5c5a87d-b3c6-4cbe-8425-a8b71d8e826e",
        "colab": {
          "base_uri": "https://localhost:8080/"
        }
      },
      "outputs": [
        {
          "output_type": "stream",
          "name": "stdout",
          "text": [
            "3\n",
            "4\n",
            "5\n",
            "6\n",
            "7\n",
            "8\n",
            "9\n",
            "10\n",
            "11\n",
            "12\n",
            "13\n"
          ]
        }
      ],
      "source": [
        "i = 3\n",
        "while i <= 12:\n",
        "  print(i)\n",
        "  i += 1"
      ]
    },
    {
      "cell_type": "code",
      "source": [
        "for c in range(3, 12 + 1, 1):\n",
        "  print(c)"
      ],
      "metadata": {
        "id": "x6vIxPLjbIFc",
        "outputId": "23c55a63-7e27-41fe-eaca-a32c24833fc8",
        "colab": {
          "base_uri": "https://localhost:8080/"
        }
      },
      "execution_count": null,
      "outputs": [
        {
          "output_type": "stream",
          "name": "stdout",
          "text": [
            "3\n",
            "4\n",
            "5\n",
            "6\n",
            "7\n",
            "8\n",
            "9\n",
            "10\n",
            "11\n",
            "12\n"
          ]
        }
      ]
    },
    {
      "cell_type": "code",
      "source": [
        "i = 0\n",
        "while i <= 9 - 1:\n",
        "  print(i)\n",
        "  i += 2"
      ],
      "metadata": {
        "id": "mezSGElubPQi",
        "outputId": "e2ee192f-ab6d-4c12-b313-4ee1f709333d",
        "colab": {
          "base_uri": "https://localhost:8080/"
        }
      },
      "execution_count": null,
      "outputs": [
        {
          "output_type": "stream",
          "name": "stdout",
          "text": [
            "0\n",
            "2\n",
            "4\n",
            "6\n",
            "8\n"
          ]
        }
      ]
    },
    {
      "cell_type": "code",
      "source": [
        "for c in range(0, 9, 2):\n",
        "  print(c)"
      ],
      "metadata": {
        "id": "sSGl-kIjbcnx",
        "outputId": "995c6f44-c0dc-4af4-a938-3799056865b4",
        "colab": {
          "base_uri": "https://localhost:8080/"
        }
      },
      "execution_count": null,
      "outputs": [
        {
          "output_type": "stream",
          "name": "stdout",
          "text": [
            "0\n",
            "2\n",
            "4\n",
            "6\n",
            "8\n"
          ]
        }
      ]
    },
    {
      "cell_type": "code",
      "source": [
        "resu_sum = 0\n",
        "resu_sub = 0\n",
        "resu_mul = 1\n",
        "resu_div = 1\n",
        "while True:\n",
        "  print('Escolha a operação: ')\n",
        "  menu = int(input(' [1] Soma \\n [2] Subtração \\n [3] Multiplicação \\n [4] Divisão \\n [5] Sair \\n'))\n",
        "  if menu == 1:\n",
        "    n1 = int(input('Insira o 1º valor: '))\n",
        "    n2 = int(input('Insira o 2º valor: '))\n",
        "    soma = n1 + n2\n",
        "    resu_sum += soma\n",
        "    print('A soma entre {} e {} resulta em: {}'.format(n1, n2, soma))\n",
        "  \n",
        "  if menu == 2:\n",
        "    n1 = int(input('Insira o 1º valor: '))\n",
        "    n2 = int(input('Insira o 2º valor: '))\n",
        "    sub = n1 - n2\n",
        "    resu_sub -= sub\n",
        "    print('A subtração entre {} e {} resulta em: {}'.format(n1, n2, sub))\n",
        "\n",
        "  if menu == 3:\n",
        "    n1 = int(input('Insira o 1º valor: '))\n",
        "    n2 = int(input('Insira o 2º valor: '))\n",
        "    mul = n1 * n2\n",
        "    resu_mul *= mul\n",
        "    print('A multiplicação entre {} e {} resulta em: {}'.format(n1, n2, mul))\n",
        "\n",
        "  if menu == 4:\n",
        "    n1 = int(input('Insira o 1º valor: '))\n",
        "    n2 = int(input('Insira o 2º valor: '))\n",
        "    div = n1 / n2\n",
        "    resu_div /= div\n",
        "    print('A divisão entre {} e {} resulta em: {}'.format(n1, n2, div))\n",
        "\n",
        "  if menu == 5:\n",
        "    print('Finalizando...')\n",
        "    print('.')\n",
        "    print('..')\n",
        "    print('...')\n",
        "    break\n",
        "  \n",
        "  if menu not in (1, 2, 3, 4, 5):\n",
        "    print('Selecione uma opção válida.')\n",
        "\n",
        "print('O total de somas foi igual  a: {}'.format(resu_sum))\n",
        "print('O total de subtrações foi de: {}'.format(resu_sub))\n",
        "print('O total de multiplicações foi de: {}'.format(resu_mul))\n",
        "print('O total de divisões foi de: {}'.format(resu_div))"
      ],
      "metadata": {
        "id": "E2G6IWJVbvex",
        "outputId": "6d01d7eb-ce46-4994-ae20-0cf6507daabd",
        "colab": {
          "base_uri": "https://localhost:8080/"
        }
      },
      "execution_count": null,
      "outputs": [
        {
          "output_type": "stream",
          "name": "stdout",
          "text": [
            "Escolha a operação: \n",
            " [1] Soma \n",
            " [2] Subtração \n",
            " [3] Multiplicação \n",
            " [4] Divisão \n",
            " [5] Sair \n",
            "1\n",
            "Insira o 1º valor: 11\n",
            "Insira o 2º valor: 22\n",
            "A soma entre 11 e 22 resulta em: 33\n",
            "Escolha a operação: \n",
            " [1] Soma \n",
            " [2] Subtração \n",
            " [3] Multiplicação \n",
            " [4] Divisão \n",
            " [5] Sair \n",
            "5\n",
            "Finalizando...\n",
            ".\n",
            "..\n",
            "...\n",
            "O total de somas foi igual  a: 33\n",
            "O total de subtrações foi de: 0\n",
            "O total de multiplicações foi de: 1\n",
            "O total de divisões foi de: 1\n"
          ]
        }
      ]
    },
    {
      "cell_type": "code",
      "source": [
        "valor = float(input('Digite o valor do saque: '))\n",
        "saque = ced_cem = ced_cinq = ced_vin = ced_dez = ced_cin = ced_um = 0\n",
        "\n",
        "while True:\n",
        "  while (saque + 100) <= valor:\n",
        "    saque += 100\n",
        "    ced_cem += 1\n",
        "  \n",
        "  while (saque + 50) <= valor:\n",
        "    saque += 50\n",
        "    ced_cinq += 1\n",
        "  \n",
        "  while (saque + 20) <= valor:\n",
        "    saque += 20\n",
        "    ced_vin += 1\n",
        "  \n",
        "  while (saque + 10) <= valor:\n",
        "    saque += 10\n",
        "    ced_dez += 1\n",
        "  \n",
        "  while (saque + 5) <= valor:\n",
        "    saque += 5\n",
        "    ced_cin += 1\n",
        "\n",
        "  while (saque + 1) <= valor:\n",
        "    saque += 1\n",
        "    ced_um += 1\n",
        "\n",
        "  break\n",
        "print('Efetuando saque: ')\n",
        "print('O total de cédulas de cem: {}'.format(ced_cem))\n",
        "print('O total de cédulas de cinquenta: {}'.format(ced_cinq))\n",
        "print('O total de cédulas de vinte: {}'.format(ced_vin))\n",
        "print('O total de cédulas de dez: {}'.format(ced_dez))\n",
        "print('O total de cédulas de cinco: {}'.format(ced_cin))\n",
        "print('O total de cédulas de um: {}'.format(ced_um))\n"
      ],
      "metadata": {
        "colab": {
          "base_uri": "https://localhost:8080/"
        },
        "id": "VBxK4Huipu13",
        "outputId": "a5b9515b-0f14-4b42-f292-65c5e5f2d47e"
      },
      "execution_count": 16,
      "outputs": [
        {
          "output_type": "stream",
          "name": "stdout",
          "text": [
            "Digite o valor do saque: 1234\n",
            "Efetuando saque: \n",
            "O total de cédulas de cem: 12\n",
            "O total de cédulas de cinquenta: 0\n",
            "O total de cédulas de vinte: 1\n",
            "O total de cédulas de dez: 1\n",
            "O total de cédulas de cinco: 0\n",
            "O total de cédulas de um: 4\n"
          ]
        }
      ]
    }
  ]
}