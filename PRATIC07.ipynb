{
  "nbformat": 4,
  "nbformat_minor": 0,
  "metadata": {
    "colab": {
      "name": "PRATIC07.ipynb",
      "provenance": [],
      "authorship_tag": "ABX9TyPJGZoN13mc5b5AE9dxO4ey",
      "include_colab_link": true
    },
    "kernelspec": {
      "name": "python3",
      "display_name": "Python 3"
    },
    "language_info": {
      "name": "python"
    }
  },
  "cells": [
    {
      "cell_type": "markdown",
      "metadata": {
        "id": "view-in-github",
        "colab_type": "text"
      },
      "source": [
        "<a href=\"https://colab.research.google.com/github/Enz-Lima/PythonBegins/blob/main/PRATIC07.ipynb\" target=\"_parent\"><img src=\"https://colab.research.google.com/assets/colab-badge.svg\" alt=\"Open In Colab\"/></a>"
      ]
    },
    {
      "cell_type": "code",
      "execution_count": 11,
      "metadata": {
        "id": "VF4S3xRsZdEw"
      },
      "outputs": [],
      "source": [
        "def realce ():\n",
        "  print('|','--' * 10, '|')"
      ]
    },
    {
      "cell_type": "code",
      "source": [
        "#Programa principal\n",
        "realce()\n",
        "print('          MENU')\n",
        "realce()"
      ],
      "metadata": {
        "colab": {
          "base_uri": "https://localhost:8080/"
        },
        "id": "Moachd4GlgRe",
        "outputId": "239561ab-2f5b-46c1-c786-26364a88ab07"
      },
      "execution_count": 12,
      "outputs": [
        {
          "output_type": "stream",
          "name": "stdout",
          "text": [
            "| -------------------- |\n",
            "          MENU\n",
            "| -------------------- |\n"
          ]
        }
      ]
    },
    {
      "cell_type": "code",
      "source": [
        "def realce(s1):\n",
        "  print('|', '--' * 10, '|')\n",
        "  print(' ' * 9, s1)\n",
        "  print('|', '--' * 10, '|')"
      ],
      "metadata": {
        "id": "2lGANV8imCC9"
      },
      "execution_count": 20,
      "outputs": []
    },
    {
      "cell_type": "code",
      "source": [
        "realce('Opção')"
      ],
      "metadata": {
        "colab": {
          "base_uri": "https://localhost:8080/"
        },
        "id": "v6-hkSvLoHC5",
        "outputId": "6b7539cf-7be3-46d6-9c4f-4d0d05e0aa58"
      },
      "execution_count": 22,
      "outputs": [
        {
          "output_type": "stream",
          "name": "stdout",
          "text": [
            "| -------------------- |\n",
            "          Opção\n",
            "| -------------------- |\n"
          ]
        }
      ]
    },
    {
      "cell_type": "code",
      "source": [
        "def subtracao (n1, n2):\n",
        "  resu = n1 - n2\n",
        "  print(resu)"
      ],
      "metadata": {
        "id": "6_99SdW6o7A0"
      },
      "execution_count": 25,
      "outputs": []
    },
    {
      "cell_type": "code",
      "source": [
        "subtracao(12345253, 12341)"
      ],
      "metadata": {
        "colab": {
          "base_uri": "https://localhost:8080/"
        },
        "id": "VUrIYHdRpGe-",
        "outputId": "22e5cb0c-ea14-4af2-d7ee-c6881f03fd39"
      },
      "execution_count": 27,
      "outputs": [
        {
          "output_type": "stream",
          "name": "stdout",
          "text": [
            "12332912\n"
          ]
        }
      ]
    },
    {
      "cell_type": "code",
      "source": [
        "def soma3(x, y, z):\n",
        "  resu = x + y + z\n",
        "  print(resu)"
      ],
      "metadata": {
        "id": "ULdariRyqmOS"
      },
      "execution_count": 28,
      "outputs": []
    },
    {
      "cell_type": "code",
      "source": [
        "def soma3(x = 0, y = 0, z = 0):\n",
        "  resu = x + y + z\n",
        "  print(resu)"
      ],
      "metadata": {
        "id": "JS5HwXTGqu6p"
      },
      "execution_count": null,
      "outputs": []
    },
    {
      "cell_type": "code",
      "source": [
        "soma3(1, 2, 3)\n",
        "soma3(1, 2) # z não foi inputado\n",
        "soma3(1)    # y e z não foram inputados\n",
        "soma3()     # nenhum valor foi imputado."
      ],
      "metadata": {
        "colab": {
          "base_uri": "https://localhost:8080/"
        },
        "id": "x1sQHCpTrIfY",
        "outputId": "4b9df84c-e51a-4cf4-9e34-ab3b50090099"
      },
      "execution_count": 29,
      "outputs": [
        {
          "output_type": "stream",
          "name": "stdout",
          "text": [
            "6\n"
          ]
        }
      ]
    },
    {
      "cell_type": "code",
      "source": [
        "def soma3(x = 0, y = 0, z = 0, exibir=False):\n",
        "  resu = x + y + z\n",
        "  if exibir:\n",
        "    print(resu)"
      ],
      "metadata": {
        "id": "2oPmOkbOr4GX"
      },
      "execution_count": 30,
      "outputs": []
    },
    {
      "cell_type": "code",
      "source": [
        "soma3(4,5,6, True)"
      ],
      "metadata": {
        "colab": {
          "base_uri": "https://localhost:8080/"
        },
        "id": "2S5Y3c4EsNzf",
        "outputId": "ce0479e4-9935-4203-fa82-c2cfaaa0f018"
      },
      "execution_count": 31,
      "outputs": [
        {
          "output_type": "stream",
          "name": "stdout",
          "text": [
            "15\n"
          ]
        }
      ]
    },
    {
      "cell_type": "code",
      "source": [
        "soma3(x = 4, y = 10, exibir = True)"
      ],
      "metadata": {
        "colab": {
          "base_uri": "https://localhost:8080/"
        },
        "id": "ZEDYCsP4sf7H",
        "outputId": "ca5aa570-008d-4286-d42a-db207e509eaa"
      },
      "execution_count": 32,
      "outputs": [
        {
          "output_type": "stream",
          "name": "stdout",
          "text": [
            "14\n"
          ]
        }
      ]
    },
    {
      "cell_type": "code",
      "source": [
        "# Exercicio 1\n",
        "def realce(p1):\n",
        "  tam = len(p1)\n",
        "  if tam:\n",
        "    print('+', '-'*tam, '+')\n",
        "    print('|', p1, '|')\n",
        "    print('+', '-'*tam, '+')"
      ],
      "metadata": {
        "id": "EWbL4K157EHV"
      },
      "execution_count": 45,
      "outputs": []
    },
    {
      "cell_type": "code",
      "source": [
        "realce('titulo')"
      ],
      "metadata": {
        "colab": {
          "base_uri": "https://localhost:8080/"
        },
        "id": "xJ3bCRLc7gF7",
        "outputId": "89c23888-1421-4195-d2a4-713c68fe3c62"
      },
      "execution_count": 46,
      "outputs": [
        {
          "output_type": "stream",
          "name": "stdout",
          "text": [
            "+ ------ +\n",
            "| titulo |\n",
            "+ ------ +\n"
          ]
        }
      ]
    },
    {
      "cell_type": "code",
      "source": [
        "# Exercicio 2\n",
        "def counter(fim, ini=0, passo=1):\n",
        "  for i in range(ini, fim, passo):\n",
        "    print('{}'.format(i), end=', ')\n",
        "  print('\\n')\n",
        "\n",
        "counter(100, 1, 2)"
      ],
      "metadata": {
        "colab": {
          "base_uri": "https://localhost:8080/"
        },
        "id": "8mXXXyjz9hjj",
        "outputId": "cc3e210f-8f9a-4ce8-a26f-e7449123fbda"
      },
      "execution_count": 49,
      "outputs": [
        {
          "output_type": "stream",
          "name": "stdout",
          "text": [
            "1, 3, 5, 7, 9, 11, 13, 15, 17, 19, 21, 23, 25, 27, 29, 31, 33, 35, 37, 39, 41, 43, 45, 47, 49, 51, 53, 55, 57, 59, 61, 63, 65, 67, 69, 71, 73, 75, 77, 79, 81, 83, 85, 87, 89, 91, 93, 95, 97, 99, \n",
            "\n"
          ]
        }
      ]
    },
    {
      "cell_type": "code",
      "source": [
        "# Exercicio 3\n",
        "def compare(n1=0, n2=0, n3=0):\n",
        "  if (n1 and n2 and n3):\n",
        "    if ((n1 > n2) and (n1 > n3)):\n",
        "      if (n3 > n2):\n",
        "        print('{} > {} > {}'.format(n1, n3, n2), end='')\n",
        "      elif (n2 > n3):\n",
        "        print('{} > {} > {}'.format(n1, n2, n3), end='')\n",
        "    elif (n2 > n1) and (n2 > n3):\n",
        "      if (n3 > n1):\n",
        "        print('{} > {} > {}'.format(n2, n3, n1), end='')\n",
        "      elif (n1 > n3):\n",
        "        print('{} > {} > {}'.format(n2, n1, n3), end='')\n",
        "    elif (n3 > n1) and (n3 > n2):\n",
        "      if (n2 > n1):\n",
        "        print('{} > {} > {}'.format(n3, n2, n1), end='')\n",
        "      elif (n3 > n1):\n",
        "        print('{} > {} > {}'.format(n3, n1, n2), end='')"
      ],
      "metadata": {
        "id": "RH92ZYXh-mbM"
      },
      "execution_count": 8,
      "outputs": []
    },
    {
      "cell_type": "code",
      "source": [
        "# Exercício primário:\n",
        "x = int(input('Digite o valor 1º: '))\n",
        "y = int(input('Digite o valor 2º: '))\n",
        "z = int(input('Digite o valor 3º: '))\n",
        "compare(x, y, z)"
      ],
      "metadata": {
        "colab": {
          "base_uri": "https://localhost:8080/"
        },
        "id": "c8jEChenD41-",
        "outputId": "56032f0b-bdcf-4ee9-e42b-8283637d3bf6"
      },
      "execution_count": 10,
      "outputs": [
        {
          "output_type": "stream",
          "name": "stdout",
          "text": [
            "Digite o valor 1º: 12\n",
            "Digite o valor 2º: 32\n",
            "Digite o valor 3º: 44\n",
            "44 > 32 > 12"
          ]
        }
      ]
    },
    {
      "cell_type": "code",
      "source": [
        "def comida():\n",
        "  ovos = 12\n",
        "\n",
        "# Programa principal\n",
        "comida()\n",
        "print(ovos)"
      ],
      "metadata": {
        "id": "xMh6C3Szb9HK",
        "outputId": "9cddf257-224a-44d3-f4a9-44b451ea85e4",
        "colab": {
          "base_uri": "https://localhost:8080/",
          "height": 200
        }
      },
      "execution_count": 12,
      "outputs": [
        {
          "output_type": "error",
          "ename": "NameError",
          "evalue": "ignored",
          "traceback": [
            "\u001b[0;31m---------------------------------------------------------------------------\u001b[0m",
            "\u001b[0;31mNameError\u001b[0m                                 Traceback (most recent call last)",
            "\u001b[0;32m<ipython-input-12-95f68707b12b>\u001b[0m in \u001b[0;36m<module>\u001b[0;34m()\u001b[0m\n\u001b[1;32m      4\u001b[0m \u001b[0;31m# Programa principal\u001b[0m\u001b[0;34m\u001b[0m\u001b[0;34m\u001b[0m\u001b[0;34m\u001b[0m\u001b[0m\n\u001b[1;32m      5\u001b[0m \u001b[0mcomida\u001b[0m\u001b[0;34m(\u001b[0m\u001b[0;34m)\u001b[0m\u001b[0;34m\u001b[0m\u001b[0;34m\u001b[0m\u001b[0m\n\u001b[0;32m----> 6\u001b[0;31m \u001b[0mprint\u001b[0m\u001b[0;34m(\u001b[0m\u001b[0movos\u001b[0m\u001b[0;34m)\u001b[0m\u001b[0;34m\u001b[0m\u001b[0;34m\u001b[0m\u001b[0m\n\u001b[0m",
            "\u001b[0;31mNameError\u001b[0m: name 'ovos' is not defined"
          ]
        }
      ]
    },
    {
      "cell_type": "code",
      "source": [
        "def comida():\n",
        "  print(ovos)\n",
        "\n",
        "# Programa principal\n",
        "ovos = 12\n",
        "comida()"
      ],
      "metadata": {
        "id": "obw_sgojcbV5",
        "outputId": "53c0b8f7-aadd-4af7-cbb5-58d7cbe3116c",
        "colab": {
          "base_uri": "https://localhost:8080/"
        }
      },
      "execution_count": 13,
      "outputs": [
        {
          "output_type": "stream",
          "name": "stdout",
          "text": [
            "12\n"
          ]
        }
      ]
    },
    {
      "cell_type": "code",
      "source": [
        "def comida():\n",
        "  ovos = 12\n",
        "  bacon()\n",
        "  print(ovos)\n",
        "\n",
        "def bacon():\n",
        "  ovos = 6\n",
        "\n",
        "#Programa principal\n",
        "  comida()"
      ],
      "metadata": {
        "id": "VMfW2r-8c4Wg"
      },
      "execution_count": 14,
      "outputs": []
    },
    {
      "cell_type": "code",
      "source": [
        "def comida():\n",
        "  ovos = 'variáveis local de comida'\n",
        "  print(ovos)\n",
        "\n",
        "def bacon():\n",
        "  ovos = 'variáveis local de bacon'\n",
        "  print(ovos)\n",
        "  comida()\n",
        "  print(ovos)\n",
        "\n",
        "# Programa principal\n",
        "ovos = 'variável global'\n",
        "bacon()\n",
        "print(ovos)"
      ],
      "metadata": {
        "id": "55JYquM8dZym"
      },
      "execution_count": null,
      "outputs": []
    },
    {
      "cell_type": "code",
      "source": [
        "def comida():\n",
        "  global ovos\n",
        "  ovos = 'comida'\n",
        "\n",
        "# Programa principal\n",
        "ovos = 'global'\n",
        "comida()\n",
        "print(ovos)"
      ],
      "metadata": {
        "id": "JzCJM4-jfOkO",
        "outputId": "b0a89506-7fe1-4ab0-8122-a6b03f2f0dc4",
        "colab": {
          "base_uri": "https://localhost:8080/"
        }
      },
      "execution_count": 16,
      "outputs": [
        {
          "output_type": "stream",
          "name": "stdout",
          "text": [
            "comida\n"
          ]
        }
      ]
    },
    {
      "cell_type": "code",
      "source": [
        "def comida():\n",
        "  global ovos\n",
        "  ovos = 'comida'\n",
        "  bacon()\n",
        "\n",
        "def bacon():\n",
        "  ovos = 'bacon'\n",
        "  pimenta()\n",
        "\n",
        "def pimenta():\n",
        "  print(ovos)\n",
        "\n",
        "# Programa principal\n",
        "ovos = 12\n",
        "comida()\n",
        "print(ovos)"
      ],
      "metadata": {
        "id": "03TJLF79fTSg",
        "outputId": "eac90ab5-4506-4375-fe59-88772c6ff9af",
        "colab": {
          "base_uri": "https://localhost:8080/"
        }
      },
      "execution_count": 17,
      "outputs": [
        {
          "output_type": "stream",
          "name": "stdout",
          "text": [
            "comida\n",
            "comida\n"
          ]
        }
      ]
    },
    {
      "cell_type": "code",
      "source": [
        "def comida():\n",
        "  print(ovos)\n",
        "  ovos = 'variável local'\n",
        "\n",
        "# Programa principal\n",
        "ovos = 'variável global'\n",
        "comida()"
      ],
      "metadata": {
        "id": "kDMUtOwIjlXV"
      },
      "execution_count": null,
      "outputs": []
    }
  ]
}