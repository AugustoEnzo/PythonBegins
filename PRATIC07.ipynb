{
  "nbformat": 4,
  "nbformat_minor": 0,
  "metadata": {
    "colab": {
      "name": "PRATIC07.ipynb",
      "provenance": [],
      "authorship_tag": "ABX9TyNd4GK3m7QJ+fDuF7rC72Hy",
      "include_colab_link": true
    },
    "kernelspec": {
      "name": "python3",
      "display_name": "Python 3"
    },
    "language_info": {
      "name": "python"
    }
  },
  "cells": [
    {
      "cell_type": "markdown",
      "metadata": {
        "id": "view-in-github",
        "colab_type": "text"
      },
      "source": [
        "<a href=\"https://colab.research.google.com/github/Enz-Lima/PythonBegins/blob/main/PRATIC07.ipynb\" target=\"_parent\"><img src=\"https://colab.research.google.com/assets/colab-badge.svg\" alt=\"Open In Colab\"/></a>"
      ]
    },
    {
      "cell_type": "code",
      "execution_count": null,
      "metadata": {
        "id": "VF4S3xRsZdEw"
      },
      "outputs": [],
      "source": [
        "def realce ():\n",
        "  print('|','--' * 10, '|')"
      ]
    },
    {
      "cell_type": "code",
      "source": [
        "#Programa principal\n",
        "realce()\n",
        "print('          MENU')\n",
        "realce()"
      ],
      "metadata": {
        "colab": {
          "base_uri": "https://localhost:8080/"
        },
        "id": "Moachd4GlgRe",
        "outputId": "239561ab-2f5b-46c1-c786-26364a88ab07"
      },
      "execution_count": null,
      "outputs": [
        {
          "output_type": "stream",
          "name": "stdout",
          "text": [
            "| -------------------- |\n",
            "          MENU\n",
            "| -------------------- |\n"
          ]
        }
      ]
    },
    {
      "cell_type": "code",
      "source": [
        "def realce(s1):\n",
        "  print('|', '--' * 10, '|')\n",
        "  print(' ' * 9, s1)\n",
        "  print('|', '--' * 10, '|')"
      ],
      "metadata": {
        "id": "2lGANV8imCC9"
      },
      "execution_count": null,
      "outputs": []
    },
    {
      "cell_type": "code",
      "source": [
        "realce('Opção')"
      ],
      "metadata": {
        "colab": {
          "base_uri": "https://localhost:8080/"
        },
        "id": "v6-hkSvLoHC5",
        "outputId": "6b7539cf-7be3-46d6-9c4f-4d0d05e0aa58"
      },
      "execution_count": null,
      "outputs": [
        {
          "output_type": "stream",
          "name": "stdout",
          "text": [
            "| -------------------- |\n",
            "          Opção\n",
            "| -------------------- |\n"
          ]
        }
      ]
    },
    {
      "cell_type": "code",
      "source": [
        "def subtracao (n1, n2):\n",
        "  resu = n1 - n2\n",
        "  print(resu)"
      ],
      "metadata": {
        "id": "6_99SdW6o7A0"
      },
      "execution_count": null,
      "outputs": []
    },
    {
      "cell_type": "code",
      "source": [
        "subtracao(12345253, 12341)"
      ],
      "metadata": {
        "colab": {
          "base_uri": "https://localhost:8080/"
        },
        "id": "VUrIYHdRpGe-",
        "outputId": "22e5cb0c-ea14-4af2-d7ee-c6881f03fd39"
      },
      "execution_count": null,
      "outputs": [
        {
          "output_type": "stream",
          "name": "stdout",
          "text": [
            "12332912\n"
          ]
        }
      ]
    },
    {
      "cell_type": "code",
      "source": [
        "def soma3(x, y, z):\n",
        "  resu = x + y + z\n",
        "  print(resu)"
      ],
      "metadata": {
        "id": "ULdariRyqmOS"
      },
      "execution_count": null,
      "outputs": []
    },
    {
      "cell_type": "code",
      "source": [
        "def soma3(x = 0, y = 0, z = 0):\n",
        "  resu = x + y + z\n",
        "  print(resu)"
      ],
      "metadata": {
        "id": "JS5HwXTGqu6p"
      },
      "execution_count": null,
      "outputs": []
    },
    {
      "cell_type": "code",
      "source": [
        "soma3(1, 2, 3)\n",
        "soma3(1, 2) # z não foi inputado\n",
        "soma3(1)    # y e z não foram inputados\n",
        "soma3()     # nenhum valor foi imputado."
      ],
      "metadata": {
        "colab": {
          "base_uri": "https://localhost:8080/"
        },
        "id": "x1sQHCpTrIfY",
        "outputId": "4b9df84c-e51a-4cf4-9e34-ab3b50090099"
      },
      "execution_count": null,
      "outputs": [
        {
          "output_type": "stream",
          "name": "stdout",
          "text": [
            "6\n"
          ]
        }
      ]
    },
    {
      "cell_type": "code",
      "source": [
        "def soma3(x = 0, y = 0, z = 0, exibir=False):\n",
        "  resu = x + y + z\n",
        "  if exibir:\n",
        "    print(resu)"
      ],
      "metadata": {
        "id": "2oPmOkbOr4GX"
      },
      "execution_count": null,
      "outputs": []
    },
    {
      "cell_type": "code",
      "source": [
        "soma3(4,5,6, True)"
      ],
      "metadata": {
        "colab": {
          "base_uri": "https://localhost:8080/"
        },
        "id": "2S5Y3c4EsNzf",
        "outputId": "ce0479e4-9935-4203-fa82-c2cfaaa0f018"
      },
      "execution_count": null,
      "outputs": [
        {
          "output_type": "stream",
          "name": "stdout",
          "text": [
            "15\n"
          ]
        }
      ]
    },
    {
      "cell_type": "code",
      "source": [
        "soma3(x = 4, y = 10, exibir = True)"
      ],
      "metadata": {
        "colab": {
          "base_uri": "https://localhost:8080/"
        },
        "id": "ZEDYCsP4sf7H",
        "outputId": "ca5aa570-008d-4286-d42a-db207e509eaa"
      },
      "execution_count": null,
      "outputs": [
        {
          "output_type": "stream",
          "name": "stdout",
          "text": [
            "14\n"
          ]
        }
      ]
    },
    {
      "cell_type": "code",
      "source": [
        "# Exercicio 1\n",
        "def realce(p1):\n",
        "  tam = len(p1)\n",
        "  if tam:\n",
        "    print('+', '-'*tam, '+')\n",
        "    print('|', p1, '|')\n",
        "    print('+', '-'*tam, '+')"
      ],
      "metadata": {
        "id": "EWbL4K157EHV"
      },
      "execution_count": null,
      "outputs": []
    },
    {
      "cell_type": "code",
      "source": [
        "realce('titulo')"
      ],
      "metadata": {
        "colab": {
          "base_uri": "https://localhost:8080/"
        },
        "id": "xJ3bCRLc7gF7",
        "outputId": "89c23888-1421-4195-d2a4-713c68fe3c62"
      },
      "execution_count": null,
      "outputs": [
        {
          "output_type": "stream",
          "name": "stdout",
          "text": [
            "+ ------ +\n",
            "| titulo |\n",
            "+ ------ +\n"
          ]
        }
      ]
    },
    {
      "cell_type": "code",
      "source": [
        "# Exercicio 2\n",
        "def counter(fim, ini=0, passo=1):\n",
        "  for i in range(ini, fim, passo):\n",
        "    print('{}'.format(i), end=', ')\n",
        "  print('\\n')\n",
        "\n",
        "counter(100, 1, 2)"
      ],
      "metadata": {
        "colab": {
          "base_uri": "https://localhost:8080/"
        },
        "id": "8mXXXyjz9hjj",
        "outputId": "cc3e210f-8f9a-4ce8-a26f-e7449123fbda"
      },
      "execution_count": null,
      "outputs": [
        {
          "output_type": "stream",
          "name": "stdout",
          "text": [
            "1, 3, 5, 7, 9, 11, 13, 15, 17, 19, 21, 23, 25, 27, 29, 31, 33, 35, 37, 39, 41, 43, 45, 47, 49, 51, 53, 55, 57, 59, 61, 63, 65, 67, 69, 71, 73, 75, 77, 79, 81, 83, 85, 87, 89, 91, 93, 95, 97, 99, \n",
            "\n"
          ]
        }
      ]
    },
    {
      "cell_type": "code",
      "source": [
        "# Exercicio 3\n",
        "def compare(n1=0, n2=0, n3=0):\n",
        "  if (n1 and n2 and n3):\n",
        "    if ((n1 > n2) and (n1 > n3)):\n",
        "      if (n3 > n2):\n",
        "        print('{} > {} > {}'.format(n1, n3, n2), end='')\n",
        "      elif (n2 > n3):\n",
        "        print('{} > {} > {}'.format(n1, n2, n3), end='')\n",
        "    elif (n2 > n1) and (n2 > n3):\n",
        "      if (n3 > n1):\n",
        "        print('{} > {} > {}'.format(n2, n3, n1), end='')\n",
        "      elif (n1 > n3):\n",
        "        print('{} > {} > {}'.format(n2, n1, n3), end='')\n",
        "    elif (n3 > n1) and (n3 > n2):\n",
        "      if (n2 > n1):\n",
        "        print('{} > {} > {}'.format(n3, n2, n1), end='')\n",
        "      elif (n3 > n1):\n",
        "        print('{} > {} > {}'.format(n3, n1, n2), end='')"
      ],
      "metadata": {
        "id": "RH92ZYXh-mbM"
      },
      "execution_count": null,
      "outputs": []
    },
    {
      "cell_type": "code",
      "source": [
        "# Exercício primário:\n",
        "x = int(input('Digite o valor 1º: '))\n",
        "y = int(input('Digite o valor 2º: '))\n",
        "z = int(input('Digite o valor 3º: '))\n",
        "compare(x, y, z)"
      ],
      "metadata": {
        "colab": {
          "base_uri": "https://localhost:8080/"
        },
        "id": "c8jEChenD41-",
        "outputId": "56032f0b-bdcf-4ee9-e42b-8283637d3bf6"
      },
      "execution_count": null,
      "outputs": [
        {
          "output_type": "stream",
          "name": "stdout",
          "text": [
            "Digite o valor 1º: 12\n",
            "Digite o valor 2º: 32\n",
            "Digite o valor 3º: 44\n",
            "44 > 32 > 12"
          ]
        }
      ]
    },
    {
      "cell_type": "code",
      "source": [
        "def comida():\n",
        "  ovos = 12\n",
        "\n",
        "# Programa principal\n",
        "comida()\n",
        "print(ovos)"
      ],
      "metadata": {
        "colab": {
          "base_uri": "https://localhost:8080/",
          "height": 200
        },
        "id": "xMh6C3Szb9HK",
        "outputId": "9cddf257-224a-44d3-f4a9-44b451ea85e4"
      },
      "execution_count": null,
      "outputs": [
        {
          "output_type": "error",
          "ename": "NameError",
          "evalue": "ignored",
          "traceback": [
            "\u001b[0;31m---------------------------------------------------------------------------\u001b[0m",
            "\u001b[0;31mNameError\u001b[0m                                 Traceback (most recent call last)",
            "\u001b[0;32m<ipython-input-12-95f68707b12b>\u001b[0m in \u001b[0;36m<module>\u001b[0;34m()\u001b[0m\n\u001b[1;32m      4\u001b[0m \u001b[0;31m# Programa principal\u001b[0m\u001b[0;34m\u001b[0m\u001b[0;34m\u001b[0m\u001b[0;34m\u001b[0m\u001b[0m\n\u001b[1;32m      5\u001b[0m \u001b[0mcomida\u001b[0m\u001b[0;34m(\u001b[0m\u001b[0;34m)\u001b[0m\u001b[0;34m\u001b[0m\u001b[0;34m\u001b[0m\u001b[0m\n\u001b[0;32m----> 6\u001b[0;31m \u001b[0mprint\u001b[0m\u001b[0;34m(\u001b[0m\u001b[0movos\u001b[0m\u001b[0;34m)\u001b[0m\u001b[0;34m\u001b[0m\u001b[0;34m\u001b[0m\u001b[0m\n\u001b[0m",
            "\u001b[0;31mNameError\u001b[0m: name 'ovos' is not defined"
          ]
        }
      ]
    },
    {
      "cell_type": "code",
      "source": [
        "def comida():\n",
        "  print(ovos)\n",
        "\n",
        "# Programa principal\n",
        "ovos = 12\n",
        "comida()"
      ],
      "metadata": {
        "colab": {
          "base_uri": "https://localhost:8080/"
        },
        "id": "obw_sgojcbV5",
        "outputId": "53c0b8f7-aadd-4af7-cbb5-58d7cbe3116c"
      },
      "execution_count": null,
      "outputs": [
        {
          "output_type": "stream",
          "name": "stdout",
          "text": [
            "12\n"
          ]
        }
      ]
    },
    {
      "cell_type": "code",
      "source": [
        "def comida():\n",
        "  ovos = 12\n",
        "  bacon()\n",
        "  print(ovos)\n",
        "\n",
        "def bacon():\n",
        "  ovos = 6\n",
        "\n",
        "#Programa principal\n",
        "  comida()"
      ],
      "metadata": {
        "id": "VMfW2r-8c4Wg"
      },
      "execution_count": null,
      "outputs": []
    },
    {
      "cell_type": "code",
      "source": [
        "def comida():\n",
        "  ovos = 'variáveis local de comida'\n",
        "  print(ovos)\n",
        "\n",
        "def bacon():\n",
        "  ovos = 'variáveis local de bacon'\n",
        "  print(ovos)\n",
        "  comida()\n",
        "  print(ovos)\n",
        "\n",
        "# Programa principal\n",
        "ovos = 'variável global'\n",
        "bacon()\n",
        "print(ovos)"
      ],
      "metadata": {
        "id": "55JYquM8dZym"
      },
      "execution_count": null,
      "outputs": []
    },
    {
      "cell_type": "code",
      "source": [
        "def comida():\n",
        "  global ovos\n",
        "  ovos = 'comida'\n",
        "\n",
        "# Programa principal\n",
        "ovos = 'global'\n",
        "comida()\n",
        "print(ovos)"
      ],
      "metadata": {
        "colab": {
          "base_uri": "https://localhost:8080/"
        },
        "id": "JzCJM4-jfOkO",
        "outputId": "b0a89506-7fe1-4ab0-8122-a6b03f2f0dc4"
      },
      "execution_count": null,
      "outputs": [
        {
          "output_type": "stream",
          "name": "stdout",
          "text": [
            "comida\n"
          ]
        }
      ]
    },
    {
      "cell_type": "code",
      "source": [
        "def comida():\n",
        "  global ovos\n",
        "  ovos = 'comida'\n",
        "  bacon()\n",
        "\n",
        "def bacon():\n",
        "  ovos = 'bacon'\n",
        "  pimenta()\n",
        "\n",
        "def pimenta():\n",
        "  print(ovos)\n",
        "\n",
        "# Programa principal\n",
        "ovos = 12\n",
        "comida()\n",
        "print(ovos)"
      ],
      "metadata": {
        "colab": {
          "base_uri": "https://localhost:8080/"
        },
        "id": "03TJLF79fTSg",
        "outputId": "eac90ab5-4506-4375-fe59-88772c6ff9af"
      },
      "execution_count": null,
      "outputs": [
        {
          "output_type": "stream",
          "name": "stdout",
          "text": [
            "comida\n",
            "comida\n"
          ]
        }
      ]
    },
    {
      "cell_type": "code",
      "source": [
        "def comida():\n",
        "  print(ovos)\n",
        "  ovos = 'variável local'\n",
        "\n",
        "# Programa principal\n",
        "ovos = 'variável global'\n",
        "comida()"
      ],
      "metadata": {
        "colab": {
          "base_uri": "https://localhost:8080/",
          "height": 321
        },
        "id": "kDMUtOwIjlXV",
        "outputId": "f431fa69-ba46-4f69-b97c-900aa503a3e3"
      },
      "execution_count": null,
      "outputs": [
        {
          "output_type": "error",
          "ename": "UnboundLocalError",
          "evalue": "ignored",
          "traceback": [
            "\u001b[0;31m---------------------------------------------------------------------------\u001b[0m",
            "\u001b[0;31mUnboundLocalError\u001b[0m                         Traceback (most recent call last)",
            "\u001b[0;32m<ipython-input-24-6791c339ce24>\u001b[0m in \u001b[0;36m<module>\u001b[0;34m()\u001b[0m\n\u001b[1;32m      5\u001b[0m \u001b[0;31m# Programa principal\u001b[0m\u001b[0;34m\u001b[0m\u001b[0;34m\u001b[0m\u001b[0;34m\u001b[0m\u001b[0m\n\u001b[1;32m      6\u001b[0m \u001b[0movos\u001b[0m \u001b[0;34m=\u001b[0m \u001b[0;34m'variável global'\u001b[0m\u001b[0;34m\u001b[0m\u001b[0;34m\u001b[0m\u001b[0m\n\u001b[0;32m----> 7\u001b[0;31m \u001b[0mcomida\u001b[0m\u001b[0;34m(\u001b[0m\u001b[0;34m)\u001b[0m\u001b[0;34m\u001b[0m\u001b[0;34m\u001b[0m\u001b[0m\n\u001b[0m",
            "\u001b[0;32m<ipython-input-24-6791c339ce24>\u001b[0m in \u001b[0;36mcomida\u001b[0;34m()\u001b[0m\n\u001b[1;32m      1\u001b[0m \u001b[0;32mdef\u001b[0m \u001b[0mcomida\u001b[0m\u001b[0;34m(\u001b[0m\u001b[0;34m)\u001b[0m\u001b[0;34m:\u001b[0m\u001b[0;34m\u001b[0m\u001b[0;34m\u001b[0m\u001b[0m\n\u001b[0;32m----> 2\u001b[0;31m   \u001b[0mprint\u001b[0m\u001b[0;34m(\u001b[0m\u001b[0movos\u001b[0m\u001b[0;34m)\u001b[0m\u001b[0;34m\u001b[0m\u001b[0;34m\u001b[0m\u001b[0m\n\u001b[0m\u001b[1;32m      3\u001b[0m   \u001b[0movos\u001b[0m \u001b[0;34m=\u001b[0m \u001b[0;34m'variável local'\u001b[0m\u001b[0;34m\u001b[0m\u001b[0;34m\u001b[0m\u001b[0m\n\u001b[1;32m      4\u001b[0m \u001b[0;34m\u001b[0m\u001b[0m\n\u001b[1;32m      5\u001b[0m \u001b[0;31m# Programa principal\u001b[0m\u001b[0;34m\u001b[0m\u001b[0;34m\u001b[0m\u001b[0;34m\u001b[0m\u001b[0m\n",
            "\u001b[0;31mUnboundLocalError\u001b[0m: local variable 'ovos' referenced before assignment"
          ]
        }
      ]
    },
    {
      "cell_type": "code",
      "source": [
        "def soma3(x = 0, y = 0, z = 0):\n",
        "  res = x + y + z\n",
        "  print(res)"
      ],
      "metadata": {
        "id": "mTXLpmFYkG3c"
      },
      "execution_count": null,
      "outputs": []
    },
    {
      "cell_type": "code",
      "source": [
        "def soma3(x = 0, y = 0, z = 0):\n",
        "  res = x + y + z\n",
        "  return res"
      ],
      "metadata": {
        "id": "LeWUwRgmkiXS"
      },
      "execution_count": null,
      "outputs": []
    },
    {
      "cell_type": "code",
      "source": [
        "# Programa principal\n",
        "retornado = soma3(1, 2 ,3)\n",
        "print(retornado)\n",
        "\n",
        "# forma alternativa simplificada\n",
        "print(soma3(2, 1))"
      ],
      "metadata": {
        "id": "lij3Fh9sk-RH",
        "outputId": "c534071e-effb-4a34-a5e0-16028c3c3c8d",
        "colab": {
          "base_uri": "https://localhost:8080/"
        }
      },
      "execution_count": null,
      "outputs": [
        {
          "output_type": "stream",
          "name": "stdout",
          "text": [
            "6\n",
            "3\n"
          ]
        }
      ]
    },
    {
      "cell_type": "code",
      "source": [
        "# Programa principal\n",
        "retornado1 = soma3(1, 2, 3)\n",
        "retornado2 = soma3(2, 3)\n",
        "retornado3 = soma3()\n",
        "print('Somatórios: {}, {} e {}'.format(retornado1, retornado2, retornado3))"
      ],
      "metadata": {
        "id": "DkKISnLimZg0",
        "outputId": "6623fa54-396e-4690-ae9a-a7f4523ea4a3",
        "colab": {
          "base_uri": "https://localhost:8080/"
        }
      },
      "execution_count": null,
      "outputs": [
        {
          "output_type": "stream",
          "name": "stdout",
          "text": [
            "Somatórios: 6, 5 e 0\n"
          ]
        }
      ]
    },
    {
      "cell_type": "code",
      "source": [
        "# par ou impar sem funções\n",
        "x = int(input('Digite um valor inteiro: '))\n",
        "if ( x % 2 == 0):\n",
        "  print('O número é par!')\n",
        "else:\n",
        "  print('O número é impar!')"
      ],
      "metadata": {
        "id": "L51n5Ikdm86s",
        "outputId": "99d0e808-2a1b-4611-a21c-189f4a1e7651",
        "colab": {
          "base_uri": "https://localhost:8080/"
        }
      },
      "execution_count": null,
      "outputs": [
        {
          "output_type": "stream",
          "name": "stdout",
          "text": [
            "Digite um valor inteiro: 12\n",
            "O número é par!\n"
          ]
        }
      ]
    },
    {
      "cell_type": "code",
      "source": [
        "def par_impar(x):\n",
        "    if (x % 2 == 0):\n",
        "      return 'par'\n",
        "    else:\n",
        "      return 'impar'\n",
        "\n",
        "# Programa principal\n",
        "print(par_impar(int(input('Digite um valor inteiro: '))))"
      ],
      "metadata": {
        "id": "OnsJuOUknRTj",
        "outputId": "002bfebf-48e6-4a4a-c653-5502bfb0e962",
        "colab": {
          "base_uri": "https://localhost:8080/"
        }
      },
      "execution_count": null,
      "outputs": [
        {
          "output_type": "stream",
          "name": "stdout",
          "text": [
            "Digite um valor inteiro: 223\n",
            "impar\n"
          ]
        }
      ]
    },
    {
      "cell_type": "code",
      "source": [
        "def valida_int(pergunta, min, max):\n",
        "  x = int(input(pergunta))\n",
        "  while ((x < min) or (x > max)):\n",
        "    x = int(input(pergunta))\n",
        "  return x\n",
        "\n",
        "# Programa principal\n",
        "x = valida_int('Digite um valor inteiro: ', 0, 100)\n",
        "print('Você digitou {}. Encerrando o programa...'.format(x))"
      ],
      "metadata": {
        "id": "kt-JEckAn2x5",
        "outputId": "5a07df78-4d49-493b-b51b-ab0872b1e305",
        "colab": {
          "base_uri": "https://localhost:8080/"
        }
      },
      "execution_count": null,
      "outputs": [
        {
          "output_type": "stream",
          "name": "stdout",
          "text": [
            "Digite um valor inteiro: 98\n",
            "Você digitou 98. Encerrando o programa...\n"
          ]
        }
      ]
    },
    {
      "cell_type": "code",
      "source": [
        "def real_int(x):\n",
        "  x = int(input('Insira o valor a ser validado: '))\n",
        "  res = ''\n",
        "  if type(x) == int:\n",
        "    return 'Inteiro'\n",
        "  else:\n",
        "    return 'Não-inteiro'"
      ],
      "metadata": {
        "id": "GNjBMqAepDKP"
      },
      "execution_count": null,
      "outputs": []
    },
    {
      "cell_type": "code",
      "source": [
        "# Programa principal\n",
        "real_int(x)"
      ],
      "metadata": {
        "id": "9KlkkHdqpvxo",
        "outputId": "1b376d50-7589-428b-c441-357d91e6ab00",
        "colab": {
          "base_uri": "https://localhost:8080/",
          "height": 53
        }
      },
      "execution_count": null,
      "outputs": [
        {
          "name": "stdout",
          "output_type": "stream",
          "text": [
            "Insira o valor a ser validado: 44\n"
          ]
        },
        {
          "output_type": "execute_result",
          "data": {
            "text/plain": [
              "'Não-inteiro'"
            ],
            "application/vnd.google.colaboratory.intrinsic+json": {
              "type": "string"
            }
          },
          "metadata": {},
          "execution_count": 33
        }
      ]
    },
    {
      "cell_type": "code",
      "source": [
        "def valid_string(st1 = '', min = 0, max = 1):\n",
        "  st1 = input('Insira a string: ')\n",
        "  min = int(input('Digite o mínimo de comprimento da string: '))\n",
        "  max = int(input('Digite o máximo de comprimento da string: '))\n",
        "  if len(st1) >= min and len(st1) <= max:\n",
        "    return 'Válida'\n",
        "  else: \n",
        "    return 'Inválida'"
      ],
      "metadata": {
        "id": "yUhoHNzIBHLn"
      },
      "execution_count": 8,
      "outputs": []
    },
    {
      "cell_type": "code",
      "source": [
        "valid_string()"
      ],
      "metadata": {
        "id": "UAfqknauEAdw",
        "outputId": "460da2f5-ca3f-477a-f919-802cb2263a5b",
        "colab": {
          "base_uri": "https://localhost:8080/",
          "height": 87
        }
      },
      "execution_count": 9,
      "outputs": [
        {
          "name": "stdout",
          "output_type": "stream",
          "text": [
            "Insira a string: Abacadabra\n",
            "Digite o mínimo de comprimento da string: 5\n",
            "Digite o máximo de comprimento da string: 10\n"
          ]
        },
        {
          "output_type": "execute_result",
          "data": {
            "text/plain": [
              "'Válida'"
            ],
            "application/vnd.google.colaboratory.intrinsic+json": {
              "type": "string"
            }
          },
          "metadata": {},
          "execution_count": 9
        }
      ]
    },
    {
      "cell_type": "code",
      "source": [
        "def fatorial():\n",
        "  n = int(input('Digite o número para aplicar o fatorial: '))\n",
        "  fat = 1\n",
        "  if n == 0:\n",
        "    return fat\n",
        "\n",
        "  for i in range(1, n + 1, 1):\n",
        "    fat *= i\n",
        "  print('O fatorial de {} é: {}'.format(n, fat))"
      ],
      "metadata": {
        "id": "16XXWLx8Igic"
      },
      "execution_count": 30,
      "outputs": []
    },
    {
      "cell_type": "code",
      "source": [
        "fatorial()"
      ],
      "metadata": {
        "id": "NWJjI2f8K3jr",
        "outputId": "04ac68fc-b0fc-4e63-9724-cf338adad3c8",
        "colab": {
          "base_uri": "https://localhost:8080/"
        }
      },
      "execution_count": 32,
      "outputs": [
        {
          "output_type": "stream",
          "name": "stdout",
          "text": [
            "Digite o número para aplicar o fatorial: 2345\n",
            "O fatorial de 2345 é: 44523886067785598802474200575658724774533481649680503606648198987215152707456912629312235734336790049861967579723547283610390825819314674874306334475882782527508192878853278681119382513882289299733801897904766593119212323506602047240208672709929085411289030114140704926400914988434608665703857138332337897982863318844871470454206587256540063467519439358648212971351607788347619470190574452374964640152073581728538410317599431331193711919005331569512339036666532544404690770617305020815426147475651577544154748255022366124201589007906099998867046421466929866559581396458812322259893526596802339897732299959655149463697572941776870109426829159380154006884641276232338122533580434618467234542392333579155064619977789885046682540939991487314981744328035488620791591859158634327694540293133070712623051326406528219437374038536079854584034167323500456215386630532554558398252535151469788557113407180346868609129031026391469662584439968883879634567218823266157837279111622391209241444432601497302211604894897723858287930526017783818414397826233464356779997873357080063249598886428187467085711403700877614611200905374497194370343343864981344103465845149508061278836893609073923548527116212805123141487160474635203208280871151456912079761503253608978761431735485545619269061437582307023620951303321351486623529586125274315466045469417521897336567681485913239388565374728467805468548417783001606374044125841422558294479248583419407661841712657398309263431827671738888649224255796850673515447011025235775928278798211194865124057155544225814713810347540941031308205275005275763553632690753566539569470410082271524532266795154959457971281603104215290955136083041510180677530379361907821280940890310632667577390818638175507568027413734676184000334853855281827085873809178129931182546728766683941814489434394956493324866762058614619144185818347480918842424402505440873025311015392451982942508182103653715154652955071533078136208806001123038748549697288956136620127150984735028320786461321875431390670873656866177075411825167706545271321490271847749125855700084416929876519018404776440088097775032065477493421018490776087861881902260758532330777089679760521011683527064151355941027737625930892232527912626796204523589791859999989651191573707371595635472658675518512346871000776852974295491740850935896184929145413580942017749660882205509557129826684191488840559613456055392086445628387199241306237390371981185714436722801631787299001611090733372098811639017586608323419666226233222930346767651830540636730154572947599673361372905762848468124077331410794133086629197496171712347184385083814355462632652473161924522878836058498526194285075192920780218688752934757955856282623513729466197061484754599626596392059921996254475877024597214691925193537446637709497817033912506013181544336214667051754326654081901129333990668674763399633865333239648587534254458134226945160858089008778021494163607455487286957951142556628772950257772886726932294755823433089262104655855173996109534950513237753165335215814038499638709924425796063655290458133818989903012729869096504143846017735317898784600480170867029726924622928173697900783071940534446435153892896198454317644159952831028728107905087157212586629024576836903475557816870721981077189137721318260536143402435353717842507668271601432724877814921570819905867543757702198852567869753361064876938936441870242300873183827640680840227616867023183916200687933609324216027457808816377191080401181382234139893040409161561232178076258462535490771895129129659532075258472659201265062820661945359483188928914454304050174490093903207562472294651206955108671449010039189811228528043293195488782536514054666941651034717501451790156807481648982583845514693143970345651767693100078852639180065874760601386672570037596372104232786237739990408377328810142977047473794869245439042641994498488905591251445676275267396467226180881742580604007195691674533740219027042218527603091006184943685451322031116478053809258012432771173548873172025601781783352303168027636008749426003889555043062795207227487312202462819976068915878813562496480671471141437043947865264632909778940222483436194028357344567658769319857433037993044187465637589968463196099299137276014331049193637066126908412530038085248209246255740273225095531022638749929854660533212577444400431035122452164377486515157581994244061224233062185708726128206595166538906960841389351088061754259213354389811065632601128015936366110678180756238690776491470795820154565462761723870490685471395811124758820333697876329870178049871895466310262825745236861697376919785350740247938132773021063070597029823359405339065894913701953684581444764811319471054183891312538526706215722008821120619742887260692574808263259671194280555489182879630820912088093691491641958342373801660076287682308255370179800723841243777815684765143431335415739815019365394223561952369258287004955594506031113521341369997934280641431013699814294969704949649804224985065184819296810456950908589616255230065514362914991278095831873796114801481426284632616641144436109917171943247381534741896256909373056464687882510951980623838074006596237067924462384383822901456737068886859883447239583639263561704023362508225905490933363278794996476283298036192376642498737942491933497750998760285851029624140356130526104279099324172967473773138685263146930985285818240136753797119580394797604821647721148796968993361016984246733916500277522940306044380115694533631523754797854164414034373189936672945909317976408188003226247852261703735692551593871040712636312947700429509345668412309252388747802050992219244322089189448262813997197242524500902706281521155837306091754711822743922982421270371712461199222710682439630390035801868295359819162113750579497772651011877548679474492603903014212797853142771675869545313215152652563336087887656913125130629265852742224350328840129804955803560264397042219500650737061835991071518529624847980867057246135281090359042974071338234849881343777690413146542901778215184128876608863946496042952262285206047042167580043996465294394764933521696860016558149453773499211134277122898401828601793496342049158094192541425866528054947874636801913054246020809962428541816679177216658087477917217521444520164981475633973211552299378184152553222659848735620264217748978098057917921747777388365424013161951017138476146067729475769222515330665602576037435957548239544011320197120000000000000000000000000000000000000000000000000000000000000000000000000000000000000000000000000000000000000000000000000000000000000000000000000000000000000000000000000000000000000000000000000000000000000000000000000000000000000000000000000000000000000000000000000000000000000000000000000000000000000000000000000000000000000000000000000000000000000000000000000000000000000000000000000000000000000000000000000000000000000000000000000000000000000000000000000000000000000000000000000000000000000000000000000000000000000000000000000000000000000000000000000000000000000000000000000000000\n"
          ]
        }
      ]
    },
    {
      "cell_type": "code",
      "source": [
        "def fato_soma(num1, num2):\n",
        "  sum = 0\n",
        "  if type(num1) == int and type(num2) == int:\n",
        "    n1 = int(num1)\n",
        "    n2 = int(num2)\n",
        "    for i in range(n1-1, n2+1, 1):\n",
        "      sum += i\n",
        "    print('A soma dos valores entre: {} e {} resulta em: {}'.format(n1, n2, sum))\n",
        "  else:\n",
        "    print('Insira valores inteiros na função')"
      ],
      "metadata": {
        "id": "aXpS3IPUMW5u"
      },
      "execution_count": 35,
      "outputs": []
    },
    {
      "cell_type": "code",
      "source": [
        "fato_soma(4.3, 2.4)"
      ],
      "metadata": {
        "id": "s1lB38seQaQ_",
        "outputId": "977b89e7-d701-4aa4-e58a-2c4b7bbbcc6e",
        "colab": {
          "base_uri": "https://localhost:8080/"
        }
      },
      "execution_count": 37,
      "outputs": [
        {
          "output_type": "stream",
          "name": "stdout",
          "text": [
            "Insira valores inteiros na função\n"
          ]
        }
      ]
    }
  ]
}