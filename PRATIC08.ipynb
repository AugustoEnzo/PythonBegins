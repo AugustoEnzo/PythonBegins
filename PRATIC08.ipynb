{
  "nbformat": 4,
  "nbformat_minor": 0,
  "metadata": {
    "colab": {
      "name": "PRATIC08.ipynb",
      "provenance": [],
      "authorship_tag": "ABX9TyMkJjJpp7590x6PK9B2Qyvi",
      "include_colab_link": true
    },
    "kernelspec": {
      "name": "python3",
      "display_name": "Python 3"
    },
    "language_info": {
      "name": "python"
    }
  },
  "cells": [
    {
      "cell_type": "markdown",
      "metadata": {
        "id": "view-in-github",
        "colab_type": "text"
      },
      "source": [
        "<a href=\"https://colab.research.google.com/github/Enz-Lima/PythonBegins/blob/main/PRATIC08.ipynb\" target=\"_parent\"><img src=\"https://colab.research.google.com/assets/colab-badge.svg\" alt=\"Open In Colab\"/></a>"
      ]
    },
    {
      "cell_type": "code",
      "execution_count": 4,
      "metadata": {
        "id": "Hi6Jv7F2lPR_",
        "outputId": "b9cd20cd-22bc-402b-b19b-74207caa470c",
        "colab": {
          "base_uri": "https://localhost:8080/"
        }
      },
      "outputs": [
        {
          "output_type": "stream",
          "name": "stdout",
          "text": [
            "5\n",
            "Help on function soma in module __main__:\n",
            "\n",
            "soma(x=0, y=0, z=0)\n",
            "    Function that sum until three integer values\n",
            "    :param x: 1º parameter of the sum.\n",
            "    :param y: 2º parameter of the sum.\n",
            "    :param z: 3º parameter of the sum.\n",
            "\n"
          ]
        }
      ],
      "source": [
        "def soma(x=0, y=0, z=0):\n",
        "  \"\"\"\n",
        "  Function that sum until three integer values\n",
        "  :param x: 1º parameter of the sum.\n",
        "  :param y: 2º parameter of the sum.\n",
        "  :param z: 3º parameter of the sum.\n",
        "  \"\"\"\n",
        "  return x+y+z\n",
        "\n",
        "print(soma(3, 2))\n",
        "help(soma)"
      ]
    },
    {
      "cell_type": "code",
      "source": [
        "def val_pos(x):\n",
        "  n = int(x)\n",
        "  if type(n) == int and n > 0:\n",
        "    return 'Positive'\n",
        "  else:\n",
        "    return 'Invalid Number'"
      ],
      "metadata": {
        "id": "tu067_5nqVfj"
      },
      "execution_count": 7,
      "outputs": []
    },
    {
      "cell_type": "code",
      "source": [
        "def fatorial(n1):\n",
        "  \"\"\"\n",
        "  Function that calculate the factorial of an integer positive number;\n",
        "  :param n1: Number that you want to calculate the factorial.\n",
        "\n",
        "  \"\"\"\n",
        "  x = int(n1)\n",
        "  resu = x\n",
        "  if val_pos(x) == 'Positive':\n",
        "    for i in range(1, n1, 1):\n",
        "      resu *= i\n",
        "    print('{}! = {}'.format(n1, resu))\n",
        "  else:\n",
        "    print(\"You've inserted a invalid number. Please try again...\")"
      ],
      "metadata": {
        "id": "UGtVr8ajoDCy"
      },
      "execution_count": 6,
      "outputs": []
    },
    {
      "cell_type": "code",
      "source": [
        "fatorial(55)"
      ],
      "metadata": {
        "id": "orftYrQlrJDB",
        "outputId": "387f253f-0f5a-465b-bee6-a1f2a55859e2",
        "colab": {
          "base_uri": "https://localhost:8080/"
        }
      },
      "execution_count": 9,
      "outputs": [
        {
          "output_type": "stream",
          "name": "stdout",
          "text": [
            "55! = 12696403353658275925965100847566516959580321051449436762275840000000000000\n"
          ]
        }
      ]
    }
  ]
}