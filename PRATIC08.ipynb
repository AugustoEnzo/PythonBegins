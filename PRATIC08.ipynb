{
  "nbformat": 4,
  "nbformat_minor": 0,
  "metadata": {
    "colab": {
      "name": "PRATIC08.ipynb",
      "provenance": [],
      "authorship_tag": "ABX9TyOexKE3etxhPHD3eA0svjei",
      "include_colab_link": true
    },
    "kernelspec": {
      "name": "python3",
      "display_name": "Python 3"
    },
    "language_info": {
      "name": "python"
    }
  },
  "cells": [
    {
      "cell_type": "markdown",
      "metadata": {
        "id": "view-in-github",
        "colab_type": "text"
      },
      "source": [
        "<a href=\"https://colab.research.google.com/github/Enz-Lima/PythonBegins/blob/main/PRATIC08.ipynb\" target=\"_parent\"><img src=\"https://colab.research.google.com/assets/colab-badge.svg\" alt=\"Open In Colab\"/></a>"
      ]
    },
    {
      "cell_type": "code",
      "execution_count": 4,
      "metadata": {
        "id": "Hi6Jv7F2lPR_",
        "colab": {
          "base_uri": "https://localhost:8080/"
        },
        "outputId": "b9cd20cd-22bc-402b-b19b-74207caa470c"
      },
      "outputs": [
        {
          "output_type": "stream",
          "name": "stdout",
          "text": [
            "5\n",
            "Help on function soma in module __main__:\n",
            "\n",
            "soma(x=0, y=0, z=0)\n",
            "    Function that sum until three integer values\n",
            "    :param x: 1º parameter of the sum.\n",
            "    :param y: 2º parameter of the sum.\n",
            "    :param z: 3º parameter of the sum.\n",
            "\n"
          ]
        }
      ],
      "source": [
        "def soma(x=0, y=0, z=0):\n",
        "  \"\"\"\n",
        "  Function that sum until three integer values\n",
        "  :param x: 1º parameter of the sum.\n",
        "  :param y: 2º parameter of the sum.\n",
        "  :param z: 3º parameter of the sum.\n",
        "  \"\"\"\n",
        "  return x+y+z\n",
        "\n",
        "print(soma(3, 2))\n",
        "help(soma)"
      ]
    },
    {
      "cell_type": "code",
      "source": [
        "def val_pos(x):\n",
        "  n = int(x)\n",
        "  if type(n) == int and n > 0:\n",
        "    return 'Positive'\n",
        "  else:\n",
        "    return 'Invalid Number'"
      ],
      "metadata": {
        "id": "tu067_5nqVfj"
      },
      "execution_count": 7,
      "outputs": []
    },
    {
      "cell_type": "code",
      "source": [
        "def fatorial(n1):\n",
        "  \"\"\"\n",
        "  Function that calculate the factorial of an integer positive number;\n",
        "  :param n1: Number that you want to calculate the factorial.\n",
        "\n",
        "  \"\"\"\n",
        "  x = int(n1)\n",
        "  resu = x\n",
        "  if val_pos(x) == 'Positive':\n",
        "    for i in range(1, n1, 1):\n",
        "      resu *= i\n",
        "    print('{}! = {}'.format(n1, resu))\n",
        "  else:\n",
        "    print(\"You've inserted a invalid number. Please try again...\")"
      ],
      "metadata": {
        "id": "UGtVr8ajoDCy"
      },
      "execution_count": 6,
      "outputs": []
    },
    {
      "cell_type": "code",
      "source": [
        "fatorial(-2)"
      ],
      "metadata": {
        "colab": {
          "base_uri": "https://localhost:8080/"
        },
        "id": "orftYrQlrJDB",
        "outputId": "e164f972-1f4f-4370-cb48-882f77eed198"
      },
      "execution_count": 11,
      "outputs": [
        {
          "output_type": "stream",
          "name": "stdout",
          "text": [
            "You've inserted a invalid number. Please try again...\n"
          ]
        }
      ]
    },
    {
      "cell_type": "code",
      "source": [
        "def val_menu(menu):\n",
        "  n = int(menu)\n",
        "  if menu >= 1 and menu <= 3:\n",
        "    return 'Valid'\n",
        "  else:\n",
        "    return 'Invalide Number'"
      ],
      "metadata": {
        "id": "93aigWAhvhuo"
      },
      "execution_count": 17,
      "outputs": []
    },
    {
      "cell_type": "code",
      "source": [
        "def collector():\n",
        "  i_g = 0\n",
        "  keep_game = []\n",
        "  while True:\n",
        "    menu = int(input('\\nSelect one of the options above: \\n[1] Register a new item \\n[2] List registers\\n[3] Quit\\n'))\n",
        "    if val_menu(menu) == 'Valid':  \n",
        "      if menu == 1:\n",
        "        i_g += 1\n",
        "        game_name = input('\\nInsert a name for the videogame,to put that in the collection: ')\n",
        "        console_name = input('\\nInsert a name for the console to put that in the collection: ')\n",
        "        g_n = [i_g, game_name, console_name]\n",
        "        keep_game += [i_g, game_name, console_name]\n",
        "      if menu == 2:\n",
        "        print('\\nShowing accounted values...')\n",
        "        print(keep_game)\n",
        "      if menu == 3:\n",
        "        print('\\nExiting the program.')\n",
        "        print('.')\n",
        "        print('..')\n",
        "        print('...')\n",
        "        break\n",
        "    else:\n",
        "      print(\"You've entered an invalid number. Please Try again...\")\n",
        "      break"
      ],
      "metadata": {
        "id": "x5s5bgTrtU1p"
      },
      "execution_count": 24,
      "outputs": []
    },
    {
      "cell_type": "code",
      "source": [
        "collector()"
      ],
      "metadata": {
        "id": "j1gI9uOy41GC",
        "outputId": "cc8ce4f1-d97f-453a-90e4-f4573e278418",
        "colab": {
          "base_uri": "https://localhost:8080/"
        }
      },
      "execution_count": 25,
      "outputs": [
        {
          "output_type": "stream",
          "name": "stdout",
          "text": [
            "\n",
            "Select one of the options above: \n",
            "[1] Register a new item \n",
            "[2] List registers\n",
            "[3] Quit\n",
            "1\n",
            "\n",
            "Insert a name for the videogame,to put that in the collection: Sonic\n",
            "\n",
            "Insert a name for the console to put that in the collection: Mega drive\n",
            "\n",
            "Select one of the options above: \n",
            "[1] Register a new item \n",
            "[2] List registers\n",
            "[3] Quit\n",
            "1\n",
            "\n",
            "Insert a name for the videogame,to put that in the collection: Mario\n",
            "\n",
            "Insert a name for the console to put that in the collection: Super Nintendo\n",
            "\n",
            "Select one of the options above: \n",
            "[1] Register a new item \n",
            "[2] List registers\n",
            "[3] Quit\n",
            "1\n",
            "\n",
            "Insert a name for the videogame,to put that in the collection: Zelda\n",
            "\n",
            "Insert a name for the console to put that in the collection: Nitendo Wii\n",
            "\n",
            "Select one of the options above: \n",
            "[1] Register a new item \n",
            "[2] List registers\n",
            "[3] Quit\n",
            "2\n",
            "Showing accounted values...\n",
            "[1, 'Sonic', 'Mega drive', 2, 'Mario', 'Super Nintendo', 3, 'Zelda', 'Nitendo Wii']\n",
            "\n",
            "Select one of the options above: \n",
            "[1] Register a new item \n",
            "[2] List registers\n",
            "[3] Quit\n",
            "3\n",
            "Exiting the program.\n",
            ".\n",
            "..\n",
            "...\n"
          ]
        }
      ]
    }
  ]
}