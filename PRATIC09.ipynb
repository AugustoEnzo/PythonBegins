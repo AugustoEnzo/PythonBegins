{
  "nbformat": 4,
  "nbformat_minor": 0,
  "metadata": {
    "colab": {
      "name": "Untitled1.ipynb",
      "provenance": [],
      "authorship_tag": "ABX9TyNMxjIJiU6PHeFARfYyf5xQ",
      "include_colab_link": true
    },
    "kernelspec": {
      "name": "python3",
      "display_name": "Python 3"
    },
    "language_info": {
      "name": "python"
    }
  },
  "cells": [
    {
      "cell_type": "markdown",
      "metadata": {
        "id": "view-in-github",
        "colab_type": "text"
      },
      "source": [
        "<a href=\"https://colab.research.google.com/github/Enz-Lima/PythonBegins/blob/main/PRATIC09.ipynb\" target=\"_parent\"><img src=\"https://colab.research.google.com/assets/colab-badge.svg\" alt=\"Open In Colab\"/></a>"
      ]
    },
    {
      "cell_type": "code",
      "execution_count": 1,
      "metadata": {
        "id": "1i9xRmHmnM82",
        "outputId": "fcc0da82-cba5-4c18-ebfd-3964ea514653",
        "colab": {
          "base_uri": "https://localhost:8080/"
        }
      },
      "outputs": [
        {
          "output_type": "stream",
          "name": "stdout",
          "text": [
            "('Machado', 'Camisa', 'Bacon', 'Abacate')\n"
          ]
        }
      ],
      "source": [
        "mochila = ('Machado', 'Camisa', 'Bacon', 'Abacate')\n",
        "print(mochila)"
      ]
    },
    {
      "cell_type": "code",
      "source": [
        "print(mochila[0]) # Print of 1º Element - Idx 0\n",
        "print(mochila[2]) # Print of 3º Element - Idx 2\n",
        "print(mochila[2]) # Print of Elements One and Two - Idx 0 e 1\n",
        "print(mochila[2:]) # Print of Elements from 3º Element to the last\n",
        "print(mochila[-1]) # Print of the last Element"
      ],
      "metadata": {
        "id": "rpo4TraFn1KE",
        "outputId": "5a279689-35f6-4b02-d9d1-f6a86d9b7b64",
        "colab": {
          "base_uri": "https://localhost:8080/"
        }
      },
      "execution_count": 2,
      "outputs": [
        {
          "output_type": "stream",
          "name": "stdout",
          "text": [
            "Machado\n",
            "Bacon\n",
            "Bacon\n",
            "('Bacon', 'Abacate')\n",
            "Abacate\n"
          ]
        }
      ]
    },
    {
      "cell_type": "code",
      "source": [
        "mochila[2] = 'Ovos' "
      ],
      "metadata": {
        "id": "Heus8RH7o63l",
        "outputId": "1003d180-8117-40e1-d4c3-ea7fae7b9d76",
        "colab": {
          "base_uri": "https://localhost:8080/",
          "height": 165
        }
      },
      "execution_count": 3,
      "outputs": [
        {
          "output_type": "error",
          "ename": "TypeError",
          "evalue": "ignored",
          "traceback": [
            "\u001b[0;31m---------------------------------------------------------------------------\u001b[0m",
            "\u001b[0;31mTypeError\u001b[0m                                 Traceback (most recent call last)",
            "\u001b[0;32m<ipython-input-3-885dd4df8a5b>\u001b[0m in \u001b[0;36m<module>\u001b[0;34m()\u001b[0m\n\u001b[0;32m----> 1\u001b[0;31m \u001b[0mmochila\u001b[0m\u001b[0;34m[\u001b[0m\u001b[0;36m2\u001b[0m\u001b[0;34m]\u001b[0m \u001b[0;34m=\u001b[0m \u001b[0;34m'Ovos'\u001b[0m\u001b[0;34m\u001b[0m\u001b[0;34m\u001b[0m\u001b[0m\n\u001b[0m",
            "\u001b[0;31mTypeError\u001b[0m: 'tuple' object does not support item assignment"
          ]
        }
      ]
    },
    {
      "cell_type": "code",
      "source": [
        "for item in mochila:\n",
        "  print(\"In my bag've: {}\".format(item))"
      ],
      "metadata": {
        "id": "XHGBtVZypBwI",
        "outputId": "0b43f4f6-3f71-4290-8a6c-09eded43b3a3",
        "colab": {
          "base_uri": "https://localhost:8080/"
        }
      },
      "execution_count": 4,
      "outputs": [
        {
          "output_type": "stream",
          "name": "stdout",
          "text": [
            "In my bag've: Machado\n",
            "In my bag've: Camisa\n",
            "In my bag've: Bacon\n",
            "In my bag've: Abacate\n"
          ]
        }
      ]
    },
    {
      "cell_type": "code",
      "source": [
        "size = len(mochila)\n",
        "for i in range(0, size, 1):\n",
        "  print(\"In my bag've: {}\".format(mochila[i]))"
      ],
      "metadata": {
        "id": "XmfhCscjpRfJ",
        "outputId": "3cea56d1-7278-41e8-b318-745d948b239c",
        "colab": {
          "base_uri": "https://localhost:8080/"
        }
      },
      "execution_count": 5,
      "outputs": [
        {
          "output_type": "stream",
          "name": "stdout",
          "text": [
            "In my bag've: Machado\n",
            "In my bag've: Camisa\n",
            "In my bag've: Bacon\n",
            "In my bag've: Abacate\n"
          ]
        }
      ]
    },
    {
      "cell_type": "code",
      "source": [
        "bag = ('Machado', 'Camisa', 'Bacon', 'Abacate')\n",
        "upgrade = ('Queijo', 'Canivete')\n",
        "big_bag = bag + upgrade\n",
        "\n",
        "print(bag)\n",
        "print(upgrade)\n",
        "print(big_bag)"
      ],
      "metadata": {
        "id": "4Gy7-QyMqYGJ",
        "outputId": "522947f7-728f-4edd-bf13-50d7fc362990",
        "colab": {
          "base_uri": "https://localhost:8080/"
        }
      },
      "execution_count": 7,
      "outputs": [
        {
          "output_type": "stream",
          "name": "stdout",
          "text": [
            "('Machado', 'Camisa', 'Bacon', 'Abacate')\n",
            "('Queijo', 'Canivete')\n",
            "('Machado', 'Camisa', 'Bacon', 'Abacate', 'Queijo', 'Canivete')\n"
          ]
        }
      ]
    },
    {
      "cell_type": "code",
      "source": [
        "reverse_big_bag = upgrade + bag\n",
        "print(big_bag)\n",
        "print(reverse_big_bag)"
      ],
      "metadata": {
        "id": "tyWWVKkSrCzp",
        "outputId": "393670b4-dbde-42ee-9060-8a5fec055caf",
        "colab": {
          "base_uri": "https://localhost:8080/"
        }
      },
      "execution_count": 8,
      "outputs": [
        {
          "output_type": "stream",
          "name": "stdout",
          "text": [
            "('Machado', 'Camisa', 'Bacon', 'Abacate', 'Queijo', 'Canivete')\n",
            "('Queijo', 'Canivete', 'Machado', 'Camisa', 'Bacon', 'Abacate')\n"
          ]
        }
      ]
    },
    {
      "cell_type": "code",
      "source": [
        "def sum(*num):\n",
        "  sum = 0\n",
        "  print('Tupla: {}'.format(num))\n",
        "  for i in num:\n",
        "    sum += i\n",
        "  return sum\n",
        "\n",
        "# Main program:\n",
        "print('Result: {}\\n'.format(sum(1,2)))\n",
        "print('Result: {}\\n'.format(sum(1,2,3,4,5,6,7,8,9)))"
      ],
      "metadata": {
        "id": "bEgZVC29wpD4",
        "outputId": "1e676d2d-6de2-49af-d5e4-16ad0bb0b1e5",
        "colab": {
          "base_uri": "https://localhost:8080/"
        }
      },
      "execution_count": 1,
      "outputs": [
        {
          "output_type": "stream",
          "name": "stdout",
          "text": [
            "Tupla: (1, 2)\n",
            "Result: 3\n",
            "\n",
            "Tupla: (1, 2, 3, 4, 5, 6, 7, 8, 9)\n",
            "Result: 45\n",
            "\n"
          ]
        }
      ]
    },
    {
      "cell_type": "code",
      "source": [
        "# Exercise One\n",
        "languages = ('Rust', 'TypeScript', 'Python', 'Kotlin', 'Go', 'Julia', 'Dart', 'C#', 'Swift', 'JavaScript',)\n",
        "print('Top Ten programming languages most loved of 2020:')\n",
        "print('(According to the Stack Overflow)')\n",
        "for i in range(0, len(languages), 1):\n",
        "  print(i+1, ' - ', languages[i])\n",
        "\n",
        "print('\\nTOP 3: ', languages[:3])\n",
        "print('Last 5: ', languages[-5:])\n",
        "i = 0\n",
        "while (languages[i] != 'Python'):\n",
        "  i += 1\n",
        "print('We found Python in the {}st postion!'.format(i+1))"
      ],
      "metadata": {
        "id": "yx59ZNwdQPeC",
        "outputId": "3316c334-61ab-4372-e056-10134ed3717e",
        "colab": {
          "base_uri": "https://localhost:8080/"
        }
      },
      "execution_count": 2,
      "outputs": [
        {
          "output_type": "stream",
          "name": "stdout",
          "text": [
            "Top Ten programming languages most loved of 2020:\n",
            "(According to the Stack Overflow)\n",
            "1  -  Rust\n",
            "2  -  TypeScript\n",
            "3  -  Python\n",
            "4  -  Kotlin\n",
            "5  -  Go\n",
            "6  -  Julia\n",
            "7  -  Dart\n",
            "8  -  C#\n",
            "9  -  Swift\n",
            "10  -  JavaScript\n",
            "\n",
            "TOP 3:  ('Rust', 'TypeScript', 'Python')\n",
            "Last 5:  ('Julia', 'Dart', 'C#', 'Swift', 'JavaScript')\n",
            "We found Python in the 3st postion!\n"
          ]
        }
      ]
    },
    {
      "cell_type": "code",
      "source": [
        "# Exercício 2\n",
        "def bigger(msg, *num):\n",
        "  bigger = 0\n",
        "  for i in range(0, len(num), 1):\n",
        "    if (num[i] > bigger):\n",
        "      bigger = num[i]\n",
        "  print(msg, bigger)\n",
        "\n",
        "# Programa principal\n",
        "bigger('Bigger: ',8,6,4,78,56,12,9)"
      ],
      "metadata": {
        "id": "Vl8KuQGIptsT",
        "outputId": "c542594c-0eeb-4100-fe7d-095e50065208",
        "colab": {
          "base_uri": "https://localhost:8080/"
        }
      },
      "execution_count": 2,
      "outputs": [
        {
          "output_type": "stream",
          "name": "stdout",
          "text": [
            "Bigger:  78\n"
          ]
        }
      ]
    },
    {
      "cell_type": "code",
      "source": [
        "bag = ('Machado', 'Camisa', 'Bacon', 'Abacate')\n",
        "print('Tuple: {}'.format(bag))\n",
        "bag = ['Machado', 'Camisa', 'Bacon', 'Abacate']\n",
        "print('Lista: {}'.format(bag))"
      ],
      "metadata": {
        "id": "jo_aPmYihIxm",
        "outputId": "823aa0c0-1ece-4344-962b-4c340fb8667e",
        "colab": {
          "base_uri": "https://localhost:8080/"
        }
      },
      "execution_count": 3,
      "outputs": [
        {
          "output_type": "stream",
          "name": "stdout",
          "text": [
            "Tuple: ('Machado', 'Camisa', 'Bacon', 'Abacate')\n",
            "Lista: ['Machado', 'Camisa', 'Bacon', 'Abacate']\n"
          ]
        }
      ]
    },
    {
      "cell_type": "code",
      "source": [
        "bag[2] = 'Laranja'\n",
        "print('Lista: {}'.format(bag))"
      ],
      "metadata": {
        "id": "Wj32kS0kjC2b",
        "outputId": "b307acce-d6b9-436b-9706-4c7c5a38ca60",
        "colab": {
          "base_uri": "https://localhost:8080/"
        }
      },
      "execution_count": 4,
      "outputs": [
        {
          "output_type": "stream",
          "name": "stdout",
          "text": [
            "Lista: ['Machado', 'Camisa', 'Laranja', 'Abacate']\n"
          ]
        }
      ]
    },
    {
      "cell_type": "code",
      "source": [
        "bag.append('Ovos')\n",
        "print('Lista: {}'.format(bag))"
      ],
      "metadata": {
        "id": "TVKd2az7jT8j",
        "outputId": "6a4d8dae-9350-4c9f-b8b6-288b8a063231",
        "colab": {
          "base_uri": "https://localhost:8080/"
        }
      },
      "execution_count": 5,
      "outputs": [
        {
          "output_type": "stream",
          "name": "stdout",
          "text": [
            "Lista: ['Machado', 'Camisa', 'Laranja', 'Abacate', 'Ovos']\n"
          ]
        }
      ]
    },
    {
      "cell_type": "code",
      "source": [
        "bag.insert(1, 'Canivete')\n",
        "print('Lista: {}'.format(bag))"
      ],
      "metadata": {
        "id": "ik0U4MB8jhlm",
        "outputId": "167a123c-966d-46a8-d9ac-1d584cc6c9a8",
        "colab": {
          "base_uri": "https://localhost:8080/"
        }
      },
      "execution_count": 6,
      "outputs": [
        {
          "output_type": "stream",
          "name": "stdout",
          "text": [
            "Lista: ['Machado', 'Canivete', 'Camisa', 'Laranja', 'Abacate', 'Ovos']\n"
          ]
        }
      ]
    },
    {
      "cell_type": "code",
      "source": [
        "del bag[1]\n",
        "print('Lista: {}'.format(bag))\n",
        "bag.remove('Ovos')\n",
        "print('Lista: {}'.format(bag))"
      ],
      "metadata": {
        "id": "fgwts3ppjyJz",
        "outputId": "e710f68a-e16a-4be7-f2ae-f51b65da779a",
        "colab": {
          "base_uri": "https://localhost:8080/"
        }
      },
      "execution_count": 8,
      "outputs": [
        {
          "output_type": "stream",
          "name": "stdout",
          "text": [
            "Lista: ['Machado', 'Laranja', 'Abacate', 'Ovos']\n",
            "Lista: ['Machado', 'Laranja', 'Abacate']\n"
          ]
        }
      ]
    },
    {
      "cell_type": "code",
      "source": [
        "# Same reference\n",
        "x = [5, 7, 9, 11]\n",
        "y = x\n",
        "print(x)\n",
        "print(y)"
      ],
      "metadata": {
        "id": "MSQ7Zt2wkaa9",
        "outputId": "fc47466d-e01c-4087-b2bc-c25467e5d815",
        "colab": {
          "base_uri": "https://localhost:8080/"
        }
      },
      "execution_count": 10,
      "outputs": [
        {
          "output_type": "stream",
          "name": "stdout",
          "text": [
            "[5, 7, 9, 11]\n",
            "[5, 7, 9, 11]\n"
          ]
        }
      ]
    },
    {
      "cell_type": "code",
      "source": [
        "y[0] = 2\n",
        "print(x)\n",
        "print(y)"
      ],
      "metadata": {
        "id": "8dRP1kt8kw8M",
        "outputId": "b8152771-c931-49db-fed8-08d7ebe458a8",
        "colab": {
          "base_uri": "https://localhost:8080/"
        }
      },
      "execution_count": 12,
      "outputs": [
        {
          "output_type": "stream",
          "name": "stdout",
          "text": [
            "[2, 7, 9, 11]\n",
            "[2, 7, 9, 11]\n"
          ]
        }
      ]
    },
    {
      "cell_type": "code",
      "source": [
        "# Copy\n",
        "x = [5, 7, 9, 11]\n",
        "y = x[:]\n",
        "print(x)\n",
        "print(y)"
      ],
      "metadata": {
        "id": "ASLbE3x3lNrK",
        "outputId": "c7122a1e-ae6c-4266-a1d4-2e7a1d7c2862",
        "colab": {
          "base_uri": "https://localhost:8080/"
        }
      },
      "execution_count": 13,
      "outputs": [
        {
          "output_type": "stream",
          "name": "stdout",
          "text": [
            "[5, 7, 9, 11]\n",
            "[5, 7, 9, 11]\n"
          ]
        }
      ]
    },
    {
      "cell_type": "code",
      "source": [
        "y[0] = 2\n",
        "print(x)\n",
        "print(y)"
      ],
      "metadata": {
        "id": "FdKO1ykglmUa",
        "outputId": "7b5fdb01-387f-4a2b-a876-a5166e3e0fc3",
        "colab": {
          "base_uri": "https://localhost:8080/"
        }
      },
      "execution_count": 14,
      "outputs": [
        {
          "output_type": "stream",
          "name": "stdout",
          "text": [
            "[5, 7, 9, 11]\n",
            "[2, 7, 9, 11]\n"
          ]
        }
      ]
    }
  ]
}