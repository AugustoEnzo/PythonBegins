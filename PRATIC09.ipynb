{
  "nbformat": 4,
  "nbformat_minor": 0,
  "metadata": {
    "colab": {
      "name": "Untitled1.ipynb",
      "provenance": [],
      "authorship_tag": "ABX9TyNjC+6kxuFk747wB9akMC+o",
      "include_colab_link": true
    },
    "kernelspec": {
      "name": "python3",
      "display_name": "Python 3"
    },
    "language_info": {
      "name": "python"
    }
  },
  "cells": [
    {
      "cell_type": "markdown",
      "metadata": {
        "id": "view-in-github",
        "colab_type": "text"
      },
      "source": [
        "<a href=\"https://colab.research.google.com/github/Enz-Lima/PythonBegins/blob/main/PRATIC09.ipynb\" target=\"_parent\"><img src=\"https://colab.research.google.com/assets/colab-badge.svg\" alt=\"Open In Colab\"/></a>"
      ]
    },
    {
      "cell_type": "code",
      "execution_count": 1,
      "metadata": {
        "id": "1i9xRmHmnM82",
        "colab": {
          "base_uri": "https://localhost:8080/"
        },
        "outputId": "fcc0da82-cba5-4c18-ebfd-3964ea514653"
      },
      "outputs": [
        {
          "output_type": "stream",
          "name": "stdout",
          "text": [
            "('Machado', 'Camisa', 'Bacon', 'Abacate')\n"
          ]
        }
      ],
      "source": [
        "mochila = ('Machado', 'Camisa', 'Bacon', 'Abacate')\n",
        "print(mochila)"
      ]
    },
    {
      "cell_type": "code",
      "source": [
        "print(mochila[0]) # Print of 1º Element - Idx 0\n",
        "print(mochila[2]) # Print of 3º Element - Idx 2\n",
        "print(mochila[2]) # Print of Elements One and Two - Idx 0 e 1\n",
        "print(mochila[2:]) # Print of Elements from 3º Element to the last\n",
        "print(mochila[-1]) # Print of the last Element"
      ],
      "metadata": {
        "colab": {
          "base_uri": "https://localhost:8080/"
        },
        "id": "rpo4TraFn1KE",
        "outputId": "5a279689-35f6-4b02-d9d1-f6a86d9b7b64"
      },
      "execution_count": 2,
      "outputs": [
        {
          "output_type": "stream",
          "name": "stdout",
          "text": [
            "Machado\n",
            "Bacon\n",
            "Bacon\n",
            "('Bacon', 'Abacate')\n",
            "Abacate\n"
          ]
        }
      ]
    },
    {
      "cell_type": "code",
      "source": [
        "mochila[2] = 'Ovos' "
      ],
      "metadata": {
        "colab": {
          "base_uri": "https://localhost:8080/",
          "height": 165
        },
        "id": "Heus8RH7o63l",
        "outputId": "1003d180-8117-40e1-d4c3-ea7fae7b9d76"
      },
      "execution_count": 3,
      "outputs": [
        {
          "output_type": "error",
          "ename": "TypeError",
          "evalue": "ignored",
          "traceback": [
            "\u001b[0;31m---------------------------------------------------------------------------\u001b[0m",
            "\u001b[0;31mTypeError\u001b[0m                                 Traceback (most recent call last)",
            "\u001b[0;32m<ipython-input-3-885dd4df8a5b>\u001b[0m in \u001b[0;36m<module>\u001b[0;34m()\u001b[0m\n\u001b[0;32m----> 1\u001b[0;31m \u001b[0mmochila\u001b[0m\u001b[0;34m[\u001b[0m\u001b[0;36m2\u001b[0m\u001b[0;34m]\u001b[0m \u001b[0;34m=\u001b[0m \u001b[0;34m'Ovos'\u001b[0m\u001b[0;34m\u001b[0m\u001b[0;34m\u001b[0m\u001b[0m\n\u001b[0m",
            "\u001b[0;31mTypeError\u001b[0m: 'tuple' object does not support item assignment"
          ]
        }
      ]
    },
    {
      "cell_type": "code",
      "source": [
        "for item in mochila:\n",
        "  print(\"In my bag've: {}\".format(item))"
      ],
      "metadata": {
        "colab": {
          "base_uri": "https://localhost:8080/"
        },
        "id": "XHGBtVZypBwI",
        "outputId": "0b43f4f6-3f71-4290-8a6c-09eded43b3a3"
      },
      "execution_count": 4,
      "outputs": [
        {
          "output_type": "stream",
          "name": "stdout",
          "text": [
            "In my bag've: Machado\n",
            "In my bag've: Camisa\n",
            "In my bag've: Bacon\n",
            "In my bag've: Abacate\n"
          ]
        }
      ]
    },
    {
      "cell_type": "code",
      "source": [
        "size = len(mochila)\n",
        "for i in range(0, size, 1):\n",
        "  print(\"In my bag've: {}\".format(mochila[i]))"
      ],
      "metadata": {
        "colab": {
          "base_uri": "https://localhost:8080/"
        },
        "id": "XmfhCscjpRfJ",
        "outputId": "3cea56d1-7278-41e8-b318-745d948b239c"
      },
      "execution_count": 5,
      "outputs": [
        {
          "output_type": "stream",
          "name": "stdout",
          "text": [
            "In my bag've: Machado\n",
            "In my bag've: Camisa\n",
            "In my bag've: Bacon\n",
            "In my bag've: Abacate\n"
          ]
        }
      ]
    },
    {
      "cell_type": "code",
      "source": [
        "bag = ('Machado', 'Camisa', 'Bacon', 'Abacate')\n",
        "upgrade = ('Queijo', 'Canivete')\n",
        "big_bag = bag + upgrade\n",
        "\n",
        "print(bag)\n",
        "print(upgrade)\n",
        "print(big_bag)"
      ],
      "metadata": {
        "colab": {
          "base_uri": "https://localhost:8080/"
        },
        "id": "4Gy7-QyMqYGJ",
        "outputId": "522947f7-728f-4edd-bf13-50d7fc362990"
      },
      "execution_count": 7,
      "outputs": [
        {
          "output_type": "stream",
          "name": "stdout",
          "text": [
            "('Machado', 'Camisa', 'Bacon', 'Abacate')\n",
            "('Queijo', 'Canivete')\n",
            "('Machado', 'Camisa', 'Bacon', 'Abacate', 'Queijo', 'Canivete')\n"
          ]
        }
      ]
    },
    {
      "cell_type": "code",
      "source": [
        "reverse_big_bag = upgrade + bag\n",
        "print(big_bag)\n",
        "print(reverse_big_bag)"
      ],
      "metadata": {
        "colab": {
          "base_uri": "https://localhost:8080/"
        },
        "id": "tyWWVKkSrCzp",
        "outputId": "393670b4-dbde-42ee-9060-8a5fec055caf"
      },
      "execution_count": 8,
      "outputs": [
        {
          "output_type": "stream",
          "name": "stdout",
          "text": [
            "('Machado', 'Camisa', 'Bacon', 'Abacate', 'Queijo', 'Canivete')\n",
            "('Queijo', 'Canivete', 'Machado', 'Camisa', 'Bacon', 'Abacate')\n"
          ]
        }
      ]
    },
    {
      "cell_type": "code",
      "source": [
        "def sum(*num):\n",
        "  sum = 0\n",
        "  print('Tupla: {}'.format(num))\n",
        "  for i in num:\n",
        "    sum += i\n",
        "  return sum\n",
        "\n",
        "# Main program:\n",
        "print('Result: {}\\n'.format(sum(1,2)))\n",
        "print('Result: {}\\n'.format(sum(1,2,3,4,5,6,7,8,9)))"
      ],
      "metadata": {
        "colab": {
          "base_uri": "https://localhost:8080/"
        },
        "id": "bEgZVC29wpD4",
        "outputId": "1e676d2d-6de2-49af-d5e4-16ad0bb0b1e5"
      },
      "execution_count": 1,
      "outputs": [
        {
          "output_type": "stream",
          "name": "stdout",
          "text": [
            "Tupla: (1, 2)\n",
            "Result: 3\n",
            "\n",
            "Tupla: (1, 2, 3, 4, 5, 6, 7, 8, 9)\n",
            "Result: 45\n",
            "\n"
          ]
        }
      ]
    },
    {
      "cell_type": "code",
      "source": [
        "# Exercise One\n",
        "languages = ('Rust', 'TypeScript', 'Python', 'Kotlin', 'Go', 'Julia', 'Dart', 'C#', 'Swift', 'JavaScript',)\n",
        "print('Top Ten programming languages most loved of 2020:')\n",
        "print('(According to the Stack Overflow)')\n",
        "for i in range(0, len(languages), 1):\n",
        "  print(i+1, ' - ', languages[i])\n",
        "\n",
        "print('\\nTOP 3: ', languages[:3])\n",
        "print('Last 5: ', languages[-5:])\n",
        "i = 0\n",
        "while (languages[i] != 'Python'):\n",
        "  i += 1\n",
        "print('We found Python in the {}st postion!'.format(i+1))"
      ],
      "metadata": {
        "colab": {
          "base_uri": "https://localhost:8080/"
        },
        "id": "yx59ZNwdQPeC",
        "outputId": "3316c334-61ab-4372-e056-10134ed3717e"
      },
      "execution_count": 2,
      "outputs": [
        {
          "output_type": "stream",
          "name": "stdout",
          "text": [
            "Top Ten programming languages most loved of 2020:\n",
            "(According to the Stack Overflow)\n",
            "1  -  Rust\n",
            "2  -  TypeScript\n",
            "3  -  Python\n",
            "4  -  Kotlin\n",
            "5  -  Go\n",
            "6  -  Julia\n",
            "7  -  Dart\n",
            "8  -  C#\n",
            "9  -  Swift\n",
            "10  -  JavaScript\n",
            "\n",
            "TOP 3:  ('Rust', 'TypeScript', 'Python')\n",
            "Last 5:  ('Julia', 'Dart', 'C#', 'Swift', 'JavaScript')\n",
            "We found Python in the 3st postion!\n"
          ]
        }
      ]
    },
    {
      "cell_type": "code",
      "source": [
        "# Exercício 2\n",
        "def bigger(msg, *num):\n",
        "  bigger = 0\n",
        "  for i in range(0, len(num), 1):\n",
        "    if (num[i] > bigger):\n",
        "      bigger = num[i]\n",
        "  print(msg, bigger)\n",
        "\n",
        "# Programa principal\n",
        "bigger('Bigger: ',8,6,4,78,56,12,9)"
      ],
      "metadata": {
        "colab": {
          "base_uri": "https://localhost:8080/"
        },
        "id": "Vl8KuQGIptsT",
        "outputId": "c542594c-0eeb-4100-fe7d-095e50065208"
      },
      "execution_count": 2,
      "outputs": [
        {
          "output_type": "stream",
          "name": "stdout",
          "text": [
            "Bigger:  78\n"
          ]
        }
      ]
    },
    {
      "cell_type": "code",
      "source": [
        "bag = ('Machado', 'Camisa', 'Bacon', 'Abacate')\n",
        "print('Tuple: {}'.format(bag))\n",
        "bag = ['Machado', 'Camisa', 'Bacon', 'Abacate']\n",
        "print('Lista: {}'.format(bag))"
      ],
      "metadata": {
        "colab": {
          "base_uri": "https://localhost:8080/"
        },
        "id": "jo_aPmYihIxm",
        "outputId": "823aa0c0-1ece-4344-962b-4c340fb8667e"
      },
      "execution_count": 3,
      "outputs": [
        {
          "output_type": "stream",
          "name": "stdout",
          "text": [
            "Tuple: ('Machado', 'Camisa', 'Bacon', 'Abacate')\n",
            "Lista: ['Machado', 'Camisa', 'Bacon', 'Abacate']\n"
          ]
        }
      ]
    },
    {
      "cell_type": "code",
      "source": [
        "bag[2] = 'Laranja'\n",
        "print('Lista: {}'.format(bag))"
      ],
      "metadata": {
        "colab": {
          "base_uri": "https://localhost:8080/"
        },
        "id": "Wj32kS0kjC2b",
        "outputId": "b307acce-d6b9-436b-9706-4c7c5a38ca60"
      },
      "execution_count": 4,
      "outputs": [
        {
          "output_type": "stream",
          "name": "stdout",
          "text": [
            "Lista: ['Machado', 'Camisa', 'Laranja', 'Abacate']\n"
          ]
        }
      ]
    },
    {
      "cell_type": "code",
      "source": [
        "bag.append('Ovos')\n",
        "print('Lista: {}'.format(bag))"
      ],
      "metadata": {
        "colab": {
          "base_uri": "https://localhost:8080/"
        },
        "id": "TVKd2az7jT8j",
        "outputId": "6a4d8dae-9350-4c9f-b8b6-288b8a063231"
      },
      "execution_count": 5,
      "outputs": [
        {
          "output_type": "stream",
          "name": "stdout",
          "text": [
            "Lista: ['Machado', 'Camisa', 'Laranja', 'Abacate', 'Ovos']\n"
          ]
        }
      ]
    },
    {
      "cell_type": "code",
      "source": [
        "bag.insert(1, 'Canivete')\n",
        "print('Lista: {}'.format(bag))"
      ],
      "metadata": {
        "colab": {
          "base_uri": "https://localhost:8080/"
        },
        "id": "ik0U4MB8jhlm",
        "outputId": "167a123c-966d-46a8-d9ac-1d584cc6c9a8"
      },
      "execution_count": 6,
      "outputs": [
        {
          "output_type": "stream",
          "name": "stdout",
          "text": [
            "Lista: ['Machado', 'Canivete', 'Camisa', 'Laranja', 'Abacate', 'Ovos']\n"
          ]
        }
      ]
    },
    {
      "cell_type": "code",
      "source": [
        "del bag[1]\n",
        "print('Lista: {}'.format(bag))\n",
        "bag.remove('Ovos')\n",
        "print('Lista: {}'.format(bag))"
      ],
      "metadata": {
        "colab": {
          "base_uri": "https://localhost:8080/"
        },
        "id": "fgwts3ppjyJz",
        "outputId": "e710f68a-e16a-4be7-f2ae-f51b65da779a"
      },
      "execution_count": 8,
      "outputs": [
        {
          "output_type": "stream",
          "name": "stdout",
          "text": [
            "Lista: ['Machado', 'Laranja', 'Abacate', 'Ovos']\n",
            "Lista: ['Machado', 'Laranja', 'Abacate']\n"
          ]
        }
      ]
    },
    {
      "cell_type": "code",
      "source": [
        "# Same reference\n",
        "x = [5, 7, 9, 11]\n",
        "y = x\n",
        "print(x)\n",
        "print(y)"
      ],
      "metadata": {
        "colab": {
          "base_uri": "https://localhost:8080/"
        },
        "id": "MSQ7Zt2wkaa9",
        "outputId": "fc47466d-e01c-4087-b2bc-c25467e5d815"
      },
      "execution_count": 10,
      "outputs": [
        {
          "output_type": "stream",
          "name": "stdout",
          "text": [
            "[5, 7, 9, 11]\n",
            "[5, 7, 9, 11]\n"
          ]
        }
      ]
    },
    {
      "cell_type": "code",
      "source": [
        "y[0] = 2\n",
        "print(x)\n",
        "print(y)"
      ],
      "metadata": {
        "colab": {
          "base_uri": "https://localhost:8080/"
        },
        "id": "8dRP1kt8kw8M",
        "outputId": "b8152771-c931-49db-fed8-08d7ebe458a8"
      },
      "execution_count": 12,
      "outputs": [
        {
          "output_type": "stream",
          "name": "stdout",
          "text": [
            "[2, 7, 9, 11]\n",
            "[2, 7, 9, 11]\n"
          ]
        }
      ]
    },
    {
      "cell_type": "code",
      "source": [
        "# Copy\n",
        "x = [5, 7, 9, 11]\n",
        "y = x[:]\n",
        "print(x)\n",
        "print(y)"
      ],
      "metadata": {
        "colab": {
          "base_uri": "https://localhost:8080/"
        },
        "id": "ASLbE3x3lNrK",
        "outputId": "c7122a1e-ae6c-4266-a1d4-2e7a1d7c2862"
      },
      "execution_count": 13,
      "outputs": [
        {
          "output_type": "stream",
          "name": "stdout",
          "text": [
            "[5, 7, 9, 11]\n",
            "[5, 7, 9, 11]\n"
          ]
        }
      ]
    },
    {
      "cell_type": "code",
      "source": [
        "y[0] = 2\n",
        "print(x)\n",
        "print(y)"
      ],
      "metadata": {
        "colab": {
          "base_uri": "https://localhost:8080/"
        },
        "id": "FdKO1ykglmUa",
        "outputId": "7b5fdb01-387f-4a2b-a876-a5166e3e0fc3"
      },
      "execution_count": 14,
      "outputs": [
        {
          "output_type": "stream",
          "name": "stdout",
          "text": [
            "[5, 7, 9, 11]\n",
            "[2, 7, 9, 11]\n"
          ]
        }
      ]
    },
    {
      "cell_type": "code",
      "source": [
        "bag = ['Machado', 'Camisa', 'Bacon', 'Abacate']\n",
        "print(bag[0])"
      ],
      "metadata": {
        "colab": {
          "base_uri": "https://localhost:8080/"
        },
        "id": "0Vo1CKqNXGJb",
        "outputId": "43001ee7-fd65-4e0a-f443-10c317852779"
      },
      "execution_count": 1,
      "outputs": [
        {
          "output_type": "stream",
          "name": "stdout",
          "text": [
            "Machado\n"
          ]
        }
      ]
    },
    {
      "cell_type": "code",
      "source": [
        "bag = ['Machado', 'Camisa', 'Bacon', 'Abacate']\n",
        "print(bag[0][0])\n",
        "print(bag[2][2])"
      ],
      "metadata": {
        "colab": {
          "base_uri": "https://localhost:8080/"
        },
        "id": "welGuz6lXnLl",
        "outputId": "3fb08ee0-ad33-43b9-fef8-29a6cffe8322"
      },
      "execution_count": 5,
      "outputs": [
        {
          "output_type": "stream",
          "name": "stdout",
          "text": [
            "M\n",
            "c\n"
          ]
        }
      ]
    },
    {
      "cell_type": "code",
      "source": [
        "bag = ['Machado', 'Camisa', 'Bacon', 'Abacate']\n",
        "for item in bag:\n",
        "  for letter in item:\n",
        "    print(letter, end='')\n",
        "  print()"
      ],
      "metadata": {
        "colab": {
          "base_uri": "https://localhost:8080/"
        },
        "id": "ndgARi82YFk2",
        "outputId": "f927444e-e127-4b64-9470-327230b24ae0"
      },
      "execution_count": 6,
      "outputs": [
        {
          "output_type": "stream",
          "name": "stdout",
          "text": [
            "Machado\n",
            "Camisa\n",
            "Bacon\n",
            "Abacate\n"
          ]
        }
      ]
    },
    {
      "cell_type": "code",
      "source": [
        "bag = ['Machado', 'Camisa', 'Bacon', 'Abacate']\n",
        "for i in range(0, len(bag), 1):\n",
        "  for j in range(0, len(bag[i]), 1):\n",
        "    print(bag[i][j], end='')\n",
        "  print()"
      ],
      "metadata": {
        "colab": {
          "base_uri": "https://localhost:8080/"
        },
        "id": "y-Qk7gcdYsyD",
        "outputId": "2b82526e-48c1-4311-db88-c4f361ec0129"
      },
      "execution_count": 7,
      "outputs": [
        {
          "output_type": "stream",
          "name": "stdout",
          "text": [
            "Machado\n",
            "Camisa\n",
            "Bacon\n",
            "Abacate\n"
          ]
        }
      ]
    },
    {
      "cell_type": "code",
      "source": [
        "item = []\n",
        "mercado = []\n",
        "\n",
        "for i in range(3):\n",
        "  item.append(input('Digite o nome do item: '))\n",
        "  item.append(int(input('Digite a quantidade: ')))\n",
        "  item.append(float(input('Digite o valor: ')))\n",
        "  mercado.append(item[:])\n",
        "  item.clear()\n",
        "print(mercado)"
      ],
      "metadata": {
        "id": "GBu8Xqu1ZnRl"
      },
      "execution_count": null,
      "outputs": []
    },
    {
      "cell_type": "code",
      "source": [
        "mercado = []\n",
        "\n",
        "for i in range(3):\n",
        "  nome = input('Digite o nome do item: ')\n",
        "  qtd = int(input('Digite a quantidade: '))\n",
        "  valor = float(input('Digite o valor: '))\n",
        "  mercado.append([nome, qtd, valor])\n",
        "print(mercado)  "
      ],
      "metadata": {
        "colab": {
          "base_uri": "https://localhost:8080/"
        },
        "id": "aS9vIoDb8e9b",
        "outputId": "0fdff358-10f4-47f9-dd54-0a76141502a8"
      },
      "execution_count": 3,
      "outputs": [
        {
          "output_type": "stream",
          "name": "stdout",
          "text": [
            "Digite o nome do item: Abacate\n",
            "Digite a quantidade: 1\n",
            "Digite o valor: 3.0\n",
            "Digite o nome do item: Açucar\n",
            "Digite a quantidade: 4\n",
            "Digite o valor: 4\n",
            "Digite o nome do item: Maça\n",
            "Digite a quantidade: 5\n",
            "Digite o valor: 2\n",
            "[['Abacate', 1, 3.0], ['Açucar', 4, 4.0], ['Maça', 5, 2.0]]\n"
          ]
        }
      ]
    },
    {
      "cell_type": "code",
      "source": [
        "# Qual o nome do primeiro produto?\n",
        "print(mercado[0][0])\n",
        "# Quanto custa um tomate ?\n",
        "print(mercado[1][2])\n",
        "# Quantos sacos de arroz foram comprados ?\n",
        "print(mercado[2][1])"
      ],
      "metadata": {
        "colab": {
          "base_uri": "https://localhost:8080/"
        },
        "id": "eOQTpRrV9O_b",
        "outputId": "729f2f1b-86cf-4c31-d31c-bb0870821a2a"
      },
      "execution_count": 4,
      "outputs": [
        {
          "output_type": "stream",
          "name": "stdout",
          "text": [
            "Abacate\n",
            "4.0\n",
            "5\n"
          ]
        }
      ]
    },
    {
      "cell_type": "code",
      "source": [
        "soma = 0\n",
        "print('Lista de compras:')\n",
        "print('-' * 20)\n",
        "print('Item | Quantidade | Valor unitário | Total do item')\n",
        "for item in mercado:\n",
        "  print('{} | {} | {} | {}'.format(item[0], item[1], item[2], item[1] * item[2]))\n",
        "  soma += item[1] * item[2]\n",
        "print('-' * 20)\n",
        "print('Total a ser pago: {}'.format(soma))"
      ],
      "metadata": {
        "colab": {
          "base_uri": "https://localhost:8080/"
        },
        "id": "agrqo5tA93xu",
        "outputId": "cf84711c-e00e-4dc9-a6e8-b8246db92761"
      },
      "execution_count": 5,
      "outputs": [
        {
          "output_type": "stream",
          "name": "stdout",
          "text": [
            "Lista de compras:\n",
            "--------------------\n",
            "Item | Quantidade | Valor unitário | Total do item\n",
            "Abacate | 1 | 3.0 | 3.0\n",
            "Açucar | 4 | 4.0 | 16.0\n",
            "Maça | 5 | 2.0 | 10.0\n",
            "--------------------\n",
            "Total a ser pago: 29.0\n"
          ]
        }
      ]
    },
    {
      "cell_type": "code",
      "source": [
        "# Exercise One\n",
        "try:\n",
        "  grades = []\n",
        "  x = float(input('Insert a grade: '))\n",
        "  while x >= 0:\n",
        "    grades.append(x)\n",
        "    x = float(input('Insert a grade: '))\n",
        "  sum = 0\n",
        "  for i in grades:\n",
        "    sum += i\n",
        "  media = sum/len(grades)\n",
        "  print(grades)\n",
        "  print('Average of the grades typed: {}'.format(media))\n",
        "except ZeroDivisionError:\n",
        "  print(\"It's need to add a value to be calculated. Finishing...\")"
      ],
      "metadata": {
        "colab": {
          "base_uri": "https://localhost:8080/"
        },
        "id": "azjg5y0ZPnf9",
        "outputId": "bb4a9bba-5d11-451d-fc66-0d057e7db826"
      },
      "execution_count": 6,
      "outputs": [
        {
          "output_type": "stream",
          "name": "stdout",
          "text": [
            "Insert a grade: 4.5\n",
            "Insert a grade: 2.4\n",
            "Insert a grade: 3.4\n",
            "Insert a grade: 4.4\n",
            "Insert a grade: 0\n",
            "Insert a grade: 2.6\n",
            "Insert a grade: -1\n",
            "[4.5, 2.4, 3.4, 4.4, 0.0, 2.6]\n",
            "Average of the grades typed: 2.8833333333333333\n"
          ]
        }
      ]
    },
    {
      "cell_type": "code",
      "source": [
        "# Exercise 2\n",
        "def sequentialSearch(lista, data):\n",
        "  x = 0\n",
        "  while x < len(lista):\n",
        "    if (lista[x] == data):\n",
        "      return x\n",
        "    x += 1\n",
        "  return -1\n",
        "\n",
        "# Main program\n",
        "test = [3, 7, 9, 1, 0, 7, 5, 12]\n",
        "# Use the type of data that you want, enough to change here\n",
        "data = int(input('Insert a integer value: '))\n",
        "res = sequentialSearch(test,data)\n",
        "if res >= 0:\n",
        "  print('Position where the {} was been find: {}'.format(data, res + 1))\n",
        "else:\n",
        "  print('Data not found...')"
      ],
      "metadata": {
        "colab": {
          "base_uri": "https://localhost:8080/"
        },
        "id": "KUNqckMpSs3B",
        "outputId": "8f93ac16-3433-4f5a-ce58-533833b195b3"
      },
      "execution_count": 7,
      "outputs": [
        {
          "output_type": "stream",
          "name": "stdout",
          "text": [
            "Insert a integer value: 12\n",
            "Position where the 12 was been find: 8\n"
          ]
        }
      ]
    },
    {
      "cell_type": "code",
      "source": [
        "# Exercise 3\n",
        "people = []\n",
        "\n",
        "cmi = lambda weight, height: weight / (height * height)\n",
        "\n",
        "while True:\n",
        "  name = input('Name: ')\n",
        "  height = float(input('Height (m): '))\n",
        "  weight = int(input('Weight (kg): '))\n",
        "  cmi_people = cmi(weight, height)\n",
        "  people.append([name, weight, height, cmi_people])\n",
        "  res = input('You want to register another people [Y/N]: ')\n",
        "  if res in 'Nn':\n",
        "    break\n",
        "print('Registers: {}'.format(people))\n",
        "print('Total of Registers: {}'.format(len(people)))\n",
        "bigger = 0\n",
        "smaller = 99\n",
        "for i in range(0, len(people), 1):\n",
        "  if people[i][3] > bigger:\n",
        "    bigger = people[i][3]\n",
        "  if people[i][3] < smaller:\n",
        "    smaller = people[i][3]\n",
        "print('Bigger CMI:',bigger)\n",
        "print('Smaller CMI:',smaller)"
      ],
      "metadata": {
        "colab": {
          "base_uri": "https://localhost:8080/"
        },
        "id": "MtUHVefHVNeW",
        "outputId": "1f7f958b-1a55-4135-e42f-84b2a0681d58"
      },
      "execution_count": 8,
      "outputs": [
        {
          "output_type": "stream",
          "name": "stdout",
          "text": [
            "Name: Enzo\n",
            "Height (m): 1.92\n",
            "Weight (kg): 72\n",
            "You want to register another people [Y/N]: y\n",
            "Name: Augusto\n",
            "Height (m): 1.92\n",
            "Weight (kg): 72\n",
            "You want to register another people [Y/N]: N\n",
            "Registers: [['Enzo', 72, 1.92, 19.53125], ['Augusto', 72, 1.92, 19.53125]]\n",
            "Total of Registers: 2\n",
            "Bigger CMI: 19.53125\n",
            "Smaller CMI: 19.53125\n"
          ]
        }
      ]
    },
    {
      "cell_type": "code",
      "source": [
        "bag = ['Axe', 'Shirt', 'Bacon', 'Papaya']\n",
        "print('Tuple: {}'.format(bag))\n",
        "bag = ['Axe', 'Shirt', 'Bacon', 'Papaya']\n",
        "print('List: {}'.format(bag))\n",
        "bag = {'Axe':1, 'Shirt':2, 'Bacon':3, 'Papaya':4}\n",
        "print('Dictionary: {}'.format(bag))"
      ],
      "metadata": {
        "colab": {
          "base_uri": "https://localhost:8080/"
        },
        "id": "OaaRFNpX-dmy",
        "outputId": "701966ec-8e72-4847-e70c-1ef48c4420b2"
      },
      "execution_count": 1,
      "outputs": [
        {
          "output_type": "stream",
          "name": "stdout",
          "text": [
            "Tuple: ['Axe', 'Shirt', 'Bacon', 'Papaya']\n",
            "List: ['Axe', 'Shirt', 'Bacon', 'Papaya']\n",
            "Dictionary: {'Axe': 1, 'Shirt': 2, 'Bacon': 3, 'Papaya': 4}\n"
          ]
        }
      ]
    },
    {
      "cell_type": "code",
      "source": [
        "game = {'Name':'Super Mario', 'Developer':'Nintendo', 'Year':1990}\n",
        "print(game)"
      ],
      "metadata": {
        "colab": {
          "base_uri": "https://localhost:8080/"
        },
        "id": "Bk0N821V_Vh1",
        "outputId": "2b5029d2-3a11-49aa-e594-39cb696553bd"
      },
      "execution_count": 9,
      "outputs": [
        {
          "output_type": "stream",
          "name": "stdout",
          "text": [
            "{'Name': 'Super Mario', 'Developer': 'Nintendo', 'Year': 1990}\n"
          ]
        }
      ]
    },
    {
      "cell_type": "code",
      "source": [
        "print(game['Name'])\n",
        "print(game['Developer'])\n",
        "print(game['Year'])"
      ],
      "metadata": {
        "colab": {
          "base_uri": "https://localhost:8080/"
        },
        "id": "Mibvmjwh_uk7",
        "outputId": "29747b3a-a590-42ec-c848-962d548312c1"
      },
      "execution_count": 10,
      "outputs": [
        {
          "output_type": "stream",
          "name": "stdout",
          "text": [
            "Super Mario\n",
            "Nintendo\n",
            "1990\n"
          ]
        }
      ]
    },
    {
      "cell_type": "code",
      "source": [
        "print(game.values())"
      ],
      "metadata": {
        "colab": {
          "base_uri": "https://localhost:8080/"
        },
        "id": "NDppFAN-_8oI",
        "outputId": "e644b141-7137-4579-bae3-43b36523536e"
      },
      "execution_count": 11,
      "outputs": [
        {
          "output_type": "stream",
          "name": "stdout",
          "text": [
            "dict_values(['Super Mario', 'Nintendo', 1990])\n"
          ]
        }
      ]
    },
    {
      "cell_type": "code",
      "source": [
        "for i in game.values():\n",
        "  print(i)"
      ],
      "metadata": {
        "colab": {
          "base_uri": "https://localhost:8080/"
        },
        "id": "_HappeHDACwS",
        "outputId": "1f5f8dbb-ed87-47dd-a91f-0f8a653fce89"
      },
      "execution_count": 12,
      "outputs": [
        {
          "output_type": "stream",
          "name": "stdout",
          "text": [
            "Super Mario\n",
            "Nintendo\n",
            "1990\n"
          ]
        }
      ]
    },
    {
      "cell_type": "code",
      "source": [
        "print(game.keys())"
      ],
      "metadata": {
        "colab": {
          "base_uri": "https://localhost:8080/"
        },
        "id": "suU-lvMRALzb",
        "outputId": "ba2ed975-42fa-483e-ebc9-0c73aa296245"
      },
      "execution_count": 13,
      "outputs": [
        {
          "output_type": "stream",
          "name": "stdout",
          "text": [
            "dict_keys(['Name', 'Developer', 'Year'])\n"
          ]
        }
      ]
    },
    {
      "cell_type": "code",
      "source": [
        "for i in game.keys():\n",
        "  print(i)"
      ],
      "metadata": {
        "colab": {
          "base_uri": "https://localhost:8080/"
        },
        "id": "QaTCnhcOAZrv",
        "outputId": "c829c0da-e2fb-40f0-a966-881238cefc01"
      },
      "execution_count": 14,
      "outputs": [
        {
          "output_type": "stream",
          "name": "stdout",
          "text": [
            "Name\n",
            "Developer\n",
            "Year\n"
          ]
        }
      ]
    },
    {
      "cell_type": "code",
      "source": [
        "print(game.items())"
      ],
      "metadata": {
        "colab": {
          "base_uri": "https://localhost:8080/"
        },
        "id": "sDhZ5r2sPtm8",
        "outputId": "6e5b2534-a6f6-48ea-dda2-4907ca011404"
      },
      "execution_count": 15,
      "outputs": [
        {
          "output_type": "stream",
          "name": "stdout",
          "text": [
            "dict_items([('Name', 'Super Mario'), ('Developer', 'Nintendo'), ('Year', 1990)])\n"
          ]
        }
      ]
    },
    {
      "cell_type": "code",
      "source": [
        "for i,j in game.items():\n",
        "  print('{} = {}'.format(i, j))"
      ],
      "metadata": {
        "colab": {
          "base_uri": "https://localhost:8080/"
        },
        "id": "8JW1TKqZP16D",
        "outputId": "6e0fff7a-324b-4f29-bacb-c0cf29361e4e"
      },
      "execution_count": 16,
      "outputs": [
        {
          "output_type": "stream",
          "name": "stdout",
          "text": [
            "Name = Super Mario\n",
            "Developer = Nintendo\n",
            "Year = 1990\n"
          ]
        }
      ]
    },
    {
      "cell_type": "code",
      "source": [
        "games = []\n",
        "games1 = {'Name':'Super Mario', 'Console':'Super Nintendo', 'Year':1990}\n",
        "games2 = {'Name':'Zelda Ocarina of Time', 'Console':'Nintendo 64', 'Year':1998}\n",
        "games3 = {'Name':'Pokemon Yellow', 'Console':'Game Boy', 'Year':1999}\n",
        "\n",
        "games = [games1, games2, games3]\n",
        "print(games)"
      ],
      "metadata": {
        "colab": {
          "base_uri": "https://localhost:8080/"
        },
        "id": "z-JVT4IzRcy4",
        "outputId": "95d758a0-d28d-4078-e5d1-4cd92fee2ba8"
      },
      "execution_count": 17,
      "outputs": [
        {
          "output_type": "stream",
          "name": "stdout",
          "text": [
            "[{'Name': 'Super Mario', 'Console': 'Super Nintendo', 'Year': 1990}, {'Name': 'Zelda Ocarina of Time', 'Console': 'Nintendo 64', 'Year': 1998}, {'Name': 'Pokemon Yellow', 'Console': 'Game Boy', 'Year': 1999}]\n"
          ]
        }
      ]
    },
    {
      "cell_type": "code",
      "source": [
        "game = {}\n",
        "games = []\n",
        "for i in range(3):\n",
        "  game['Name'] = input(\"What's the name of the game? \")\n",
        "  game['Console'] = input(\"What's the name of the console? \")\n",
        "  game['Year'] = input(\"What's the year of release? \")\n",
        "  games.append(game.copy())\n",
        "print('-' * 20)\n",
        "for e in games:\n",
        "  for i,j in e.items():\n",
        "    print('The field {} have the value {}'.format(i,j))"
      ],
      "metadata": {
        "colab": {
          "base_uri": "https://localhost:8080/"
        },
        "id": "5yHltxTtS2rc",
        "outputId": "32fab042-558c-4601-9f00-2c8f4af2687e"
      },
      "execution_count": 19,
      "outputs": [
        {
          "output_type": "stream",
          "name": "stdout",
          "text": [
            "What's the name of the game? Super Mario\n",
            "What's the name of the console? Super Nintendo\n",
            "What's the year of release? 1990\n",
            "What's the name of the game? Zelda Ocarina of Time\n",
            "What's the name of the console? Nintendo 64\n",
            "What's the year of release? 1998\n",
            "What's the name of the game? Pokemon Yellow\n",
            "What's the name of the console? Game Boy\n",
            "What's the year of release? 1999\n",
            "--------------------\n",
            "O campo Name tem o valor Super Mario\n",
            "O campo Console tem o valor Super Nintendo\n",
            "O campo Year tem o valor 1990\n",
            "O campo Name tem o valor Zelda Ocarina of Time\n",
            "O campo Console tem o valor Nintendo 64\n",
            "O campo Year tem o valor 1998\n",
            "O campo Name tem o valor Pokemon Yellow\n",
            "O campo Console tem o valor Game Boy\n",
            "O campo Year tem o valor 1999\n"
          ]
        }
      ]
    },
    {
      "cell_type": "code",
      "source": [
        "games = {'Name':['Super Mario', 'Zelda the Ocarina of Time', 'Pokemon Yellow'], \n",
        "         'Console':['Super Nintendo', 'Nintendo 64', 'Game Boy'],\n",
        "         'Year':[1990, 1998, 1999]}\n",
        "print(games)"
      ],
      "metadata": {
        "colab": {
          "base_uri": "https://localhost:8080/"
        },
        "id": "sn682qRrksCq",
        "outputId": "68ced42a-6f2e-4b71-f8c4-40c2ae1abc40"
      },
      "execution_count": 20,
      "outputs": [
        {
          "output_type": "stream",
          "name": "stdout",
          "text": [
            "{'Name': ['Super Mario', 'Zelda the Ocarina of Time', 'Pokemon Yellow'], 'Console': ['Super Nintendo', 'Nintendo 64', 'Game Boy'], 'Year': [1990, 1998, 1999]}\n"
          ]
        }
      ]
    },
    {
      "cell_type": "code",
      "source": [
        "games = {'Name':[], 'Console':[], 'Year':[]}\n",
        "for i in range(3):\n",
        "  name = input(\"What's the name of the game ? \")\n",
        "  console = input(\"For what console there was been released ? \")\n",
        "  year = input(\"What's the year of release ? \")\n",
        "  games['Name'].append(name)\n",
        "  games['Console'].append(console)\n",
        "  games['Year'].append(year)\n",
        "print('-' * 20)\n",
        "print(games)"
      ],
      "metadata": {
        "colab": {
          "base_uri": "https://localhost:8080/"
        },
        "id": "pB7nGtmdltmH",
        "outputId": "96804b97-6f3f-40a8-d745-4a9c14c82e5e"
      },
      "execution_count": 22,
      "outputs": [
        {
          "output_type": "stream",
          "name": "stdout",
          "text": [
            "What's the name of the game ? Super Mario\n",
            "For what console there was been released ? Super Nintendo\n",
            "What's the year of release ? 1990\n",
            "What's the name of the game ? Zelda\n",
            "For what console there was been released ? Nintendo 64\n",
            "What's the year of release ? 1998\n",
            "What's the name of the game ? Sonic\n",
            "For what console there was been released ? Mega Drive\n",
            "What's the year of release ? 1999\n",
            "--------------------\n",
            "{'Name': ['Super Mario', 'Zelda', 'Sonic'], 'Console': ['Super Nintendo', 'Nintendo 64', 'Mega Drive'], 'Year': ['1990', '1998', '1999']}\n"
          ]
        }
      ]
    },
    {
      "cell_type": "code",
      "source": [
        "# Exercise One\n",
        "student = {}\n",
        "student['Name'] = input(\"What's the name of the student ? \")\n",
        "n1 = float(input(\"What's the first grade ? \"))\n",
        "n2 = float(input(\"What's the second grade ? \"))\n",
        "n3 = float(input(\"What's the third grade ? \"))\n",
        "student['Average'] = (n1 + n2 + n3) / 3\n",
        "if student['Average'] >= 7:\n",
        "  student['Status'] = 'A'\n",
        "elif student['Average'] >= 5 and student['Average'] < 7:\n",
        "  student['Status'] = 'E'\n",
        "else:\n",
        "  student['Status'] = 'R'\n",
        "\n",
        "for i, j in student.items():\n",
        "  print('{} = {}'.format(i, j))"
      ],
      "metadata": {
        "id": "aYCkI8oBug0r"
      },
      "execution_count": null,
      "outputs": []
    },
    {
      "cell_type": "code",
      "source": [
        "# Exercise Two\n",
        "store = {'rabbits':[100, 0.99],\n",
        "        'brócoli':[50, 3.99],\n",
        "        'potato':[200, 0.49],\n",
        "        'onion':[75, 1.10]}\n",
        "\n",
        "request = []\n",
        "while True:\n",
        "   item_name = input('Insert the name of the item that you want to buy: ')\n",
        "   item_qtd = int(input('Do you wish to buy how many: '))\n",
        "   request.append([item_name, item_qtd])\n",
        "   res = input('Do you wish to add another item ? [S/N]')\n",
        "   if res in 'Nn':\n",
        "     break\n",
        "total = 0\n",
        "print('\\nSales:')\n",
        "for item in request:\n",
        "  product = item[0]\n",
        "  qtd = item[1]\n",
        "  price = store[product][1]\n",
        "  product_value = price * qtd\n",
        "  print('{}: {} x {} = {}'.format(product, qtd, price, product_value))\n",
        "  store[product][0] -= qtd\n",
        "  total += product_value\n",
        "print('Total cost: {}\\n'.format(total))\n",
        "print('Inventory: ')\n",
        "for i,j in store.items():\n",
        "  print('Description: ', i)\n",
        "  print('Quantity: ',j[0])\n",
        "  print('Price: {}\\n'.format(j[1]))"
      ],
      "metadata": {
        "colab": {
          "base_uri": "https://localhost:8080/"
        },
        "id": "plOUIjrAzpGu",
        "outputId": "786b11fb-46a8-43c2-b9ed-45360023b856"
      },
      "execution_count": 27,
      "outputs": [
        {
          "output_type": "stream",
          "name": "stdout",
          "text": [
            "Insert the name of the item that you want to buy: rabbits\n",
            "Do you wish to buy how many: 2\n",
            "Do you wish to add another item ? [S/N]n\n",
            "\n",
            "Sales:\n",
            "rabbits: 2 x 0.99 = 1.98\n",
            "Total cost: 1.98\n",
            "\n",
            "Inventory: \n",
            "Description:  rabbits\n",
            "Quantity:  98\n",
            "Price: 0.99\n",
            "\n",
            "Description:  brócoli\n",
            "Quantity:  50\n",
            "Price: 3.99\n",
            "\n",
            "Description:  potato\n",
            "Quantity:  200\n",
            "Price: 0.49\n",
            "\n",
            "Description:  onion\n",
            "Quantity:  75\n",
            "Price: 1.1\n",
            "\n"
          ]
        }
      ]
    },
    {
      "cell_type": "code",
      "source": [
        "s1 = 'Algoritmos'\n",
        "print(s1)\n",
        "s1[0] = 'a'"
      ],
      "metadata": {
        "id": "aTa0zkui1EuS",
        "outputId": "004e13dd-0ccd-4906-ca77-d75461978697",
        "colab": {
          "base_uri": "https://localhost:8080/",
          "height": 217
        }
      },
      "execution_count": 1,
      "outputs": [
        {
          "output_type": "stream",
          "name": "stdout",
          "text": [
            "Algoritmos\n"
          ]
        },
        {
          "output_type": "error",
          "ename": "TypeError",
          "evalue": "ignored",
          "traceback": [
            "\u001b[0;31m---------------------------------------------------------------------------\u001b[0m",
            "\u001b[0;31mTypeError\u001b[0m                                 Traceback (most recent call last)",
            "\u001b[0;32m<ipython-input-1-8c04c5f6db42>\u001b[0m in \u001b[0;36m<module>\u001b[0;34m()\u001b[0m\n\u001b[1;32m      1\u001b[0m \u001b[0ms1\u001b[0m \u001b[0;34m=\u001b[0m \u001b[0;34m'Algoritmos'\u001b[0m\u001b[0;34m\u001b[0m\u001b[0;34m\u001b[0m\u001b[0m\n\u001b[1;32m      2\u001b[0m \u001b[0mprint\u001b[0m\u001b[0;34m(\u001b[0m\u001b[0ms1\u001b[0m\u001b[0;34m)\u001b[0m\u001b[0;34m\u001b[0m\u001b[0;34m\u001b[0m\u001b[0m\n\u001b[0;32m----> 3\u001b[0;31m \u001b[0ms1\u001b[0m\u001b[0;34m[\u001b[0m\u001b[0;36m0\u001b[0m\u001b[0;34m]\u001b[0m \u001b[0;34m=\u001b[0m \u001b[0;34m'a'\u001b[0m\u001b[0;34m\u001b[0m\u001b[0;34m\u001b[0m\u001b[0m\n\u001b[0m",
            "\u001b[0;31mTypeError\u001b[0m: 'str' object does not support item assignment"
          ]
        }
      ]
    },
    {
      "cell_type": "code",
      "source": [
        "s1 = list('Algoritmos')\n",
        "print(s1) # Print separado\n",
        "print(''.join(s1)) # Print agrupado\n",
        "print('-'.join(s1))"
      ],
      "metadata": {
        "id": "QYIW8W7n1UKq",
        "outputId": "0233e498-2e39-4ec8-bceb-2d309e0e7f0a",
        "colab": {
          "base_uri": "https://localhost:8080/"
        }
      },
      "execution_count": 3,
      "outputs": [
        {
          "output_type": "stream",
          "name": "stdout",
          "text": [
            "['A', 'l', 'g', 'o', 'r', 'i', 't', 'm', 'o', 's']\n",
            "Algoritmos\n",
            "A-l-g-o-r-i-t-m-o-s\n"
          ]
        }
      ]
    },
    {
      "cell_type": "code",
      "source": [
        "s1 = 'Algoritms and Programming logic'\n",
        "s1.startswith('Lógica')"
      ],
      "metadata": {
        "id": "40pA2uoo1y6h",
        "outputId": "e6d2481f-536b-42b2-901e-d71d0b34e3d4",
        "colab": {
          "base_uri": "https://localhost:8080/"
        }
      },
      "execution_count": 4,
      "outputs": [
        {
          "output_type": "execute_result",
          "data": {
            "text/plain": [
              "True"
            ]
          },
          "metadata": {},
          "execution_count": 4
        }
      ]
    },
    {
      "cell_type": "code",
      "source": [
        "s1 = 'Algoritms and Programming logic'\n",
        "s1.endswith('logic')"
      ],
      "metadata": {
        "id": "lce_yP3l177E",
        "outputId": "359aaf0c-f999-48e1-b6a2-2069cddf013c",
        "colab": {
          "base_uri": "https://localhost:8080/"
        }
      },
      "execution_count": 5,
      "outputs": [
        {
          "output_type": "execute_result",
          "data": {
            "text/plain": [
              "True"
            ]
          },
          "metadata": {},
          "execution_count": 5
        }
      ]
    },
    {
      "cell_type": "code",
      "source": [
        "s1 = 'Algoritms and Programming logic'\n",
        "s1.endswith('Logic')"
      ],
      "metadata": {
        "id": "NpZjX6N72vhU",
        "outputId": "d354b93c-b776-4046-aaec-cca88033139c",
        "colab": {
          "base_uri": "https://localhost:8080/"
        }
      },
      "execution_count": 6,
      "outputs": [
        {
          "output_type": "execute_result",
          "data": {
            "text/plain": [
              "False"
            ]
          },
          "metadata": {},
          "execution_count": 6
        }
      ]
    },
    {
      "cell_type": "code",
      "source": [
        "s1 = 'Algoritms and Programming logic'\n",
        "s1.lower().endswith('logic')"
      ],
      "metadata": {
        "id": "xRHikwpY294j",
        "outputId": "e6d54589-f2a2-4693-9869-7d0cb1e7a51a",
        "colab": {
          "base_uri": "https://localhost:8080/"
        }
      },
      "execution_count": 7,
      "outputs": [
        {
          "output_type": "execute_result",
          "data": {
            "text/plain": [
              "True"
            ]
          },
          "metadata": {},
          "execution_count": 7
        }
      ]
    },
    {
      "cell_type": "code",
      "source": [
        "s1 = 'Algoritms and Programming logic'\n",
        "s1.upper().endswith('LOGIC')"
      ],
      "metadata": {
        "id": "iaen1ETG3Hhn",
        "outputId": "975f5593-8fbc-41fb-c3b3-4359919cb6fd",
        "colab": {
          "base_uri": "https://localhost:8080/"
        }
      },
      "execution_count": 8,
      "outputs": [
        {
          "output_type": "execute_result",
          "data": {
            "text/plain": [
              "True"
            ]
          },
          "metadata": {},
          "execution_count": 8
        }
      ]
    },
    {
      "cell_type": "code",
      "source": [
        "s1 = 'Algoritms and Programming logic'\n",
        "print(s1.upper())\n",
        "print(s1.lower())"
      ],
      "metadata": {
        "id": "VQug6EPw3U34",
        "outputId": "4f2ab882-70f2-4422-e2e7-c9a4703eff63",
        "colab": {
          "base_uri": "https://localhost:8080/"
        }
      },
      "execution_count": 9,
      "outputs": [
        {
          "output_type": "stream",
          "name": "stdout",
          "text": [
            "ALGORITMS AND PROGRAMMING LOGIC\n",
            "algoritms and programming logic\n"
          ]
        }
      ]
    },
    {
      "cell_type": "code",
      "source": [
        "s1 = 'Algoritms and Programming logic'\n",
        "s1.lower().count('a')"
      ],
      "metadata": {
        "id": "emP1phU23iaD",
        "outputId": "55334b50-d5e1-4ecd-c092-576024d5512d",
        "colab": {
          "base_uri": "https://localhost:8080/"
        }
      },
      "execution_count": 13,
      "outputs": [
        {
          "output_type": "execute_result",
          "data": {
            "text/plain": [
              "3"
            ]
          },
          "metadata": {},
          "execution_count": 13
        }
      ]
    },
    {
      "cell_type": "code",
      "source": [
        "s1 = 'One plate, two plates, three plates...'\n",
        "s1.lower().count('plate')"
      ],
      "metadata": {
        "id": "MMqoljFs37O3",
        "outputId": "06fb96e4-f1ae-4184-df6b-07fe190fcb1e",
        "colab": {
          "base_uri": "https://localhost:8080/"
        }
      },
      "execution_count": 18,
      "outputs": [
        {
          "output_type": "execute_result",
          "data": {
            "text/plain": [
              "3"
            ]
          },
          "metadata": {},
          "execution_count": 18
        }
      ]
    },
    {
      "cell_type": "code",
      "source": [
        "s1 = 'One plate, two plates, three plates...'\n",
        "s1.split(' ')"
      ],
      "metadata": {
        "id": "M4N_90WK4gz2",
        "outputId": "5a57f664-4914-443f-99ed-43821bcd78d9",
        "colab": {
          "base_uri": "https://localhost:8080/"
        }
      },
      "execution_count": 21,
      "outputs": [
        {
          "output_type": "execute_result",
          "data": {
            "text/plain": [
              "['One', 'plate,', 'two', 'plates,', 'three', 'plates...']"
            ]
          },
          "metadata": {},
          "execution_count": 21
        }
      ]
    },
    {
      "cell_type": "code",
      "source": [
        "s1 = 'One plate, two plates, three plates'\n",
        "s1.replace('plate', 'car')"
      ],
      "metadata": {
        "id": "Il5kTSBr45ox",
        "outputId": "ada0e975-84f6-4f5a-cdd8-3ba4d9af0cad",
        "colab": {
          "base_uri": "https://localhost:8080/",
          "height": 35
        }
      },
      "execution_count": 22,
      "outputs": [
        {
          "output_type": "execute_result",
          "data": {
            "text/plain": [
              "'One car, two cars, three cars'"
            ],
            "application/vnd.google.colaboratory.intrinsic+json": {
              "type": "string"
            }
          },
          "metadata": {},
          "execution_count": 22
        }
      ]
    },
    {
      "cell_type": "code",
      "source": [
        "s1 = 'One plate, two plates, three plates'\n",
        "s1.replace('plate', 'cat', 1)"
      ],
      "metadata": {
        "id": "2QMeLaOu5PJl",
        "outputId": "e0d2bf03-bbc8-4d30-f729-39e26321e968",
        "colab": {
          "base_uri": "https://localhost:8080/",
          "height": 35
        }
      },
      "execution_count": 23,
      "outputs": [
        {
          "output_type": "execute_result",
          "data": {
            "text/plain": [
              "'One cat, two plates, three plates'"
            ],
            "application/vnd.google.colaboratory.intrinsic+json": {
              "type": "string"
            }
          },
          "metadata": {},
          "execution_count": 23
        }
      ]
    },
    {
      "cell_type": "code",
      "source": [
        "s1 = 'Algoritms and Programming Logic'\n",
        "s2 = '42'\n",
        "s3 = 'Algoritms'\n",
        "\n",
        "print(s1.isalnum())\n",
        "print(s2.isalnum())\n",
        "print(s3.isalnum())"
      ],
      "metadata": {
        "id": "xqLK7s1o5mWA",
        "outputId": "3cbfe949-466a-4551-e5c8-ea862a83b03f",
        "colab": {
          "base_uri": "https://localhost:8080/"
        }
      },
      "execution_count": 27,
      "outputs": [
        {
          "output_type": "stream",
          "name": "stdout",
          "text": [
            "False\n",
            "True\n",
            "True\n"
          ]
        }
      ]
    },
    {
      "cell_type": "code",
      "source": [
        "print(s1.isalpha())\n",
        "print(s2.isalpha())\n",
        "print(s3.isalpha())"
      ],
      "metadata": {
        "id": "exjMj6Aj6M4u",
        "outputId": "2bda0033-2cae-4a07-b7af-7d9a610fa64c",
        "colab": {
          "base_uri": "https://localhost:8080/"
        }
      },
      "execution_count": 28,
      "outputs": [
        {
          "output_type": "stream",
          "name": "stdout",
          "text": [
            "False\n",
            "False\n",
            "True\n"
          ]
        }
      ]
    },
    {
      "cell_type": "code",
      "source": [
        "s1 = 'AlgoritmsAndProgrammingLogic'\n",
        "print(s1.isalpha())"
      ],
      "metadata": {
        "id": "DIP0bCmH6ZH-",
        "outputId": "5ad85ced-57bf-453c-bdf2-d8ece40143ff",
        "colab": {
          "base_uri": "https://localhost:8080/"
        }
      },
      "execution_count": 29,
      "outputs": [
        {
          "output_type": "stream",
          "name": "stdout",
          "text": [
            "True\n"
          ]
        }
      ]
    }
  ]
}