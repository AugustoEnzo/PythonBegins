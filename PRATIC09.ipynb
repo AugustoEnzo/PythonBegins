{
  "nbformat": 4,
  "nbformat_minor": 0,
  "metadata": {
    "colab": {
      "name": "Untitled1.ipynb",
      "provenance": [],
      "authorship_tag": "ABX9TyN88S7mN7yj3nrBk2OtlqjZ",
      "include_colab_link": true
    },
    "kernelspec": {
      "name": "python3",
      "display_name": "Python 3"
    },
    "language_info": {
      "name": "python"
    }
  },
  "cells": [
    {
      "cell_type": "markdown",
      "metadata": {
        "id": "view-in-github",
        "colab_type": "text"
      },
      "source": [
        "<a href=\"https://colab.research.google.com/github/Enz-Lima/PythonBegins/blob/main/PRATIC09.ipynb\" target=\"_parent\"><img src=\"https://colab.research.google.com/assets/colab-badge.svg\" alt=\"Open In Colab\"/></a>"
      ]
    },
    {
      "cell_type": "code",
      "execution_count": 1,
      "metadata": {
        "id": "1i9xRmHmnM82",
        "colab": {
          "base_uri": "https://localhost:8080/"
        },
        "outputId": "fcc0da82-cba5-4c18-ebfd-3964ea514653"
      },
      "outputs": [
        {
          "output_type": "stream",
          "name": "stdout",
          "text": [
            "('Machado', 'Camisa', 'Bacon', 'Abacate')\n"
          ]
        }
      ],
      "source": [
        "mochila = ('Machado', 'Camisa', 'Bacon', 'Abacate')\n",
        "print(mochila)"
      ]
    },
    {
      "cell_type": "code",
      "source": [
        "print(mochila[0]) # Print of 1º Element - Idx 0\n",
        "print(mochila[2]) # Print of 3º Element - Idx 2\n",
        "print(mochila[2]) # Print of Elements One and Two - Idx 0 e 1\n",
        "print(mochila[2:]) # Print of Elements from 3º Element to the last\n",
        "print(mochila[-1]) # Print of the last Element"
      ],
      "metadata": {
        "colab": {
          "base_uri": "https://localhost:8080/"
        },
        "id": "rpo4TraFn1KE",
        "outputId": "5a279689-35f6-4b02-d9d1-f6a86d9b7b64"
      },
      "execution_count": 2,
      "outputs": [
        {
          "output_type": "stream",
          "name": "stdout",
          "text": [
            "Machado\n",
            "Bacon\n",
            "Bacon\n",
            "('Bacon', 'Abacate')\n",
            "Abacate\n"
          ]
        }
      ]
    },
    {
      "cell_type": "code",
      "source": [
        "mochila[2] = 'Ovos' "
      ],
      "metadata": {
        "colab": {
          "base_uri": "https://localhost:8080/",
          "height": 165
        },
        "id": "Heus8RH7o63l",
        "outputId": "1003d180-8117-40e1-d4c3-ea7fae7b9d76"
      },
      "execution_count": 3,
      "outputs": [
        {
          "output_type": "error",
          "ename": "TypeError",
          "evalue": "ignored",
          "traceback": [
            "\u001b[0;31m---------------------------------------------------------------------------\u001b[0m",
            "\u001b[0;31mTypeError\u001b[0m                                 Traceback (most recent call last)",
            "\u001b[0;32m<ipython-input-3-885dd4df8a5b>\u001b[0m in \u001b[0;36m<module>\u001b[0;34m()\u001b[0m\n\u001b[0;32m----> 1\u001b[0;31m \u001b[0mmochila\u001b[0m\u001b[0;34m[\u001b[0m\u001b[0;36m2\u001b[0m\u001b[0;34m]\u001b[0m \u001b[0;34m=\u001b[0m \u001b[0;34m'Ovos'\u001b[0m\u001b[0;34m\u001b[0m\u001b[0;34m\u001b[0m\u001b[0m\n\u001b[0m",
            "\u001b[0;31mTypeError\u001b[0m: 'tuple' object does not support item assignment"
          ]
        }
      ]
    },
    {
      "cell_type": "code",
      "source": [
        "for item in mochila:\n",
        "  print(\"In my bag've: {}\".format(item))"
      ],
      "metadata": {
        "colab": {
          "base_uri": "https://localhost:8080/"
        },
        "id": "XHGBtVZypBwI",
        "outputId": "0b43f4f6-3f71-4290-8a6c-09eded43b3a3"
      },
      "execution_count": 4,
      "outputs": [
        {
          "output_type": "stream",
          "name": "stdout",
          "text": [
            "In my bag've: Machado\n",
            "In my bag've: Camisa\n",
            "In my bag've: Bacon\n",
            "In my bag've: Abacate\n"
          ]
        }
      ]
    },
    {
      "cell_type": "code",
      "source": [
        "size = len(mochila)\n",
        "for i in range(0, size, 1):\n",
        "  print(\"In my bag've: {}\".format(mochila[i]))"
      ],
      "metadata": {
        "colab": {
          "base_uri": "https://localhost:8080/"
        },
        "id": "XmfhCscjpRfJ",
        "outputId": "3cea56d1-7278-41e8-b318-745d948b239c"
      },
      "execution_count": 5,
      "outputs": [
        {
          "output_type": "stream",
          "name": "stdout",
          "text": [
            "In my bag've: Machado\n",
            "In my bag've: Camisa\n",
            "In my bag've: Bacon\n",
            "In my bag've: Abacate\n"
          ]
        }
      ]
    },
    {
      "cell_type": "code",
      "source": [
        "bag = ('Machado', 'Camisa', 'Bacon', 'Abacate')\n",
        "upgrade = ('Queijo', 'Canivete')\n",
        "big_bag = bag + upgrade\n",
        "\n",
        "print(bag)\n",
        "print(upgrade)\n",
        "print(big_bag)"
      ],
      "metadata": {
        "colab": {
          "base_uri": "https://localhost:8080/"
        },
        "id": "4Gy7-QyMqYGJ",
        "outputId": "522947f7-728f-4edd-bf13-50d7fc362990"
      },
      "execution_count": 7,
      "outputs": [
        {
          "output_type": "stream",
          "name": "stdout",
          "text": [
            "('Machado', 'Camisa', 'Bacon', 'Abacate')\n",
            "('Queijo', 'Canivete')\n",
            "('Machado', 'Camisa', 'Bacon', 'Abacate', 'Queijo', 'Canivete')\n"
          ]
        }
      ]
    },
    {
      "cell_type": "code",
      "source": [
        "reverse_big_bag = upgrade + bag\n",
        "print(big_bag)\n",
        "print(reverse_big_bag)"
      ],
      "metadata": {
        "colab": {
          "base_uri": "https://localhost:8080/"
        },
        "id": "tyWWVKkSrCzp",
        "outputId": "393670b4-dbde-42ee-9060-8a5fec055caf"
      },
      "execution_count": 8,
      "outputs": [
        {
          "output_type": "stream",
          "name": "stdout",
          "text": [
            "('Machado', 'Camisa', 'Bacon', 'Abacate', 'Queijo', 'Canivete')\n",
            "('Queijo', 'Canivete', 'Machado', 'Camisa', 'Bacon', 'Abacate')\n"
          ]
        }
      ]
    },
    {
      "cell_type": "code",
      "source": [
        "def sum(*num):\n",
        "  sum = 0\n",
        "  print('Tupla: {}'.format(num))\n",
        "  for i in num:\n",
        "    sum += i\n",
        "  return sum\n",
        "\n",
        "# Main program:\n",
        "print('Result: {}\\n'.format(sum(1,2)))\n",
        "print('Result: {}\\n'.format(sum(1,2,3,4,5,6,7,8,9)))"
      ],
      "metadata": {
        "colab": {
          "base_uri": "https://localhost:8080/"
        },
        "id": "bEgZVC29wpD4",
        "outputId": "1e676d2d-6de2-49af-d5e4-16ad0bb0b1e5"
      },
      "execution_count": 1,
      "outputs": [
        {
          "output_type": "stream",
          "name": "stdout",
          "text": [
            "Tupla: (1, 2)\n",
            "Result: 3\n",
            "\n",
            "Tupla: (1, 2, 3, 4, 5, 6, 7, 8, 9)\n",
            "Result: 45\n",
            "\n"
          ]
        }
      ]
    },
    {
      "cell_type": "code",
      "source": [
        "# Exercise One\n",
        "languages = ('Rust', 'TypeScript', 'Python', 'Kotlin', 'Go', 'Julia', 'Dart', 'C#', 'Swift', 'JavaScript',)\n",
        "print('Top Ten programming languages most loved of 2020:')\n",
        "print('(According to the Stack Overflow)')\n",
        "for i in range(0, len(languages), 1):\n",
        "  print(i+1, ' - ', languages[i])\n",
        "\n",
        "print('\\nTOP 3: ', languages[:3])\n",
        "print('Last 5: ', languages[-5:])\n",
        "i = 0\n",
        "while (languages[i] != 'Python'):\n",
        "  i += 1\n",
        "print('We found Python in the {}st postion!'.format(i+1))"
      ],
      "metadata": {
        "colab": {
          "base_uri": "https://localhost:8080/"
        },
        "id": "yx59ZNwdQPeC",
        "outputId": "3316c334-61ab-4372-e056-10134ed3717e"
      },
      "execution_count": 2,
      "outputs": [
        {
          "output_type": "stream",
          "name": "stdout",
          "text": [
            "Top Ten programming languages most loved of 2020:\n",
            "(According to the Stack Overflow)\n",
            "1  -  Rust\n",
            "2  -  TypeScript\n",
            "3  -  Python\n",
            "4  -  Kotlin\n",
            "5  -  Go\n",
            "6  -  Julia\n",
            "7  -  Dart\n",
            "8  -  C#\n",
            "9  -  Swift\n",
            "10  -  JavaScript\n",
            "\n",
            "TOP 3:  ('Rust', 'TypeScript', 'Python')\n",
            "Last 5:  ('Julia', 'Dart', 'C#', 'Swift', 'JavaScript')\n",
            "We found Python in the 3st postion!\n"
          ]
        }
      ]
    },
    {
      "cell_type": "code",
      "source": [
        "# Exercício 2\n",
        "def bigger(msg, *num):\n",
        "  bigger = 0\n",
        "  for i in range(0, len(num), 1):\n",
        "    if (num[i] > bigger):\n",
        "      bigger = num[i]\n",
        "  print(msg, bigger)\n",
        "\n",
        "# Programa principal\n",
        "bigger('Bigger: ',8,6,4,78,56,12,9)"
      ],
      "metadata": {
        "colab": {
          "base_uri": "https://localhost:8080/"
        },
        "id": "Vl8KuQGIptsT",
        "outputId": "c542594c-0eeb-4100-fe7d-095e50065208"
      },
      "execution_count": 2,
      "outputs": [
        {
          "output_type": "stream",
          "name": "stdout",
          "text": [
            "Bigger:  78\n"
          ]
        }
      ]
    },
    {
      "cell_type": "code",
      "source": [
        "bag = ('Machado', 'Camisa', 'Bacon', 'Abacate')\n",
        "print('Tuple: {}'.format(bag))\n",
        "bag = ['Machado', 'Camisa', 'Bacon', 'Abacate']\n",
        "print('Lista: {}'.format(bag))"
      ],
      "metadata": {
        "colab": {
          "base_uri": "https://localhost:8080/"
        },
        "id": "jo_aPmYihIxm",
        "outputId": "823aa0c0-1ece-4344-962b-4c340fb8667e"
      },
      "execution_count": 3,
      "outputs": [
        {
          "output_type": "stream",
          "name": "stdout",
          "text": [
            "Tuple: ('Machado', 'Camisa', 'Bacon', 'Abacate')\n",
            "Lista: ['Machado', 'Camisa', 'Bacon', 'Abacate']\n"
          ]
        }
      ]
    },
    {
      "cell_type": "code",
      "source": [
        "bag[2] = 'Laranja'\n",
        "print('Lista: {}'.format(bag))"
      ],
      "metadata": {
        "colab": {
          "base_uri": "https://localhost:8080/"
        },
        "id": "Wj32kS0kjC2b",
        "outputId": "b307acce-d6b9-436b-9706-4c7c5a38ca60"
      },
      "execution_count": 4,
      "outputs": [
        {
          "output_type": "stream",
          "name": "stdout",
          "text": [
            "Lista: ['Machado', 'Camisa', 'Laranja', 'Abacate']\n"
          ]
        }
      ]
    },
    {
      "cell_type": "code",
      "source": [
        "bag.append('Ovos')\n",
        "print('Lista: {}'.format(bag))"
      ],
      "metadata": {
        "colab": {
          "base_uri": "https://localhost:8080/"
        },
        "id": "TVKd2az7jT8j",
        "outputId": "6a4d8dae-9350-4c9f-b8b6-288b8a063231"
      },
      "execution_count": 5,
      "outputs": [
        {
          "output_type": "stream",
          "name": "stdout",
          "text": [
            "Lista: ['Machado', 'Camisa', 'Laranja', 'Abacate', 'Ovos']\n"
          ]
        }
      ]
    },
    {
      "cell_type": "code",
      "source": [
        "bag.insert(1, 'Canivete')\n",
        "print('Lista: {}'.format(bag))"
      ],
      "metadata": {
        "colab": {
          "base_uri": "https://localhost:8080/"
        },
        "id": "ik0U4MB8jhlm",
        "outputId": "167a123c-966d-46a8-d9ac-1d584cc6c9a8"
      },
      "execution_count": 6,
      "outputs": [
        {
          "output_type": "stream",
          "name": "stdout",
          "text": [
            "Lista: ['Machado', 'Canivete', 'Camisa', 'Laranja', 'Abacate', 'Ovos']\n"
          ]
        }
      ]
    },
    {
      "cell_type": "code",
      "source": [
        "del bag[1]\n",
        "print('Lista: {}'.format(bag))\n",
        "bag.remove('Ovos')\n",
        "print('Lista: {}'.format(bag))"
      ],
      "metadata": {
        "colab": {
          "base_uri": "https://localhost:8080/"
        },
        "id": "fgwts3ppjyJz",
        "outputId": "e710f68a-e16a-4be7-f2ae-f51b65da779a"
      },
      "execution_count": 8,
      "outputs": [
        {
          "output_type": "stream",
          "name": "stdout",
          "text": [
            "Lista: ['Machado', 'Laranja', 'Abacate', 'Ovos']\n",
            "Lista: ['Machado', 'Laranja', 'Abacate']\n"
          ]
        }
      ]
    },
    {
      "cell_type": "code",
      "source": [
        "# Same reference\n",
        "x = [5, 7, 9, 11]\n",
        "y = x\n",
        "print(x)\n",
        "print(y)"
      ],
      "metadata": {
        "colab": {
          "base_uri": "https://localhost:8080/"
        },
        "id": "MSQ7Zt2wkaa9",
        "outputId": "fc47466d-e01c-4087-b2bc-c25467e5d815"
      },
      "execution_count": 10,
      "outputs": [
        {
          "output_type": "stream",
          "name": "stdout",
          "text": [
            "[5, 7, 9, 11]\n",
            "[5, 7, 9, 11]\n"
          ]
        }
      ]
    },
    {
      "cell_type": "code",
      "source": [
        "y[0] = 2\n",
        "print(x)\n",
        "print(y)"
      ],
      "metadata": {
        "colab": {
          "base_uri": "https://localhost:8080/"
        },
        "id": "8dRP1kt8kw8M",
        "outputId": "b8152771-c931-49db-fed8-08d7ebe458a8"
      },
      "execution_count": 12,
      "outputs": [
        {
          "output_type": "stream",
          "name": "stdout",
          "text": [
            "[2, 7, 9, 11]\n",
            "[2, 7, 9, 11]\n"
          ]
        }
      ]
    },
    {
      "cell_type": "code",
      "source": [
        "# Copy\n",
        "x = [5, 7, 9, 11]\n",
        "y = x[:]\n",
        "print(x)\n",
        "print(y)"
      ],
      "metadata": {
        "colab": {
          "base_uri": "https://localhost:8080/"
        },
        "id": "ASLbE3x3lNrK",
        "outputId": "c7122a1e-ae6c-4266-a1d4-2e7a1d7c2862"
      },
      "execution_count": 13,
      "outputs": [
        {
          "output_type": "stream",
          "name": "stdout",
          "text": [
            "[5, 7, 9, 11]\n",
            "[5, 7, 9, 11]\n"
          ]
        }
      ]
    },
    {
      "cell_type": "code",
      "source": [
        "y[0] = 2\n",
        "print(x)\n",
        "print(y)"
      ],
      "metadata": {
        "colab": {
          "base_uri": "https://localhost:8080/"
        },
        "id": "FdKO1ykglmUa",
        "outputId": "7b5fdb01-387f-4a2b-a876-a5166e3e0fc3"
      },
      "execution_count": 14,
      "outputs": [
        {
          "output_type": "stream",
          "name": "stdout",
          "text": [
            "[5, 7, 9, 11]\n",
            "[2, 7, 9, 11]\n"
          ]
        }
      ]
    },
    {
      "cell_type": "code",
      "source": [
        "bag = ['Machado', 'Camisa', 'Bacon', 'Abacate']\n",
        "print(bag[0])"
      ],
      "metadata": {
        "colab": {
          "base_uri": "https://localhost:8080/"
        },
        "id": "0Vo1CKqNXGJb",
        "outputId": "43001ee7-fd65-4e0a-f443-10c317852779"
      },
      "execution_count": 1,
      "outputs": [
        {
          "output_type": "stream",
          "name": "stdout",
          "text": [
            "Machado\n"
          ]
        }
      ]
    },
    {
      "cell_type": "code",
      "source": [
        "bag = ['Machado', 'Camisa', 'Bacon', 'Abacate']\n",
        "print(bag[0][0])\n",
        "print(bag[2][2])"
      ],
      "metadata": {
        "colab": {
          "base_uri": "https://localhost:8080/"
        },
        "id": "welGuz6lXnLl",
        "outputId": "3fb08ee0-ad33-43b9-fef8-29a6cffe8322"
      },
      "execution_count": 5,
      "outputs": [
        {
          "output_type": "stream",
          "name": "stdout",
          "text": [
            "M\n",
            "c\n"
          ]
        }
      ]
    },
    {
      "cell_type": "code",
      "source": [
        "bag = ['Machado', 'Camisa', 'Bacon', 'Abacate']\n",
        "for item in bag:\n",
        "  for letter in item:\n",
        "    print(letter, end='')\n",
        "  print()"
      ],
      "metadata": {
        "colab": {
          "base_uri": "https://localhost:8080/"
        },
        "id": "ndgARi82YFk2",
        "outputId": "f927444e-e127-4b64-9470-327230b24ae0"
      },
      "execution_count": 6,
      "outputs": [
        {
          "output_type": "stream",
          "name": "stdout",
          "text": [
            "Machado\n",
            "Camisa\n",
            "Bacon\n",
            "Abacate\n"
          ]
        }
      ]
    },
    {
      "cell_type": "code",
      "source": [
        "bag = ['Machado', 'Camisa', 'Bacon', 'Abacate']\n",
        "for i in range(0, len(bag), 1):\n",
        "  for j in range(0, len(bag[i]), 1):\n",
        "    print(bag[i][j], end='')\n",
        "  print()"
      ],
      "metadata": {
        "colab": {
          "base_uri": "https://localhost:8080/"
        },
        "id": "y-Qk7gcdYsyD",
        "outputId": "2b82526e-48c1-4311-db88-c4f361ec0129"
      },
      "execution_count": 7,
      "outputs": [
        {
          "output_type": "stream",
          "name": "stdout",
          "text": [
            "Machado\n",
            "Camisa\n",
            "Bacon\n",
            "Abacate\n"
          ]
        }
      ]
    },
    {
      "cell_type": "code",
      "source": [
        "item = []\n",
        "mercado = []\n",
        "\n",
        "for i in range(3):\n",
        "  item.append(input('Digite o nome do item: '))\n",
        "  item.append(int(input('Digite a quantidade: ')))\n",
        "  item.append(float(input('Digite o valor: ')))\n",
        "  mercado.append(item[:])\n",
        "  item.clear()\n",
        "print(mercado)"
      ],
      "metadata": {
        "id": "GBu8Xqu1ZnRl"
      },
      "execution_count": null,
      "outputs": []
    },
    {
      "cell_type": "code",
      "source": [
        "mercado = []\n",
        "\n",
        "for i in range(3):\n",
        "  nome = input('Digite o nome do item: ')\n",
        "  qtd = int(input('Digite a quantidade: '))\n",
        "  valor = float(input('Digite o valor: '))\n",
        "  mercado.append([nome, qtd, valor])\n",
        "print(mercado)  "
      ],
      "metadata": {
        "colab": {
          "base_uri": "https://localhost:8080/"
        },
        "id": "aS9vIoDb8e9b",
        "outputId": "0fdff358-10f4-47f9-dd54-0a76141502a8"
      },
      "execution_count": 3,
      "outputs": [
        {
          "output_type": "stream",
          "name": "stdout",
          "text": [
            "Digite o nome do item: Abacate\n",
            "Digite a quantidade: 1\n",
            "Digite o valor: 3.0\n",
            "Digite o nome do item: Açucar\n",
            "Digite a quantidade: 4\n",
            "Digite o valor: 4\n",
            "Digite o nome do item: Maça\n",
            "Digite a quantidade: 5\n",
            "Digite o valor: 2\n",
            "[['Abacate', 1, 3.0], ['Açucar', 4, 4.0], ['Maça', 5, 2.0]]\n"
          ]
        }
      ]
    },
    {
      "cell_type": "code",
      "source": [
        "# Qual o nome do primeiro produto?\n",
        "print(mercado[0][0])\n",
        "# Quanto custa um tomate ?\n",
        "print(mercado[1][2])\n",
        "# Quantos sacos de arroz foram comprados ?\n",
        "print(mercado[2][1])"
      ],
      "metadata": {
        "colab": {
          "base_uri": "https://localhost:8080/"
        },
        "id": "eOQTpRrV9O_b",
        "outputId": "729f2f1b-86cf-4c31-d31c-bb0870821a2a"
      },
      "execution_count": 4,
      "outputs": [
        {
          "output_type": "stream",
          "name": "stdout",
          "text": [
            "Abacate\n",
            "4.0\n",
            "5\n"
          ]
        }
      ]
    },
    {
      "cell_type": "code",
      "source": [
        "soma = 0\n",
        "print('Lista de compras:')\n",
        "print('-' * 20)\n",
        "print('Item | Quantidade | Valor unitário | Total do item')\n",
        "for item in mercado:\n",
        "  print('{} | {} | {} | {}'.format(item[0], item[1], item[2], item[1] * item[2]))\n",
        "  soma += item[1] * item[2]\n",
        "print('-' * 20)\n",
        "print('Total a ser pago: {}'.format(soma))"
      ],
      "metadata": {
        "colab": {
          "base_uri": "https://localhost:8080/"
        },
        "id": "agrqo5tA93xu",
        "outputId": "cf84711c-e00e-4dc9-a6e8-b8246db92761"
      },
      "execution_count": 5,
      "outputs": [
        {
          "output_type": "stream",
          "name": "stdout",
          "text": [
            "Lista de compras:\n",
            "--------------------\n",
            "Item | Quantidade | Valor unitário | Total do item\n",
            "Abacate | 1 | 3.0 | 3.0\n",
            "Açucar | 4 | 4.0 | 16.0\n",
            "Maça | 5 | 2.0 | 10.0\n",
            "--------------------\n",
            "Total a ser pago: 29.0\n"
          ]
        }
      ]
    },
    {
      "cell_type": "code",
      "source": [
        "# Exercise One\n",
        "try:\n",
        "  grades = []\n",
        "  x = float(input('Insert a grade: '))\n",
        "  while x >= 0:\n",
        "    grades.append(x)\n",
        "    x = float(input('Insert a grade: '))\n",
        "  sum = 0\n",
        "  for i in grades:\n",
        "    sum += i\n",
        "  media = sum/len(grades)\n",
        "  print(grades)\n",
        "  print('Average of the grades typed: {}'.format(media))\n",
        "except ZeroDivisionError:\n",
        "  print(\"It's need to add a value to be calculated. Finishing...\")"
      ],
      "metadata": {
        "colab": {
          "base_uri": "https://localhost:8080/"
        },
        "id": "azjg5y0ZPnf9",
        "outputId": "bb4a9bba-5d11-451d-fc66-0d057e7db826"
      },
      "execution_count": 6,
      "outputs": [
        {
          "output_type": "stream",
          "name": "stdout",
          "text": [
            "Insert a grade: 4.5\n",
            "Insert a grade: 2.4\n",
            "Insert a grade: 3.4\n",
            "Insert a grade: 4.4\n",
            "Insert a grade: 0\n",
            "Insert a grade: 2.6\n",
            "Insert a grade: -1\n",
            "[4.5, 2.4, 3.4, 4.4, 0.0, 2.6]\n",
            "Average of the grades typed: 2.8833333333333333\n"
          ]
        }
      ]
    },
    {
      "cell_type": "code",
      "source": [
        "# Exercise 2\n",
        "def sequentialSearch(lista, data):\n",
        "  x = 0\n",
        "  while x < len(lista):\n",
        "    if (lista[x] == data):\n",
        "      return x\n",
        "    x += 1\n",
        "  return -1\n",
        "\n",
        "# Main program\n",
        "test = [3, 7, 9, 1, 0, 7, 5, 12]\n",
        "# Use the type of data that you want, enough to change here\n",
        "data = int(input('Insert a integer value: '))\n",
        "res = sequentialSearch(test,data)\n",
        "if res >= 0:\n",
        "  print('Position where the {} was been find: {}'.format(data, res + 1))\n",
        "else:\n",
        "  print('Data not found...')"
      ],
      "metadata": {
        "colab": {
          "base_uri": "https://localhost:8080/"
        },
        "id": "KUNqckMpSs3B",
        "outputId": "8f93ac16-3433-4f5a-ce58-533833b195b3"
      },
      "execution_count": 7,
      "outputs": [
        {
          "output_type": "stream",
          "name": "stdout",
          "text": [
            "Insert a integer value: 12\n",
            "Position where the 12 was been find: 8\n"
          ]
        }
      ]
    },
    {
      "cell_type": "code",
      "source": [
        "# Exercise 3\n",
        "people = []\n",
        "\n",
        "cmi = lambda weight, height: weight / (height * height)\n",
        "\n",
        "while True:\n",
        "  name = input('Name: ')\n",
        "  height = float(input('Height (m): '))\n",
        "  weight = int(input('Weight (kg): '))\n",
        "  cmi_people = cmi(weight, height)\n",
        "  people.append([name, weight, height, cmi_people])\n",
        "  res = input('You want to register another people [Y/N]: ')\n",
        "  if res in 'Nn':\n",
        "    break\n",
        "print('Registers: {}'.format(people))\n",
        "print('Total of Registers: {}'.format(len(people)))\n",
        "bigger = 0\n",
        "smaller = 99\n",
        "for i in range(0, len(people), 1):\n",
        "  if people[i][3] > bigger:\n",
        "    bigger = people[i][3]\n",
        "  if people[i][3] < smaller:\n",
        "    smaller = people[i][3]\n",
        "print('Bigger CMI:',bigger)\n",
        "print('Smaller CMI:',smaller)"
      ],
      "metadata": {
        "colab": {
          "base_uri": "https://localhost:8080/"
        },
        "id": "MtUHVefHVNeW",
        "outputId": "1f7f958b-1a55-4135-e42f-84b2a0681d58"
      },
      "execution_count": 8,
      "outputs": [
        {
          "output_type": "stream",
          "name": "stdout",
          "text": [
            "Name: Enzo\n",
            "Height (m): 1.92\n",
            "Weight (kg): 72\n",
            "You want to register another people [Y/N]: y\n",
            "Name: Augusto\n",
            "Height (m): 1.92\n",
            "Weight (kg): 72\n",
            "You want to register another people [Y/N]: N\n",
            "Registers: [['Enzo', 72, 1.92, 19.53125], ['Augusto', 72, 1.92, 19.53125]]\n",
            "Total of Registers: 2\n",
            "Bigger CMI: 19.53125\n",
            "Smaller CMI: 19.53125\n"
          ]
        }
      ]
    },
    {
      "cell_type": "code",
      "source": [
        "bag = ['Axe', 'Shirt', 'Bacon', 'Papaya']\n",
        "print('Tuple: {}'.format(bag))\n",
        "bag = ['Axe', 'Shirt', 'Bacon', 'Papaya']\n",
        "print('List: {}'.format(bag))\n",
        "bag = {'Axe':1, 'Shirt':2, 'Bacon':3, 'Papaya':4}\n",
        "print('Dictionary: {}'.format(bag))"
      ],
      "metadata": {
        "id": "OaaRFNpX-dmy",
        "outputId": "701966ec-8e72-4847-e70c-1ef48c4420b2",
        "colab": {
          "base_uri": "https://localhost:8080/"
        }
      },
      "execution_count": 1,
      "outputs": [
        {
          "output_type": "stream",
          "name": "stdout",
          "text": [
            "Tuple: ['Axe', 'Shirt', 'Bacon', 'Papaya']\n",
            "List: ['Axe', 'Shirt', 'Bacon', 'Papaya']\n",
            "Dictionary: {'Axe': 1, 'Shirt': 2, 'Bacon': 3, 'Papaya': 4}\n"
          ]
        }
      ]
    },
    {
      "cell_type": "code",
      "source": [
        "game = {'Name':'Super Mario', 'Developer':'Nintendo', 'Year':1990}\n",
        "print(game)"
      ],
      "metadata": {
        "id": "Bk0N821V_Vh1",
        "outputId": "2b5029d2-3a11-49aa-e594-39cb696553bd",
        "colab": {
          "base_uri": "https://localhost:8080/"
        }
      },
      "execution_count": 9,
      "outputs": [
        {
          "output_type": "stream",
          "name": "stdout",
          "text": [
            "{'Name': 'Super Mario', 'Developer': 'Nintendo', 'Year': 1990}\n"
          ]
        }
      ]
    },
    {
      "cell_type": "code",
      "source": [
        "print(game['Name'])\n",
        "print(game['Developer'])\n",
        "print(game['Year'])"
      ],
      "metadata": {
        "id": "Mibvmjwh_uk7",
        "outputId": "29747b3a-a590-42ec-c848-962d548312c1",
        "colab": {
          "base_uri": "https://localhost:8080/"
        }
      },
      "execution_count": 10,
      "outputs": [
        {
          "output_type": "stream",
          "name": "stdout",
          "text": [
            "Super Mario\n",
            "Nintendo\n",
            "1990\n"
          ]
        }
      ]
    },
    {
      "cell_type": "code",
      "source": [
        "print(game.values())"
      ],
      "metadata": {
        "id": "NDppFAN-_8oI",
        "outputId": "e644b141-7137-4579-bae3-43b36523536e",
        "colab": {
          "base_uri": "https://localhost:8080/"
        }
      },
      "execution_count": 11,
      "outputs": [
        {
          "output_type": "stream",
          "name": "stdout",
          "text": [
            "dict_values(['Super Mario', 'Nintendo', 1990])\n"
          ]
        }
      ]
    },
    {
      "cell_type": "code",
      "source": [
        "for i in game.values():\n",
        "  print(i)"
      ],
      "metadata": {
        "id": "_HappeHDACwS",
        "outputId": "1f5f8dbb-ed87-47dd-a91f-0f8a653fce89",
        "colab": {
          "base_uri": "https://localhost:8080/"
        }
      },
      "execution_count": 12,
      "outputs": [
        {
          "output_type": "stream",
          "name": "stdout",
          "text": [
            "Super Mario\n",
            "Nintendo\n",
            "1990\n"
          ]
        }
      ]
    },
    {
      "cell_type": "code",
      "source": [
        "print(game.keys())"
      ],
      "metadata": {
        "id": "suU-lvMRALzb",
        "outputId": "ba2ed975-42fa-483e-ebc9-0c73aa296245",
        "colab": {
          "base_uri": "https://localhost:8080/"
        }
      },
      "execution_count": 13,
      "outputs": [
        {
          "output_type": "stream",
          "name": "stdout",
          "text": [
            "dict_keys(['Name', 'Developer', 'Year'])\n"
          ]
        }
      ]
    },
    {
      "cell_type": "code",
      "source": [
        "for i in game.keys():\n",
        "  print(i)"
      ],
      "metadata": {
        "id": "QaTCnhcOAZrv",
        "outputId": "c829c0da-e2fb-40f0-a966-881238cefc01",
        "colab": {
          "base_uri": "https://localhost:8080/"
        }
      },
      "execution_count": 14,
      "outputs": [
        {
          "output_type": "stream",
          "name": "stdout",
          "text": [
            "Name\n",
            "Developer\n",
            "Year\n"
          ]
        }
      ]
    },
    {
      "cell_type": "code",
      "source": [
        "print(game.items())"
      ],
      "metadata": {
        "id": "sDhZ5r2sPtm8",
        "outputId": "6e5b2534-a6f6-48ea-dda2-4907ca011404",
        "colab": {
          "base_uri": "https://localhost:8080/"
        }
      },
      "execution_count": 15,
      "outputs": [
        {
          "output_type": "stream",
          "name": "stdout",
          "text": [
            "dict_items([('Name', 'Super Mario'), ('Developer', 'Nintendo'), ('Year', 1990)])\n"
          ]
        }
      ]
    },
    {
      "cell_type": "code",
      "source": [
        "for i,j in game.items():\n",
        "  print('{} = {}'.format(i, j))"
      ],
      "metadata": {
        "id": "8JW1TKqZP16D",
        "outputId": "6e0fff7a-324b-4f29-bacb-c0cf29361e4e",
        "colab": {
          "base_uri": "https://localhost:8080/"
        }
      },
      "execution_count": 16,
      "outputs": [
        {
          "output_type": "stream",
          "name": "stdout",
          "text": [
            "Name = Super Mario\n",
            "Developer = Nintendo\n",
            "Year = 1990\n"
          ]
        }
      ]
    }
  ]
}