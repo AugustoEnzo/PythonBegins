{
  "nbformat": 4,
  "nbformat_minor": 0,
  "metadata": {
    "colab": {
      "name": "Untitled2.ipynb",
      "provenance": [],
      "authorship_tag": "ABX9TyMcdztnOfzt5mMeeYF18hpD",
      "include_colab_link": true
    },
    "kernelspec": {
      "name": "python3",
      "display_name": "Python 3"
    },
    "language_info": {
      "name": "python"
    }
  },
  "cells": [
    {
      "cell_type": "markdown",
      "metadata": {
        "id": "view-in-github",
        "colab_type": "text"
      },
      "source": [
        "<a href=\"https://colab.research.google.com/github/Enz-Lima/PythonBegins/blob/main/PRATIC10.ipynb\" target=\"_parent\"><img src=\"https://colab.research.google.com/assets/colab-badge.svg\" alt=\"Open In Colab\"/></a>"
      ]
    },
    {
      "cell_type": "code",
      "execution_count": 3,
      "metadata": {
        "id": "ClBOf-N33GE9",
        "colab": {
          "base_uri": "https://localhost:8080/"
        },
        "outputId": "597379d5-d4fa-43a4-9738-5b0200602a28"
      },
      "outputs": [
        {
          "output_type": "stream",
          "name": "stdout",
          "text": [
            "3.0\n"
          ]
        }
      ],
      "source": [
        "import math as m\n",
        "\n",
        "print(m.sqrt(9))"
      ]
    },
    {
      "cell_type": "code",
      "source": [
        "from math import sqrt\n",
        "\n",
        "print(sqrt(9))"
      ],
      "metadata": {
        "colab": {
          "base_uri": "https://localhost:8080/"
        },
        "id": "3Ycqm2RDH_Lg",
        "outputId": "938692b4-f158-4ab2-be14-2d7aceb44380"
      },
      "execution_count": 4,
      "outputs": [
        {
          "output_type": "stream",
          "name": "stdout",
          "text": [
            "3.0\n"
          ]
        }
      ]
    },
    {
      "cell_type": "code",
      "source": [
        "# Fixation Exercise One:\n",
        "grades = [9, 7, 7, 10, 3, 9, 6, 6, 2]\n",
        "\n",
        "grades.count(7) # How much students haven seven as grade\n",
        "grades[-1] = 4\n",
        "\n",
        "print(grades)"
      ],
      "metadata": {
        "colab": {
          "base_uri": "https://localhost:8080/"
        },
        "id": "Vhf7xWf6I4zY",
        "outputId": "76298370-4999-41b1-a9ed-58655bbbc8b0"
      },
      "execution_count": 5,
      "outputs": [
        {
          "output_type": "stream",
          "name": "stdout",
          "text": [
            "[9, 7, 7, 10, 3, 9, 6, 6, 4]\n"
          ]
        }
      ]
    },
    {
      "cell_type": "code",
      "source": [
        "# Exercise One\n",
        "words = ('Letter', 'Book', 'Pencil', 'Notebook', 'Monitor', 'Music Box', 'Hard Drive', 'Smartphone', 'Motherboard', 'Backpack')\n",
        "vowels = ['A', 'a', 'E', 'e', 'I', 'i', 'O', 'o', 'U', 'u']\n",
        "i_word = i_letter = []\n",
        "pos = []\n",
        "loc = []\n",
        "\n",
        "for i in range(len(words)):\n",
        "  for c in range(len(words[i])):\n",
        "    letter = words[i][c]\n",
        "    if letter in vowels:\n",
        "      word = words[i]\n",
        "      letter = words[i][c]\n",
        "      loc.append([word, letter])\n",
        "      i_word = i + 1 \n",
        "      i_letter = c + 1\n",
        "      pos.append([i_word, i_letter])\n",
        "      \n",
        "print(loc)\n",
        "print(pos)"
      ],
      "metadata": {
        "colab": {
          "base_uri": "https://localhost:8080/"
        },
        "id": "dubrZyWQJakR",
        "outputId": "769dfb51-cba8-4e5f-969f-d9c53aac0936"
      },
      "execution_count": 18,
      "outputs": [
        {
          "output_type": "stream",
          "name": "stdout",
          "text": [
            "[['Letter', 'e'], ['Letter', 'e'], ['Book', 'o'], ['Book', 'o'], ['Pencil', 'e'], ['Pencil', 'i'], ['Notebook', 'o'], ['Notebook', 'e'], ['Notebook', 'o'], ['Notebook', 'o'], ['Monitor', 'o'], ['Monitor', 'i'], ['Monitor', 'o'], ['Music Box', 'u'], ['Music Box', 'i'], ['Music Box', 'o'], ['Hard Drive', 'a'], ['Hard Drive', 'i'], ['Hard Drive', 'e'], ['Smartphone', 'a'], ['Smartphone', 'o'], ['Smartphone', 'e'], ['Motherboard', 'o'], ['Motherboard', 'e'], ['Motherboard', 'o'], ['Motherboard', 'a'], ['Backpack', 'a'], ['Backpack', 'a']]\n",
            "[[1, 2], [1, 5], [2, 2], [2, 3], [3, 2], [3, 5], [4, 2], [4, 4], [4, 6], [4, 7], [5, 2], [5, 4], [5, 6], [6, 2], [6, 4], [6, 8], [7, 2], [7, 8], [7, 10], [8, 3], [8, 8], [8, 10], [9, 2], [9, 5], [9, 8], [9, 9], [10, 2], [10, 6]]\n"
          ]
        }
      ]
    },
    {
      "cell_type": "code",
      "source": [
        "# Exercise Two\n",
        "from random import randint\n",
        "\n",
        "res = []\n",
        "ct_m = ct_w = ct_l = 0\n",
        "option = {1: 'Rock', 2:'Paper', 3:'Scissor'}\n",
        "\n",
        "while True:\n",
        "  pl_c = int(input('Choose a option bellow: \\n [1] Rock \\n [2] Paper \\n [3] Scissor \\n [0] Quit \\n'))\n",
        "  cp_c = randint(1,3)\n",
        "  ct_m += 1  \n",
        "\n",
        "  if pl_c == 1:\n",
        "    if pl_c == 1 and cp_c == 1:\n",
        "      res_s = 'Tie!'\n",
        "      print(res_s)\n",
        "      res.append(['Match: ',ct_m,'Player choose: ', option[pl_c], 'Computer choose: ', option[cp_c],'Final result: ', res_s])\n",
        "      print('Match: ',ct_m,'Player choose: ', option[pl_c], 'Computer choose: ', option[cp_c],'Final result: ', res_s)\n",
        "    \n",
        "    elif pl_c == 1 and cp_c == 2:\n",
        "      res_s = 'Computer Wins!'\n",
        "      print(res_s)\n",
        "      res.append(['Match: ',ct_m,'Player choose: ', option[pl_c], 'Computer choose: ', option[cp_c],'Final result: ', res_s])\n",
        "      print('Match: ',ct_m,'Player choose: ', option[pl_c], 'Computer choose: ', option[cp_c],'Final result: ', res_s)\n",
        "      ct_l += 1\n",
        "\n",
        "    elif pl_c == 1 and cp_c == 3:\n",
        "      res_s = 'Player Wins!'\n",
        "      print(res_s)\n",
        "      res.append(['Match: ',ct_m,'Player choose: ', option[pl_c], 'Computer choose: ', option[cp_c],'Final result: ', res_s])\n",
        "      print('Match: ',ct_m,'Player choose: ', option[pl_c], 'Computer choose: ', option[cp_c],'Final result: ', res_s)\n",
        "      ct_w += 1\n",
        "\n",
        "  elif pl_c == 2:\n",
        "    if pl_c == 2 and cp_c == 1:\n",
        "      res_s = 'Player Wins!'\n",
        "      print(res_s)\n",
        "      res.append(['Match: ',ct_m,'Player choose: ', option[pl_c], 'Computer choose: ', option[cp_c],'Final result: ', res_s])\n",
        "      print('Match: ',ct_m,'Player choose: ', option[pl_c], 'Computer choose: ', option[cp_c],'Final result: ', res_s)\n",
        "      ct_w += 1\n",
        "\n",
        "    elif pl_c == 2 and cp_c == 2:\n",
        "      res_s = 'Tie!'\n",
        "      print(res_s)\n",
        "      res.append(['Match: ',ct_m,'Player choose: ', option[pl_c], 'Computer choose: ', option[cp_c],'Final result: ', res_s])\n",
        "      print('Match: ',ct_m,'Player choose: ', option[pl_c], 'Computer choose: ', option[cp_c],'Final result: ', res_s)\n",
        "      \n",
        "    elif pl_c == 2 and cp_c == 3:\n",
        "      res_s = 'Computer Wins!'\n",
        "      print(res_s)\n",
        "      res.append(['Match: ',ct_m,'Player choose: ', option[pl_c], 'Computer choose: ', option[cp_c],'Final result: ', res_s])\n",
        "      print('Match: ',ct_m,'Player choose: ', option[pl_c], 'Computer choose: ', option[cp_c],'Final result: ', res_s)\n",
        "      ct_l += 1\n",
        "\n",
        "  elif pl_c == 3:\n",
        "    if pl_c == 3 and cp_c == 1:\n",
        "      res_s = 'Computer Wins!'\n",
        "      print(res_s)\n",
        "      res.append(['Match: ',ct_m,'Player choose: ', option[pl_c], 'Computer choose: ', option[cp_c],'Final result: ', res_s])\n",
        "      print('Match: ',ct_m,'Player choose: ', option[pl_c], 'Computer choose: ', option[cp_c],'Final result: ', res_s)\n",
        "      ct_l += 1\n",
        "\n",
        "    elif pl_c == 3 and cp_c == 2:\n",
        "      res_s = 'Player Wins!'\n",
        "      print(res_s)\n",
        "      res.append(['Match: ',ct_m,'Player choose: ', option[pl_c], 'Computer choose: ', option[cp_c],'Final result: ', res_s])\n",
        "      print('Match: ',ct_m,'Player choose: ', option[pl_c], 'Computer choose: ', option[cp_c],'Final result: ', res_s)\n",
        "      ct_w += 1\n",
        "\n",
        "    elif pl_c == 3 and cp_c == 3:\n",
        "      res_s = 'Tie!'\n",
        "      print(res_s)\n",
        "      res.append(['Match: ',ct_m,'Player choose: ', option[pl_c], 'Computer choose: ', option[cp_c],'Final result: ', res_s])\n",
        "      print('Match: ',ct_m,'Player choose: ', option[pl_c], 'Computer choose: ', option[cp_c],'Final result: ', res_s)\n",
        "\n",
        "  elif pl_c == 0:\n",
        "    print('Finishing...')\n",
        "    print('.')\n",
        "    print('..')\n",
        "    print('...')\n",
        "    break\n",
        "  \n",
        "  else:\n",
        "    print(\"You've entered a invalid value, try again...\")\n",
        "\n",
        "print('-' * 50)\n",
        "print('\\n')\n",
        "\n",
        "if ct_w > ct_l:\n",
        "  print('Player has Won!!!\\n')\n",
        "elif ct_l > ct_w:\n",
        "  print('Computer has Won!!!\\n')\n",
        "else:\n",
        "  print('We have a TIE!!!!!\\n')\n",
        "\n",
        "print('-' * 50)\n",
        "print('\\n')\n",
        "\n",
        "print(res)"
      ],
      "metadata": {
        "id": "Z6O7HkpLRzQA"
      },
      "execution_count": null,
      "outputs": []
    },
    {
      "cell_type": "code",
      "source": [
        "import datetime\n",
        "c_p = sum_age = avg =0\n",
        "current_time = datetime.datetime.now()\n",
        "res = {'Id':[],'Name':[], 'Brith Year':[], 'Sex':[], 'Age':[]}\n",
        "f_res = {'Id':[],'Name':[], 'Brith Year':[], 'Sex':[], 'Age':[]}\n",
        "m_res = {'Id':[],'Name':[], 'Brith Year':[], 'Sex':[], 'Age':[]}\n",
        "\n",
        "tot_p = int(input('Quantas pessoas deseja cadastrar: '))\n",
        "\n",
        "while c_p in range(tot_p):\n",
        "  c_p += 1\n",
        "  res['Id'].append(c_p)\n",
        "\n",
        "  name = input('Insert the name: ')\n",
        "  res['Name'].append(name)\n",
        "  \n",
        "  b_year = int(input('Insert the birth year: '))\n",
        "  res['Brith Year'].append(b_year)\n",
        "  \n",
        "  a_year = current_time.year\n",
        "  age = a_year - b_year\n",
        "  sum_age += age\n",
        "  avg = sum_age / c_p\n",
        "  res['Age'].append(age)\n",
        "\n",
        "  sex = input('Insert a sex: [M/F]').upper()\n",
        "  res['Sex'].append(sex[0])\n",
        "  \n",
        "  if sex == 'M' and age > avg:\n",
        "    m_res['Id'].append(c_p)\n",
        "    m_res['Name'].append(name)\n",
        "    m_res['Brith Year'].append(b_year)\n",
        "    m_res['Age'].append(age)\n",
        "    m_res['Sex'].append(sex[0])\n",
        "\n",
        "  if sex == 'F' and age < 30:\n",
        "    f_res['Id'].append(c_p)\n",
        "    f_res['Name'].append(name)\n",
        "    f_res['Brith Year'].append(b_year)\n",
        "    f_res['Age'].append(age)\n",
        "    f_res['Sex'].append(sex[0])\n",
        "\n",
        "print('Total of registers made: ')\n",
        "print(c_p)\n",
        "print('The average of age: ')\n",
        "print(avg)\n",
        "print('A list of woman with age is less that thirty: ')\n",
        "print(f_res)\n",
        "print('A list of man with age above the average: ')\n",
        "print(m_res)\n",
        "print('All registers: ')\n",
        "print(res)"
      ],
      "metadata": {
        "id": "P2wFlbv_pjXA",
        "outputId": "82bfdc82-6c99-405a-97f1-bbcde1c62f01",
        "colab": {
          "base_uri": "https://localhost:8080/"
        }
      },
      "execution_count": 41,
      "outputs": [
        {
          "output_type": "stream",
          "name": "stdout",
          "text": [
            "Quantas pessoas deseja cadastrar: 3\n",
            "Insert the name: Mario\n",
            "Insert the birth year: 2000\n",
            "Insert a sex: [M/F]M\n",
            "Insert the name: Maria\n",
            "Insert the birth year: 1990\n",
            "Insert a sex: [M/F]F\n",
            "Insert the name: Felipe\n",
            "Insert the birth year: 1995\n",
            "Insert a sex: [M/F]m\n",
            "Total of registers made: \n",
            "3\n",
            "The average of age: \n",
            "27.0\n",
            "A list of woman with age is less that thirty: \n",
            "{'Id': [], 'Name': [], 'Brith Year': [], 'Sex': [], 'Age': []}\n",
            "A list of man with age above the average: \n",
            "{'Id': [], 'Name': [], 'Brith Year': [], 'Sex': [], 'Age': []}\n",
            "All registers: \n",
            "{'Id': [1, 2, 3], 'Name': ['Mario', 'Maria', 'Felipe'], 'Brith Year': [2000, 1990, 1995], 'Sex': ['M', 'F', 'M'], 'Age': [22, 32, 27]}\n"
          ]
        }
      ]
    }
  ]
}