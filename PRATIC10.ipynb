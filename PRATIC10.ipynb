{
  "nbformat": 4,
  "nbformat_minor": 0,
  "metadata": {
    "colab": {
      "name": "Untitled2.ipynb",
      "provenance": [],
      "authorship_tag": "ABX9TyOUczNnIhtZndqWn6UFbmI6",
      "include_colab_link": true
    },
    "kernelspec": {
      "name": "python3",
      "display_name": "Python 3"
    },
    "language_info": {
      "name": "python"
    }
  },
  "cells": [
    {
      "cell_type": "markdown",
      "metadata": {
        "id": "view-in-github",
        "colab_type": "text"
      },
      "source": [
        "<a href=\"https://colab.research.google.com/github/Enz-Lima/PythonBegins/blob/main/PRATIC10.ipynb\" target=\"_parent\"><img src=\"https://colab.research.google.com/assets/colab-badge.svg\" alt=\"Open In Colab\"/></a>"
      ]
    },
    {
      "cell_type": "code",
      "execution_count": 3,
      "metadata": {
        "id": "ClBOf-N33GE9",
        "outputId": "597379d5-d4fa-43a4-9738-5b0200602a28",
        "colab": {
          "base_uri": "https://localhost:8080/"
        }
      },
      "outputs": [
        {
          "output_type": "stream",
          "name": "stdout",
          "text": [
            "3.0\n"
          ]
        }
      ],
      "source": [
        "import math as m\n",
        "\n",
        "print(m.sqrt(9))"
      ]
    },
    {
      "cell_type": "code",
      "source": [
        "from math import sqrt\n",
        "\n",
        "print(sqrt(9))"
      ],
      "metadata": {
        "id": "3Ycqm2RDH_Lg",
        "outputId": "938692b4-f158-4ab2-be14-2d7aceb44380",
        "colab": {
          "base_uri": "https://localhost:8080/"
        }
      },
      "execution_count": 4,
      "outputs": [
        {
          "output_type": "stream",
          "name": "stdout",
          "text": [
            "3.0\n"
          ]
        }
      ]
    },
    {
      "cell_type": "code",
      "source": [
        "# Fixation Exercise One:\n",
        "grades = [9, 7, 7, 10, 3, 9, 6, 6, 2]\n",
        "\n",
        "grades.count(7) # How much students haven seven as grade\n",
        "grades[-1] = 4\n",
        "\n",
        "print(grades)"
      ],
      "metadata": {
        "id": "Vhf7xWf6I4zY",
        "outputId": "76298370-4999-41b1-a9ed-58655bbbc8b0",
        "colab": {
          "base_uri": "https://localhost:8080/"
        }
      },
      "execution_count": 5,
      "outputs": [
        {
          "output_type": "stream",
          "name": "stdout",
          "text": [
            "[9, 7, 7, 10, 3, 9, 6, 6, 4]\n"
          ]
        }
      ]
    },
    {
      "cell_type": "code",
      "source": [
        "# Exercise One\n",
        "words = ('Letter', 'Book', 'Pencil', 'Notebook', 'Monitor', 'Music Box', 'Hard Drive', 'Smartphone', 'Motherboard', 'Backpack')\n",
        "vowels = ['A', 'a', 'E', 'e', 'I', 'i', 'O', 'o', 'U', 'u']\n",
        "i_word = i_letter = []\n",
        "pos = []\n",
        "loc = []\n",
        "\n",
        "for i in range(len(words)):\n",
        "  for c in range(len(words[i])):\n",
        "    letter = words[i][c]\n",
        "    if letter in vowels:\n",
        "      word = words[i]\n",
        "      letter = words[i][c]\n",
        "      loc.append([word, letter])\n",
        "      i_word = i + 1 \n",
        "      i_letter = c + 1\n",
        "      pos.append([i_word, i_letter])\n",
        "      \n",
        "print(loc)\n",
        "print(pos)"
      ],
      "metadata": {
        "id": "dubrZyWQJakR",
        "outputId": "769dfb51-cba8-4e5f-969f-d9c53aac0936",
        "colab": {
          "base_uri": "https://localhost:8080/"
        }
      },
      "execution_count": 18,
      "outputs": [
        {
          "output_type": "stream",
          "name": "stdout",
          "text": [
            "[['Letter', 'e'], ['Letter', 'e'], ['Book', 'o'], ['Book', 'o'], ['Pencil', 'e'], ['Pencil', 'i'], ['Notebook', 'o'], ['Notebook', 'e'], ['Notebook', 'o'], ['Notebook', 'o'], ['Monitor', 'o'], ['Monitor', 'i'], ['Monitor', 'o'], ['Music Box', 'u'], ['Music Box', 'i'], ['Music Box', 'o'], ['Hard Drive', 'a'], ['Hard Drive', 'i'], ['Hard Drive', 'e'], ['Smartphone', 'a'], ['Smartphone', 'o'], ['Smartphone', 'e'], ['Motherboard', 'o'], ['Motherboard', 'e'], ['Motherboard', 'o'], ['Motherboard', 'a'], ['Backpack', 'a'], ['Backpack', 'a']]\n",
            "[[1, 2], [1, 5], [2, 2], [2, 3], [3, 2], [3, 5], [4, 2], [4, 4], [4, 6], [4, 7], [5, 2], [5, 4], [5, 6], [6, 2], [6, 4], [6, 8], [7, 2], [7, 8], [7, 10], [8, 3], [8, 8], [8, 10], [9, 2], [9, 5], [9, 8], [9, 9], [10, 2], [10, 6]]\n"
          ]
        }
      ]
    }
  ]
}