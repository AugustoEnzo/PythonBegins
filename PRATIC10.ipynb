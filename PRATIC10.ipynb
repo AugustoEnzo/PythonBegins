{
  "nbformat": 4,
  "nbformat_minor": 0,
  "metadata": {
    "colab": {
      "name": "Untitled2.ipynb",
      "provenance": [],
      "authorship_tag": "ABX9TyO8rrefnWNtmLjUgufXBNaz",
      "include_colab_link": true
    },
    "kernelspec": {
      "name": "python3",
      "display_name": "Python 3"
    },
    "language_info": {
      "name": "python"
    }
  },
  "cells": [
    {
      "cell_type": "markdown",
      "metadata": {
        "id": "view-in-github",
        "colab_type": "text"
      },
      "source": [
        "<a href=\"https://colab.research.google.com/github/Enz-Lima/PythonBegins/blob/main/PRATIC10.ipynb\" target=\"_parent\"><img src=\"https://colab.research.google.com/assets/colab-badge.svg\" alt=\"Open In Colab\"/></a>"
      ]
    },
    {
      "cell_type": "code",
      "execution_count": 3,
      "metadata": {
        "id": "ClBOf-N33GE9",
        "colab": {
          "base_uri": "https://localhost:8080/"
        },
        "outputId": "597379d5-d4fa-43a4-9738-5b0200602a28"
      },
      "outputs": [
        {
          "output_type": "stream",
          "name": "stdout",
          "text": [
            "3.0\n"
          ]
        }
      ],
      "source": [
        "import math as m\n",
        "\n",
        "print(m.sqrt(9))"
      ]
    },
    {
      "cell_type": "code",
      "source": [
        "from math import sqrt\n",
        "\n",
        "print(sqrt(9))"
      ],
      "metadata": {
        "colab": {
          "base_uri": "https://localhost:8080/"
        },
        "id": "3Ycqm2RDH_Lg",
        "outputId": "938692b4-f158-4ab2-be14-2d7aceb44380"
      },
      "execution_count": 4,
      "outputs": [
        {
          "output_type": "stream",
          "name": "stdout",
          "text": [
            "3.0\n"
          ]
        }
      ]
    },
    {
      "cell_type": "code",
      "source": [
        "# Fixation Exercise One:\n",
        "grades = [9, 7, 7, 10, 3, 9, 6, 6, 2]\n",
        "\n",
        "grades.count(7) # How much students haven seven as grade\n",
        "grades[-1] = 4\n",
        "\n",
        "print(grades)"
      ],
      "metadata": {
        "colab": {
          "base_uri": "https://localhost:8080/"
        },
        "id": "Vhf7xWf6I4zY",
        "outputId": "76298370-4999-41b1-a9ed-58655bbbc8b0"
      },
      "execution_count": 5,
      "outputs": [
        {
          "output_type": "stream",
          "name": "stdout",
          "text": [
            "[9, 7, 7, 10, 3, 9, 6, 6, 4]\n"
          ]
        }
      ]
    },
    {
      "cell_type": "code",
      "source": [
        "# Exercise One\n",
        "words = ('Letter', 'Book', 'Pencil', 'Notebook', 'Monitor', 'Music Box', 'Hard Drive', 'Smartphone', 'Motherboard', 'Backpack')\n",
        "vowels = ['A', 'a', 'E', 'e', 'I', 'i', 'O', 'o', 'U', 'u']\n",
        "i_word = i_letter = []\n",
        "pos = []\n",
        "loc = []\n",
        "\n",
        "for i in range(len(words)):\n",
        "  for c in range(len(words[i])):\n",
        "    letter = words[i][c]\n",
        "    if letter in vowels:\n",
        "      word = words[i]\n",
        "      letter = words[i][c]\n",
        "      loc.append([word, letter])\n",
        "      i_word = i + 1 \n",
        "      i_letter = c + 1\n",
        "      pos.append([i_word, i_letter])\n",
        "      \n",
        "print(loc)\n",
        "print(pos)"
      ],
      "metadata": {
        "colab": {
          "base_uri": "https://localhost:8080/"
        },
        "id": "dubrZyWQJakR",
        "outputId": "769dfb51-cba8-4e5f-969f-d9c53aac0936"
      },
      "execution_count": 18,
      "outputs": [
        {
          "output_type": "stream",
          "name": "stdout",
          "text": [
            "[['Letter', 'e'], ['Letter', 'e'], ['Book', 'o'], ['Book', 'o'], ['Pencil', 'e'], ['Pencil', 'i'], ['Notebook', 'o'], ['Notebook', 'e'], ['Notebook', 'o'], ['Notebook', 'o'], ['Monitor', 'o'], ['Monitor', 'i'], ['Monitor', 'o'], ['Music Box', 'u'], ['Music Box', 'i'], ['Music Box', 'o'], ['Hard Drive', 'a'], ['Hard Drive', 'i'], ['Hard Drive', 'e'], ['Smartphone', 'a'], ['Smartphone', 'o'], ['Smartphone', 'e'], ['Motherboard', 'o'], ['Motherboard', 'e'], ['Motherboard', 'o'], ['Motherboard', 'a'], ['Backpack', 'a'], ['Backpack', 'a']]\n",
            "[[1, 2], [1, 5], [2, 2], [2, 3], [3, 2], [3, 5], [4, 2], [4, 4], [4, 6], [4, 7], [5, 2], [5, 4], [5, 6], [6, 2], [6, 4], [6, 8], [7, 2], [7, 8], [7, 10], [8, 3], [8, 8], [8, 10], [9, 2], [9, 5], [9, 8], [9, 9], [10, 2], [10, 6]]\n"
          ]
        }
      ]
    },
    {
      "cell_type": "code",
      "source": [
        "# Exercise Two\n",
        "from random import randint\n",
        "\n",
        "res = []\n",
        "ct_m = ct_w = ct_l = 0\n",
        "option = {1: 'Rock', 2:'Paper', 3:'Scissor'}\n",
        "\n",
        "while True:\n",
        "  pl_c = int(input('Choose a option bellow: \\n [1] Rock \\n [2] Paper \\n [3] Scissor \\n [0] Quit \\n'))\n",
        "  cp_c = randint(1,3)\n",
        "  ct_m += 1  \n",
        "\n",
        "  if pl_c == 1:\n",
        "    if pl_c == 1 and cp_c == 1:\n",
        "      res_s = 'Tie!'\n",
        "      print(res_s)\n",
        "      res.append(['Match: ',ct_m,'Player choose: ', option[pl_c], 'Computer choose: ', option[cp_c],'Final result: ', res_s])\n",
        "      print('Match: ',ct_m,'Player choose: ', option[pl_c], 'Computer choose: ', option[cp_c],'Final result: ', res_s)\n",
        "    \n",
        "    elif pl_c == 1 and cp_c == 2:\n",
        "      res_s = 'Computer Wins!'\n",
        "      print(res_s)\n",
        "      res.append(['Match: ',ct_m,'Player choose: ', option[pl_c], 'Computer choose: ', option[cp_c],'Final result: ', res_s])\n",
        "      print('Match: ',ct_m,'Player choose: ', option[pl_c], 'Computer choose: ', option[cp_c],'Final result: ', res_s)\n",
        "      ct_l += 1\n",
        "\n",
        "    elif pl_c == 1 and cp_c == 3:\n",
        "      res_s = 'Player Wins!'\n",
        "      print(res_s)\n",
        "      res.append(['Match: ',ct_m,'Player choose: ', option[pl_c], 'Computer choose: ', option[cp_c],'Final result: ', res_s])\n",
        "      print('Match: ',ct_m,'Player choose: ', option[pl_c], 'Computer choose: ', option[cp_c],'Final result: ', res_s)\n",
        "      ct_w += 1\n",
        "\n",
        "  elif pl_c == 2:\n",
        "    if pl_c == 2 and cp_c == 1:\n",
        "      res_s = 'Player Wins!'\n",
        "      print(res_s)\n",
        "      res.append(['Match: ',ct_m,'Player choose: ', option[pl_c], 'Computer choose: ', option[cp_c],'Final result: ', res_s])\n",
        "      print('Match: ',ct_m,'Player choose: ', option[pl_c], 'Computer choose: ', option[cp_c],'Final result: ', res_s)\n",
        "      ct_w += 1\n",
        "\n",
        "    elif pl_c == 2 and cp_c == 2:\n",
        "      res_s = 'Tie!'\n",
        "      print(res_s)\n",
        "      res.append(['Match: ',ct_m,'Player choose: ', option[pl_c], 'Computer choose: ', option[cp_c],'Final result: ', res_s])\n",
        "      print('Match: ',ct_m,'Player choose: ', option[pl_c], 'Computer choose: ', option[cp_c],'Final result: ', res_s)\n",
        "      \n",
        "    elif pl_c == 2 and cp_c == 3:\n",
        "      res_s = 'Computer Wins!'\n",
        "      print(res_s)\n",
        "      res.append(['Match: ',ct_m,'Player choose: ', option[pl_c], 'Computer choose: ', option[cp_c],'Final result: ', res_s])\n",
        "      print('Match: ',ct_m,'Player choose: ', option[pl_c], 'Computer choose: ', option[cp_c],'Final result: ', res_s)\n",
        "      ct_l += 1\n",
        "\n",
        "  elif pl_c == 3:\n",
        "    if pl_c == 3 and cp_c == 1:\n",
        "      res_s = 'Computer Wins!'\n",
        "      print(res_s)\n",
        "      res.append(['Match: ',ct_m,'Player choose: ', option[pl_c], 'Computer choose: ', option[cp_c],'Final result: ', res_s])\n",
        "      print('Match: ',ct_m,'Player choose: ', option[pl_c], 'Computer choose: ', option[cp_c],'Final result: ', res_s)\n",
        "      ct_l += 1\n",
        "\n",
        "    elif pl_c == 3 and cp_c == 2:\n",
        "      res_s = 'Player Wins!'\n",
        "      print(res_s)\n",
        "      res.append(['Match: ',ct_m,'Player choose: ', option[pl_c], 'Computer choose: ', option[cp_c],'Final result: ', res_s])\n",
        "      print('Match: ',ct_m,'Player choose: ', option[pl_c], 'Computer choose: ', option[cp_c],'Final result: ', res_s)\n",
        "      ct_w += 1\n",
        "\n",
        "    elif pl_c == 3 and cp_c == 3:\n",
        "      res_s = 'Tie!'\n",
        "      print(res_s)\n",
        "      res.append(['Match: ',ct_m,'Player choose: ', option[pl_c], 'Computer choose: ', option[cp_c],'Final result: ', res_s])\n",
        "      print('Match: ',ct_m,'Player choose: ', option[pl_c], 'Computer choose: ', option[cp_c],'Final result: ', res_s)\n",
        "\n",
        "  elif pl_c == 0:\n",
        "    print('Finishing...')\n",
        "    print('.')\n",
        "    print('..')\n",
        "    print('...')\n",
        "    break\n",
        "  \n",
        "  else:\n",
        "    print(\"You've entered a invalid value, try again...\")\n",
        "\n",
        "print('-' * 50)\n",
        "print('\\n')\n",
        "\n",
        "if ct_w > ct_l:\n",
        "  print('Player has Won!!!\\n')\n",
        "elif ct_l > ct_w:\n",
        "  print('Computer has Won!!!\\n')\n",
        "else:\n",
        "  print('We have a TIE!!!!!\\n')\n",
        "\n",
        "print('-' * 50)\n",
        "print('\\n')\n",
        "\n",
        "print(res)"
      ],
      "metadata": {
        "id": "Z6O7HkpLRzQA",
        "outputId": "272f978e-23a1-4bfa-e681-c770f9334a7b",
        "colab": {
          "base_uri": "https://localhost:8080/"
        }
      },
      "execution_count": 24,
      "outputs": [
        {
          "output_type": "stream",
          "name": "stdout",
          "text": [
            "Choose a option bellow: \n",
            " [1] Rock \n",
            " [2] Paper \n",
            " [3] Scissor \n",
            " [0] Quit \n",
            "3\n",
            "Computer Wins!\n",
            "Match:  1 Player choose:  Scissor Computer choose:  Rock Final result:  Computer Wins!\n",
            "Choose a option bellow: \n",
            " [1] Rock \n",
            " [2] Paper \n",
            " [3] Scissor \n",
            " [0] Quit \n",
            "2\n",
            "Computer Wins!\n",
            "Match:  2 Player choose:  Paper Computer choose:  Scissor Final result:  Computer Wins!\n",
            "Choose a option bellow: \n",
            " [1] Rock \n",
            " [2] Paper \n",
            " [3] Scissor \n",
            " [0] Quit \n",
            "1\n",
            "Computer Wins!\n",
            "Match:  3 Player choose:  Rock Computer choose:  Paper Final result:  Computer Wins!\n",
            "Choose a option bellow: \n",
            " [1] Rock \n",
            " [2] Paper \n",
            " [3] Scissor \n",
            " [0] Quit \n",
            "2\n",
            "Player Wins!\n",
            "Match:  4 Player choose:  Paper Computer choose:  Rock Final result:  Player Wins!\n",
            "Choose a option bellow: \n",
            " [1] Rock \n",
            " [2] Paper \n",
            " [3] Scissor \n",
            " [0] Quit \n",
            "1\n",
            "Computer Wins!\n",
            "Match:  5 Player choose:  Rock Computer choose:  Paper Final result:  Computer Wins!\n",
            "Choose a option bellow: \n",
            " [1] Rock \n",
            " [2] Paper \n",
            " [3] Scissor \n",
            " [0] Quit \n",
            "3\n",
            "Computer Wins!\n",
            "Match:  6 Player choose:  Scissor Computer choose:  Rock Final result:  Computer Wins!\n",
            "Choose a option bellow: \n",
            " [1] Rock \n",
            " [2] Paper \n",
            " [3] Scissor \n",
            " [0] Quit \n",
            "2\n",
            "Tie!\n",
            "Match:  7 Player choose:  Paper Computer choose:  Paper Final result:  Tie!\n",
            "Choose a option bellow: \n",
            " [1] Rock \n",
            " [2] Paper \n",
            " [3] Scissor \n",
            " [0] Quit \n",
            "1\n",
            "Computer Wins!\n",
            "Match:  8 Player choose:  Rock Computer choose:  Paper Final result:  Computer Wins!\n",
            "Choose a option bellow: \n",
            " [1] Rock \n",
            " [2] Paper \n",
            " [3] Scissor \n",
            " [0] Quit \n",
            "2\n",
            "Player Wins!\n",
            "Match:  9 Player choose:  Paper Computer choose:  Rock Final result:  Player Wins!\n",
            "Choose a option bellow: \n",
            " [1] Rock \n",
            " [2] Paper \n",
            " [3] Scissor \n",
            " [0] Quit \n",
            "0\n",
            "Finishing...\n",
            ".\n",
            "..\n",
            "...\n",
            "--------------------------------------------------\n",
            "\n",
            "\n",
            "Computer has Won!!!\n",
            "\n",
            "--------------------------------------------------\n",
            "\n",
            "\n",
            "[['Match: ', 1, 'Player choose: ', 'Scissor', 'Computer choose: ', 'Rock', 'Final result: ', 'Computer Wins!'], ['Match: ', 2, 'Player choose: ', 'Paper', 'Computer choose: ', 'Scissor', 'Final result: ', 'Computer Wins!'], ['Match: ', 3, 'Player choose: ', 'Rock', 'Computer choose: ', 'Paper', 'Final result: ', 'Computer Wins!'], ['Match: ', 4, 'Player choose: ', 'Paper', 'Computer choose: ', 'Rock', 'Final result: ', 'Player Wins!'], ['Match: ', 5, 'Player choose: ', 'Rock', 'Computer choose: ', 'Paper', 'Final result: ', 'Computer Wins!'], ['Match: ', 6, 'Player choose: ', 'Scissor', 'Computer choose: ', 'Rock', 'Final result: ', 'Computer Wins!'], ['Match: ', 7, 'Player choose: ', 'Paper', 'Computer choose: ', 'Paper', 'Final result: ', 'Tie!'], ['Match: ', 8, 'Player choose: ', 'Rock', 'Computer choose: ', 'Paper', 'Final result: ', 'Computer Wins!'], ['Match: ', 9, 'Player choose: ', 'Paper', 'Computer choose: ', 'Rock', 'Final result: ', 'Player Wins!']]\n"
          ]
        }
      ]
    }
  ]
}